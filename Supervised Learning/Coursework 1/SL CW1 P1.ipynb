{
 "cells": [
  {
   "cell_type": "markdown",
   "metadata": {},
   "source": [
    "# 1.1 Linear Regression"
   ]
  },
  {
   "cell_type": "markdown",
   "metadata": {},
   "source": [
    "## Question 1. "
   ]
  },
  {
   "cell_type": "markdown",
   "metadata": {},
   "source": [
    "### Part A."
   ]
  },
  {
   "cell_type": "code",
   "execution_count": 1,
   "metadata": {},
   "outputs": [],
   "source": [
    "import pandas as pd\n",
    "import numpy as np\n",
    "import math\n",
    "import matplotlib.pyplot as plt\n",
    "from matplotlib import rcParams\n",
    "import re\n",
    "from mpl_toolkits import mplot3d\n",
    "from mpl_toolkits.mplot3d import Axes3D"
   ]
  },
  {
   "cell_type": "code",
   "execution_count": 2,
   "metadata": {},
   "outputs": [],
   "source": [
    "# Generating data \n",
    "x = np.array([1, 2, 3, 4]).reshape(-1, 1)\n",
    "y = np.array([3, 2, 0, 5]).reshape(-1, 1)"
   ]
  },
  {
   "cell_type": "code",
   "execution_count": 2,
   "metadata": {},
   "outputs": [],
   "source": [
    "# Solves for W, given X and y\n",
    "# W = inv(X.T*X)*X.T*y\n",
    "def weights_calculator(x_poly, y):\n",
    "    w = np.linalg.inv(np.matmul(x_poly.T, x_poly))\n",
    "    w = np.matmul(w, x_poly.T)\n",
    "    w = np.matmul(w, y)\n",
    "    return w"
   ]
  },
  {
   "cell_type": "code",
   "execution_count": 4,
   "metadata": {},
   "outputs": [
    {
     "name": "stdout",
     "output_type": "stream",
     "text": [
      "W at k=1: \n",
      " [[2.5]]\n",
      "W at k=2: \n",
      " [[1.5]\n",
      " [0.4]]\n",
      "W at k=3: \n",
      " [[ 9. ]\n",
      " [-7.1]\n",
      " [ 1.5]]\n",
      "W at k=4: \n",
      " [[-5.        ]\n",
      " [15.16666667]\n",
      " [-8.5       ]\n",
      " [ 1.33333333]]\n"
     ]
    }
   ],
   "source": [
    "# Calculating weights for each k = 1, ..., 4\n",
    "basis = np.array([1+x-x, x, x**2, x**3])\n",
    "w1 = weights_calculator(basis[0], y)\n",
    "print(\"W at k=1: \\n\", w1)\n",
    "\n",
    "w2 = weights_calculator(basis[:2, :4].reshape(2, 4).T, y)\n",
    "print(\"W at k=2: \\n\", w2)\n",
    "\n",
    "w3 = weights_calculator(basis[:3, :4].reshape(3, 4).T, y)\n",
    "print(\"W at k=3: \\n\", w3)\n",
    "\n",
    "w4 = weights_calculator(basis[:4, :4].reshape(4, 4).T, y)\n",
    "print(\"W at k=4: \\n\", w4)"
   ]
  },
  {
   "cell_type": "code",
   "execution_count": 5,
   "metadata": {},
   "outputs": [
    {
     "data": {
      "image/png": "[encoded data removed]",
      "text/plain": [
       "<Figure size 432x288 with 1 Axes>"
      ]
     },
     "metadata": {
      "needs_background": "light"
     },
     "output_type": "display_data"
    }
   ],
   "source": [
    "# Using smooth_x to generate a smooth plot\n",
    "smoothx = np.linspace(0, 5, 100)\n",
    "smoothx_basis = np.array([1+smoothx-smoothx, smoothx, smoothx**2, smoothx**3])\n",
    "\n",
    "# Defining plots in terms of polynomial fit equations found\n",
    "y1 = np.dot(w1.T, smoothx_basis[:1, :100])\n",
    "y2 = np.dot(w2.T, smoothx_basis[:2, :100])\n",
    "y3 = np.dot(w3.T, smoothx_basis[:3, :100])\n",
    "y4 = np.dot(w4.T, smoothx_basis[:4, :100])\n",
    "\n",
    "plt.scatter(x, y)\n",
    "plt.plot(smoothx, y1.T, 'b', label = 'k=1')\n",
    "plt.plot(smoothx, y2.T, 'orange', label = 'k=2')\n",
    "plt.plot(smoothx, y3.T, 'g', label = 'k=3')\n",
    "plt.plot(smoothx, y4.T, 'r', label = 'k=4')\n",
    "plt.legend(loc = 'upper left')\n",
    "plt.show()"
   ]
  },
  {
   "cell_type": "markdown",
   "metadata": {},
   "source": [
    "### Part B."
   ]
  },
  {
   "cell_type": "markdown",
   "metadata": {},
   "source": [
    "As shown by the weights found at each k, the equations corresponding to the curves fitted for K are:\n",
    "<br />\n",
    "K=1\n",
    "<br />\n",
    "y = 2.5\n",
    "\n",
    "K=2\n",
    "<br />\n",
    "y = 1.5+0.5x\n",
    "\n",
    "K=3\n",
    "<br />\n",
    "y = 9-7.1x+1.5x<sup>2</sup>\n",
    "\n",
    "K=4\n",
    "<br />\n",
    "y = -5+15.17x-8.5x<sup>2</sup>+1.33x<sup>3</sup>"
   ]
  },
  {
   "cell_type": "markdown",
   "metadata": {},
   "source": [
    "### Part C."
   ]
  },
  {
   "cell_type": "code",
   "execution_count": 3,
   "metadata": {},
   "outputs": [],
   "source": [
    "# Calculates MSE\n",
    "def MSE_calc(x_poly, w, y):\n",
    "    y_hat = np.matmul(x_poly, w)\n",
    "    SSE = np.dot((y-y_hat).T, (y-y_hat))\n",
    "    MSE = SSE/len(y)\n",
    "    return MSE"
   ]
  },
  {
   "cell_type": "code",
   "execution_count": 7,
   "metadata": {},
   "outputs": [
    {
     "name": "stdout",
     "output_type": "stream",
     "text": [
      "MSE at k=1:  [3.25]\n",
      "MSE at k=2:  [3.05]\n",
      "MSE at k=3:  [0.8]\n",
      "MSE at k=4:  [7.11994299e-25]\n"
     ]
    }
   ],
   "source": [
    "# Calculating weights and MSE for k=1,...,4\n",
    "w1 = weights_calculator(basis[0], y)\n",
    "print(\"MSE at k=1: \", MSE_calc(basis[0], w1, y)[0])\n",
    "\n",
    "w2 = weights_calculator(basis[:2, :4].reshape(2, 4).T, y)\n",
    "print(\"MSE at k=2: \", MSE_calc(basis[:2, :4].reshape(2, 4).T, w2, y)[0])\n",
    "\n",
    "w3 = weights_calculator(basis[:3, :4].reshape(3, 4).T, y)\n",
    "print(\"MSE at k=3: \", MSE_calc(basis[:3, :4].reshape(3, 4).T, w3, y)[0])\n",
    "\n",
    "w4 = weights_calculator(basis[:4, :4].reshape(4, 4).T, y)\n",
    "print(\"MSE at k=4: \", MSE_calc(basis[:4,:4].reshape(4, 4).T, w4, y)[0]) "
   ]
  },
  {
   "cell_type": "markdown",
   "metadata": {},
   "source": [
    "## Question 2."
   ]
  },
  {
   "cell_type": "markdown",
   "metadata": {},
   "source": [
    "### Part A."
   ]
  },
  {
   "cell_type": "code",
   "execution_count": 8,
   "metadata": {},
   "outputs": [],
   "source": [
    "# Generating 30 data points\n",
    "x = np.random.uniform(0, 1, 30)\n",
    "error = np.random.normal(0, 0.07, 30)\n",
    "g = np.sin(2*np.pi*x)**2+error"
   ]
  },
  {
   "cell_type": "code",
   "execution_count": 9,
   "metadata": {},
   "outputs": [
    {
     "data": {
      "image/png": "[encoded data removed]",
      "text/plain": [
       "<Figure size 432x288 with 1 Axes>"
      ]
     },
     "metadata": {
      "needs_background": "light"
     },
     "output_type": "display_data"
    }
   ],
   "source": [
    "# Plotting generated data and sin2(2pi*x) curve\n",
    "smoothx = np.linspace(0, 1, 100)\n",
    "ysin = (np.sin(2*np.pi*smoothx))**2\n",
    "\n",
    "rcParams['axes.spines.top'] = False\n",
    "rcParams['axes.spines.right'] = False\n",
    "plt.scatter(x, g)\n",
    "plt.plot(smoothx, ysin)\n",
    "plt.show()"
   ]
  },
  {
   "cell_type": "code",
   "execution_count": 10,
   "metadata": {},
   "outputs": [],
   "source": [
    "# Calculating basis, weights, and yhat for each k to plot curves over 100 points\n",
    "basis = np.array([1+x-x, x, x**2, x**3, x**4, x**5, x**6, x**7, x**8, x**9, x**10, \n",
    "                  x**11, x**12, x**13, x**14, x**15, x**16, x**17, x**18]) \n",
    "smoothx_basis = np.array([1+smoothx-smoothx, smoothx, smoothx**2, smoothx**3, smoothx**4, \n",
    "                          smoothx**5, smoothx**6, smoothx**7, smoothx**8, smoothx**9, \n",
    "                          smoothx**10, smoothx**11, smoothx**12, smoothx**13, smoothx**14, \n",
    "                          smoothx**15, smoothx**16, smoothx**17, smoothx**18])\n",
    "\n",
    "x_poly2 = basis[:2, :30].reshape(2, 30).transpose()\n",
    "w2 = weights_calculator(x_poly2, g)\n",
    "y2 = np.dot(w2, smoothx_basis[:2, :100])\n",
    "\n",
    "x_poly5 = basis[:5, :30].reshape(5, 30).transpose()\n",
    "w5 = weights_calculator(x_poly5, g)\n",
    "y5 = np.dot(w5, smoothx_basis[:5, :100])\n",
    "\n",
    "x_poly10 = basis[:10, :30].reshape(10, 30).transpose()\n",
    "w10 = weights_calculator(x_poly10, g)\n",
    "y10 = np.dot(w10, smoothx_basis[:10, :100])\n",
    "\n",
    "x_poly14 = basis[:14, :30].reshape(14, 30).transpose()\n",
    "w14 = weights_calculator(x_poly14, g)\n",
    "y14 = np.dot(w14, smoothx_basis[:14, :100])\n",
    "\n",
    "x_poly18 = basis[:18, :30].reshape(18, 30).transpose()\n",
    "w18 = weights_calculator(x_poly18, g)\n",
    "y18 = np.dot(w18, smoothx_basis[:18, :100])"
   ]
  },
  {
   "cell_type": "code",
   "execution_count": 11,
   "metadata": {},
   "outputs": [
    {
     "data": {
      "image/png": "[encoded data removed]",
      "text/plain": [
       "<Figure size 432x288 with 1 Axes>"
      ]
     },
     "metadata": {
      "needs_background": "light"
     },
     "output_type": "display_data"
    }
   ],
   "source": [
    "# Plot of curves for each k\n",
    "plt.scatter(x, g)\n",
    "plt.plot(smoothx, y2, label = 'k=2')\n",
    "plt.plot(smoothx, y5, label = 'k=5')\n",
    "plt.plot(smoothx, y10, label = 'k=10')\n",
    "plt.plot(smoothx, y14, label = 'k=14')\n",
    "plt.plot(smoothx, y18, label = 'k=18')\n",
    "plt.legend(loc = 'upper left')\n",
    "plt.ylim(-0.5, 2)\n",
    "plt.show()"
   ]
  },
  {
   "cell_type": "markdown",
   "metadata": {},
   "source": [
    "### Part B."
   ]
  },
  {
   "cell_type": "code",
   "execution_count": 12,
   "metadata": {},
   "outputs": [],
   "source": [
    "# Calculating weights and MSE for each k = 1, ..., 18\n",
    "MSE = []\n",
    "wArr = []\n",
    "for k in range(0, 18):\n",
    "    x_poly = basis[:k, :30].reshape(k, 30).T\n",
    "    w = weights_calculator(x_poly, g)\n",
    "    wArr.append(w)\n",
    "    MSE.append(MSE_calc(x_poly, w, g))"
   ]
  },
  {
   "cell_type": "code",
   "execution_count": 13,
   "metadata": {},
   "outputs": [
    {
     "data": {
      "image/png": "[encoded data removed]",
      "text/plain": [
       "<Figure size 432x288 with 1 Axes>"
      ]
     },
     "metadata": {
      "needs_background": "light"
     },
     "output_type": "display_data"
    }
   ],
   "source": [
    "# Plotting train log MSE for each k\n",
    "MSE = np.array(MSE)\n",
    "LogMSE = np.log(MSE) \n",
    "\n",
    "plt.figure()\n",
    "plt.plot(list(range(1, 19)), LogMSE)\n",
    "plt.xlim(0, 19)\n",
    "plt.xlabel('K')\n",
    "plt.ylabel('Log MSE')\n",
    "plt.show()"
   ]
  },
  {
   "cell_type": "markdown",
   "metadata": {},
   "source": [
    "### Part C."
   ]
  },
  {
   "cell_type": "code",
   "execution_count": 14,
   "metadata": {},
   "outputs": [],
   "source": [
    "# Generating 1000 test points and basis\n",
    "x = np.random.uniform(0, 1, 1000)\n",
    "error = np.random.normal(0, 0.07, 1000)\n",
    "g = np.sin(2*np.pi*x)**2+error\n",
    "basis = np.array([1+x-x, x, x**2, x**3, x**4, x**5, x**6, x**7, x**8, x**9, x**10, x**11, \n",
    "                  x**12, x**13, x**14, x**15, x**16, x**17, x**18]) "
   ]
  },
  {
   "cell_type": "code",
   "execution_count": 15,
   "metadata": {},
   "outputs": [],
   "source": [
    "# Calculating MSE at each k=1,...,18 for test data\n",
    "MSE = []\n",
    "for k in range(0, 18):\n",
    "    x_poly = basis[:k, :1000].reshape(k, 1000).T\n",
    "    w = wArr[k]\n",
    "    MSE.append(MSE_calc(x_poly, w, g))"
   ]
  },
  {
   "cell_type": "code",
   "execution_count": 16,
   "metadata": {},
   "outputs": [
    {
     "data": {
      "image/png": "[encoded data removed]",
      "text/plain": [
       "<Figure size 432x288 with 1 Axes>"
      ]
     },
     "metadata": {
      "needs_background": "light"
     },
     "output_type": "display_data"
    }
   ],
   "source": [
    "# Plotting test log MSE for each k = 1, ... , 18\n",
    "MSE = np.array(MSE)\n",
    "LogMSE = np.log(MSE) \n",
    "\n",
    "plt.figure()\n",
    "plt.plot(list(range(1, 19)), LogMSE)\n",
    "plt.xlim(0, 19)\n",
    "plt.xlabel('K')\n",
    "plt.ylabel('Test Log MSE')\n",
    "plt.show()"
   ]
  },
  {
   "cell_type": "markdown",
   "metadata": {},
   "source": [
    "### Part D."
   ]
  },
  {
   "cell_type": "code",
   "execution_count": 4,
   "metadata": {},
   "outputs": [],
   "source": [
    "# Part B\n",
    "# Generating data and calculating weights and MSE over 100 runs\n",
    "MSE = np.zeros(18)\n",
    "for i in range(0, 100):\n",
    "    wArr = []\n",
    "    x = np.random.uniform(0, 1, 30)\n",
    "    error = np.random.normal(0, 0.07, 30)\n",
    "    g = np.sin(2*np.pi*x)**2+error\n",
    "    basis = np.array([1+x-x, x, x**2, x**3, x**4, x**5, x**6, x**7, x**8, x**9, x**10, x**11,\n",
    "                      x**12, x**13, x**14, x**15, x**16, x**17, x**18]) \n",
    "    \n",
    "    for k in range(0, 18):\n",
    "        x_poly = basis[:k, :30].reshape(k, 30).T\n",
    "        w = weights_calculator(x_poly, g)\n",
    "        wArr.append(w)\n",
    "        MSE[k] = MSE[k]+MSE_calc(x_poly, w, g)\n",
    "    \n",
    "MSE = np.array(MSE)\n",
    "MSE = MSE/100\n",
    "LogMSE = np.log(MSE)"
   ]
  },
  {
   "cell_type": "code",
   "execution_count": 5,
   "metadata": {},
   "outputs": [
    {
     "data": {
      "image/png": "[encoded data removed]",
      "text/plain": [
       "<Figure size 432x288 with 1 Axes>"
      ]
     },
     "metadata": {
      "needs_background": "light"
     },
     "output_type": "display_data"
    }
   ],
   "source": [
    "# Plotting average log MSE for k = 1, ..., 18\n",
    "plt.figure()\n",
    "plt.plot(list(range(1, 19)), LogMSE)\n",
    "plt.xlim(0, 19)\n",
    "plt.xlabel('K')\n",
    "plt.ylabel('Averaged Log MSE')\n",
    "plt.show()"
   ]
  },
  {
   "cell_type": "code",
   "execution_count": 6,
   "metadata": {},
   "outputs": [],
   "source": [
    "# Part C\n",
    "# Generating data and calculating weights and MSE over 100 runs\n",
    "MSE = np.zeros(18)\n",
    "for i in range(0, 100):\n",
    "    x = np.random.uniform(0, 1, 1000)\n",
    "    error = np.random.normal(0, 0.07, 1000)\n",
    "    g = np.sin(2*np.pi*x)**2+error\n",
    "    basis = np.array([1+x-x, x, x**2, x**3, x**4, x**5, x**6, x**7, x**8, x**9, x**10, x**11, \n",
    "                      x**12, x**13, x**14, x**15, x**16, x**17, x**18])\n",
    "    \n",
    "    for k in range(0, 18):\n",
    "        x_poly = basis[:k, :1000].reshape(k, 1000).T\n",
    "        w = wArr[k]\n",
    "        MSE[k] = MSE[k]+ MSE_calc(x_poly, w, g)\n",
    " \n",
    "MSE = np.array(MSE)\n",
    "MSE = MSE/100\n",
    "LogMSE = np.log(MSE)"
   ]
  },
  {
   "cell_type": "code",
   "execution_count": 7,
   "metadata": {},
   "outputs": [
    {
     "data": {
      "image/png": "[encoded data removed]",
      "text/plain": [
       "<Figure size 432x288 with 1 Axes>"
      ]
     },
     "metadata": {
      "needs_background": "light"
     },
     "output_type": "display_data"
    }
   ],
   "source": [
    "# Plotting average test log MSE for k=1, ..., 18\n",
    "plt.figure()\n",
    "plt.plot(list(range(1, 19)), LogMSE)\n",
    "plt.xlim(0, 19)\n",
    "plt.xlabel('K')\n",
    "plt.ylabel('Averaged Log Test MSE')\n",
    "plt.show()"
   ]
  },
  {
   "cell_type": "markdown",
   "metadata": {},
   "source": [
    "## Question 3."
   ]
  },
  {
   "cell_type": "markdown",
   "metadata": {},
   "source": [
    "### Part B."
   ]
  },
  {
   "cell_type": "code",
   "execution_count": 21,
   "metadata": {},
   "outputs": [],
   "source": [
    "# Generating 30 data points\n",
    "x = np.random.uniform(0, 1, 30)\n",
    "error = np.random.normal(0, 0.07, 30)\n",
    "g = np.sin(2*np.pi*x)**2+error\n",
    "basis = np.array([np.sin(1*math.pi*x), np.sin(2*math.pi*x), np.sin(3*math.pi*x), \n",
    "                  np.sin(4*math.pi*x), np.sin(5*math.pi*x), np.sin(6*math.pi*x), \n",
    "                  np.sin(7*math.pi*x), np.sin(8*math.pi*x), np.sin(9*math.pi*x), \n",
    "                  np.sin(10*math.pi*x), np.sin(11*math.pi*x), np.sin(12*math.pi*x), \n",
    "                  np.sin(13*math.pi*x), np.sin(14*math.pi*x),np.sin(15*math.pi*x), \n",
    "                  np.sin(16*math.pi*x), np.sin(17*math.pi*x), np.sin(18*math.pi*x)]) \n"
   ]
  },
  {
   "cell_type": "code",
   "execution_count": 22,
   "metadata": {},
   "outputs": [],
   "source": [
    "# Calculating weights and MSE for each k=1,...,18\n",
    "MSE = []\n",
    "wArr = []\n",
    "for k in range(0, 18):\n",
    "    x_poly = basis[:k, :30].reshape(k, 30).T\n",
    "    w = weights_calculator(x_poly, g)\n",
    "    wArr.append(w)\n",
    "    MSE.append(MSE_calc(x_poly, w, g))\n",
    "    \n",
    "LogMSE = np.log(MSE)"
   ]
  },
  {
   "cell_type": "code",
   "execution_count": 23,
   "metadata": {},
   "outputs": [
    {
     "data": {
      "image/png": "[encoded data removed]",
      "text/plain": [
       "<Figure size 432x288 with 1 Axes>"
      ]
     },
     "metadata": {
      "needs_background": "light"
     },
     "output_type": "display_data"
    }
   ],
   "source": [
    "# Plotting train log MSE for each k\n",
    "plt.figure()\n",
    "plt.plot(list(range(1, 19)), LogMSE)\n",
    "plt.xlim(0, 19)\n",
    "plt.xlabel('K')\n",
    "plt.ylabel('Log MSE')\n",
    "plt.show()"
   ]
  },
  {
   "cell_type": "markdown",
   "metadata": {},
   "source": [
    "### Part C."
   ]
  },
  {
   "cell_type": "code",
   "execution_count": 24,
   "metadata": {},
   "outputs": [],
   "source": [
    "# Generating 1000 test points and basis\n",
    "x = np.random.uniform(0, 1, 1000)\n",
    "error = np.random.normal(0, 0.07, 1000)\n",
    "g = np.sin(2*np.pi*x)**2+error\n",
    "basis = np.array([np.sin(1*math.pi*x), np.sin(2*math.pi*x), np.sin(3*math.pi*x),\n",
    "                  np.sin(4*math.pi*x), np.sin(5*math.pi*x), np.sin(6*math.pi*x),\n",
    "                  np.sin(7*math.pi*x), np.sin(8*math.pi*x), np.sin(9*math.pi*x),\n",
    "                  np.sin(10*math.pi*x), np.sin(11*math.pi*x), np.sin(12*math.pi*x),\n",
    "                  np.sin(13*math.pi*x), np.sin(14*math.pi*x), np.sin(15*math.pi*x),\n",
    "                  np.sin(16*math.pi*x), np.sin(17*math.pi*x), np.sin(18*math.pi*x)]) \n"
   ]
  },
  {
   "cell_type": "code",
   "execution_count": 25,
   "metadata": {},
   "outputs": [],
   "source": [
    "# Calculating MSE at each k=1, ..., 18 for test data\n",
    "MSE = []\n",
    "for k in range(0, 18):\n",
    "    x_poly = basis[:k, :1000].reshape(k, 1000).T\n",
    "    w = wArr[k]\n",
    "    MSE.append(MSE_calc(x_poly, w, g))"
   ]
  },
  {
   "cell_type": "code",
   "execution_count": 26,
   "metadata": {},
   "outputs": [
    {
     "data": {
      "image/png": "[encoded data removed]",
      "text/plain": [
       "<Figure size 432x288 with 1 Axes>"
      ]
     },
     "metadata": {
      "needs_background": "light"
     },
     "output_type": "display_data"
    }
   ],
   "source": [
    "# Plotting test log MSE for each k=1, ..., 18\n",
    "LogMSE = np.log(MSE) \n",
    "\n",
    "plt.figure()\n",
    "plt.plot(list(range(1, 19)), LogMSE)\n",
    "plt.xlim(0, 19)\n",
    "plt.xlabel('K')\n",
    "plt.ylabel('Test Log MSE')\n",
    "plt.show()"
   ]
  },
  {
   "cell_type": "markdown",
   "metadata": {},
   "source": [
    "### Part D."
   ]
  },
  {
   "cell_type": "code",
   "execution_count": 27,
   "metadata": {},
   "outputs": [],
   "source": [
    "# Part B\n",
    "# Generating data and calculating weights and MSE over 100 runs\n",
    "MSE = np.zeros(18)\n",
    "for i in range(0, 100):\n",
    "    wArr = []\n",
    "    x = np.random.uniform(0, 1, 30)\n",
    "    error = np.random.normal(0, 0.07, 30)\n",
    "    g = np.sin(2*np.pi*x)**2+error\n",
    "    basis = np.array([np.sin(1*math.pi*x), np.sin(2*math.pi*x), np.sin(3*math.pi*x), \n",
    "                      np.sin(4*math.pi*x), np.sin(5*math.pi*x), np.sin(6*math.pi*x),\n",
    "                      np.sin(7*math.pi*x), np.sin(8*math.pi*x), np.sin(9*math.pi*x),\n",
    "                      np.sin(10*math.pi*x), np.sin(11*math.pi*x), np.sin(12*math.pi*x),\n",
    "                      np.sin(13*math.pi*x), np.sin(14*math.pi*x), np.sin(15*math.pi*x),\n",
    "                      np.sin(16*math.pi*x), np.sin(17*math.pi*x), np.sin(18*math.pi*x)]) \n",
    "\n",
    "    for k in range(0, 18):\n",
    "        x_poly = basis[:k, :30].reshape(k, 30).T\n",
    "        w = weights_calculator(x_poly, g)\n",
    "        wArr.append(w)\n",
    "        MSE[k] = MSE[k]+MSE_calc(x_poly, w, g)\n",
    "    \n",
    "MSE = np.array(MSE)\n",
    "MSE = MSE/100\n",
    "LogMSE = np.log(MSE)"
   ]
  },
  {
   "cell_type": "code",
   "execution_count": 28,
   "metadata": {},
   "outputs": [
    {
     "data": {
      "image/png": "[encoded data removed]",
      "text/plain": [
       "<Figure size 432x288 with 1 Axes>"
      ]
     },
     "metadata": {
      "needs_background": "light"
     },
     "output_type": "display_data"
    }
   ],
   "source": [
    "# Plotting average log MSE for k=1, ..., 18\n",
    "plt.figure()\n",
    "plt.plot(list(range(1, 19)), LogMSE)\n",
    "plt.xlim(0, 19)\n",
    "plt.xlabel('K')\n",
    "plt.ylabel('Averaged Log MSE')\n",
    "plt.show()"
   ]
  },
  {
   "cell_type": "code",
   "execution_count": 29,
   "metadata": {},
   "outputs": [],
   "source": [
    "# Part C\n",
    "# Generating 1000 test points and basis\n",
    "MSE = np.zeros(18)\n",
    "for i in range(0, 18):\n",
    "    x = np.random.uniform(0, 1, 1000)\n",
    "    error = np.random.normal(0, 0.07, 1000)\n",
    "    g = np.sin(2*np.pi*x)**2+error\n",
    "    basis = np.array([np.sin(1*math.pi*x), np.sin(2*math.pi*x), np.sin(3*math.pi*x),\n",
    "                      np.sin(4*math.pi*x), np.sin(5*math.pi*x), np.sin(6*math.pi*x),\n",
    "                      np.sin(7*math.pi*x), np.sin(8*math.pi*x), np.sin(9*math.pi*x),\n",
    "                      np.sin(10*math.pi*x), np.sin(11*math.pi*x), np.sin(12*math.pi*x),\n",
    "                      np.sin(13*math.pi*x), np.sin(14*math.pi*x), np.sin(15*math.pi*x),\n",
    "                      np.sin(16*math.pi*x), np.sin(17*math.pi*x), np.sin(18*math.pi*x)]) \n",
    "\n",
    "    for k in range(0, 18):\n",
    "        x_poly = basis[:k, :1000].reshape(k, 1000).T\n",
    "        w = wArr[k]\n",
    "        MSE[k] = MSE[k]+ MSE_calc(x_poly, w, g)\n",
    " \n",
    "MSE = MSE/100\n",
    "LogMSE = np.log(MSE)"
   ]
  },
  {
   "cell_type": "code",
   "execution_count": 30,
   "metadata": {},
   "outputs": [
    {
     "data": {
      "image/png": "[encoded data removed]",
      "text/plain": [
       "<Figure size 432x288 with 1 Axes>"
      ]
     },
     "metadata": {
      "needs_background": "light"
     },
     "output_type": "display_data"
    }
   ],
   "source": [
    "# Plotting average test log MSE for k=1,...,18\n",
    "plt.figure()\n",
    "plt.plot(list(range(1, 19)), LogMSE)\n",
    "plt.xlim(0, 19)\n",
    "plt.xlabel('K')\n",
    "plt.ylabel('Averaged Test Log MSE')\n",
    "plt.show()"
   ]
  },
  {
   "cell_type": "markdown",
   "metadata": {},
   "source": [
    "# 1.2 Filtered Boston housing and kernels"
   ]
  },
  {
   "cell_type": "markdown",
   "metadata": {},
   "source": [
    "## Question 4."
   ]
  },
  {
   "cell_type": "markdown",
   "metadata": {},
   "source": [
    "### Part A. Naive Linear Regression"
   ]
  },
  {
   "cell_type": "code",
   "execution_count": 31,
   "metadata": {},
   "outputs": [],
   "source": [
    "# Importing Data\n",
    "file = open('Boston-filtered.txt','r')\n",
    "boston = file.read().split('\\n')\n",
    "boston = np.array(boston)"
   ]
  },
  {
   "cell_type": "code",
   "execution_count": 32,
   "metadata": {},
   "outputs": [],
   "source": [
    "# Data preprocessing\n",
    "bostonarr = []\n",
    "for b in range(0, 507):\n",
    "    subarr = []\n",
    "    iter = [m.start() for m in re.finditer(',', boston[b])]\n",
    "    for i in range(0, len(iter)):\n",
    "        if i == 0:\n",
    "            subarr.append(boston[b][0:iter[0]])\n",
    "        else:\n",
    "            subarr.append(boston[b][iter[i-1]+1:iter[i]])\n",
    "    subarr.append(boston[b][iter[i]+1:len(boston[b])])\n",
    "    bostonarr.append(subarr)"
   ]
  },
  {
   "cell_type": "code",
   "execution_count": 33,
   "metadata": {},
   "outputs": [],
   "source": [
    "# Creating x and y\n",
    "y = []\n",
    "X = []\n",
    "for j in range(1, 506):\n",
    "    y.append(bostonarr[j][12])\n",
    "    X.append(bostonarr[j][0:12])\n",
    "X = np.array(X)\n",
    "y = np.array(y)"
   ]
  },
  {
   "cell_type": "code",
   "execution_count": 34,
   "metadata": {},
   "outputs": [],
   "source": [
    "# Splitting the data into 2/3 train set and 1/3 test set\n",
    "def traintestsplit(X, y):\n",
    "    randsamp = np.random.rand(X.shape[0])\n",
    "    split = randsamp < np.percentile(randsamp, 66)\n",
    "    X_train = X[split].astype(np.float)\n",
    "    y_train = y[split].astype(np.float) \n",
    "    X_test =  X[~split].astype(np.float) \n",
    "    y_test = y[~split].astype(np.float)\n",
    "    return X_train, y_train, X_test, y_test"
   ]
  },
  {
   "cell_type": "code",
   "execution_count": 35,
   "metadata": {},
   "outputs": [],
   "source": [
    "# Naive Regression over 20 runs with random splits \n",
    "MSE = []\n",
    "testMSE = []\n",
    "for r in range(0, 20):\n",
    "    # Train\n",
    "    X_train, y_train, X_test, y_test = traintestsplit(X, y)    \n",
    "    basis = np.ones((len(X_train), 1))\n",
    "    x_poly = basis\n",
    "    w = weights_calculator(x_poly, y_train)\n",
    "    MSE.append(MSE_calc(x_poly, w, y_train))\n",
    "    \n",
    "    # Test\n",
    "    testbasis = np.ones((len(X_test), 1))\n",
    "    testMSE.append(MSE_calc(testbasis, w, y_test))"
   ]
  },
  {
   "cell_type": "code",
   "execution_count": 36,
   "metadata": {},
   "outputs": [
    {
     "name": "stdout",
     "output_type": "stream",
     "text": [
      "Train MSE mean  85.98908951293636  and std  4.288500408027889\n",
      "Test MSE mean  81.3886473052772  and std  8.31004101058637\n"
     ]
    }
   ],
   "source": [
    "# Calculating mean and std of train and test MSE\n",
    "MSE = np.array(MSE)\n",
    "testMSE = np.array(testMSE)\n",
    "print(\"Train MSE mean \", np.mean(MSE), \" and std \", np.std(MSE))\n",
    "print(\"Test MSE mean \", np.mean(testMSE), \" and std \", np.std(testMSE))"
   ]
  },
  {
   "cell_type": "markdown",
   "metadata": {},
   "source": [
    "### Part B."
   ]
  },
  {
   "cell_type": "markdown",
   "metadata": {},
   "source": [
    "A simple interpretation of the function 'a' above is that it is the equivalent to having a basis of {1} at k=1 polynomial regression. It linearly fits the data with the line y=c resulting in the least error."
   ]
  },
  {
   "cell_type": "markdown",
   "metadata": {},
   "source": [
    "### Part C. Linear Regression with single attributes"
   ]
  },
  {
   "cell_type": "code",
   "execution_count": 37,
   "metadata": {},
   "outputs": [],
   "source": [
    "# Linear Regression with single attributes over 20 runs with random splits\n",
    "MSE=[]\n",
    "testMSE=[]\n",
    "for a in range(0, 12):\n",
    "    attrMSE = []\n",
    "    testattrMSE = []\n",
    "    for i in range (0, 20):\n",
    "        # Train\n",
    "        X_train, y_train, X_test, y_test = traintestsplit(X, y)\n",
    "        basis = X_train[:, a].reshape(len(X_train), 1) # using ath attribute for linear regression\n",
    "        ones = np.ones((len(X_train), 1))\n",
    "        basis = np.c_[basis, ones]\n",
    "        x_poly = basis.reshape(len(X_train), 2) # adding to first dimension because of bias\n",
    "        w = weights_calculator(x_poly, y_train)\n",
    "        attrMSE.append(MSE_calc(x_poly, w, y_train))\n",
    "   \n",
    "        # Test\n",
    "        basis = X_test[:, a].reshape(len(X_test), 1) # using ath attribute for linear regression\n",
    "        ones = np.ones((len(X_test), 1))\n",
    "        basis = np.c_[basis, ones]\n",
    "        x_poly = basis.reshape(len(X_test), 2)\n",
    "        testattrMSE.append(MSE_calc(x_poly, w, y_test))\n",
    "        \n",
    "    MSE.append(attrMSE)\n",
    "    testMSE.append(testattrMSE)"
   ]
  },
  {
   "cell_type": "code",
   "execution_count": 38,
   "metadata": {},
   "outputs": [
    {
     "name": "stdout",
     "output_type": "stream",
     "text": [
      "Attribute  1\n",
      "Train MSE mean  72.99857745182797  and std  4.330458533276968\n",
      "Test MSE mean  69.99836835712644  and std  8.666481512552815\n",
      "Attribute  2\n",
      "Train MSE mean  72.57246065011587  and std  4.995599885966074\n",
      "Test MSE mean  75.61062718169481  and std  9.6423210807663\n",
      "Attribute  3\n",
      "Train MSE mean  63.07192670247637  and std  5.808790962716219\n",
      "Test MSE mean  68.03422546353478  and std  11.522838199588177\n",
      "Attribute  4\n",
      "Train MSE mean  80.25449921537742  and std  2.3641453640367764\n",
      "Test MSE mean  85.49137859026072  and std  4.584631291294853\n",
      "Attribute  5\n",
      "Train MSE mean  65.63580458202375  and std  4.951565782473121\n",
      "Test MSE mean  75.72642743295594  and std  9.693171426283442\n",
      "Attribute  6\n",
      "Train MSE mean  43.10855301459978  and std  3.8021856205002953\n",
      "Test MSE mean  44.86076911210445  and std  7.28533491326763\n",
      "Attribute  7\n",
      "Train MSE mean  71.19012107951185  and std  5.335247299482511\n",
      "Test MSE mean  75.07084117694848  and std  10.359837966765227\n",
      "Attribute  8\n",
      "Train MSE mean  78.28956339972811  and std  4.495377997929318\n",
      "Test MSE mean  81.09374456101115  and std  8.606968271877534\n",
      "Attribute  9\n",
      "Train MSE mean  72.44757190729301  and std  4.410139867718435\n",
      "Test MSE mean  71.12478896963793  and std  8.619911284671481\n",
      "Attribute  10\n",
      "Train MSE mean  65.50007607883188  and std  4.754196004174089\n",
      "Test MSE mean  66.18956349130738  and std  9.253909535939616\n",
      "Attribute  11\n",
      "Train MSE mean  61.489857479420564  and std  4.847570474326327\n",
      "Test MSE mean  65.65435605883287  and std  9.616833360652791\n",
      "Attribute  12\n",
      "Train MSE mean  39.282163219512114  and std  2.6328339777866865\n",
      "Test MSE mean  36.13932289977518  and std  5.017498621369268\n"
     ]
    }
   ],
   "source": [
    "# Calculating mean and std of train and test MSE for each attribute\n",
    "for i in range(0, 12):\n",
    "    print(\"Attribute \", i+1)\n",
    "    print(\"Train MSE mean \", np.mean(np.array(MSE[i])), \n",
    "          \" and std \", np.std(np.array(MSE[i])))\n",
    "    print(\"Test MSE mean \", np.mean(np.array(testMSE[i])), \n",
    "          \" and std \", np.std(np.array(testMSE[i])))"
   ]
  },
  {
   "cell_type": "markdown",
   "metadata": {},
   "source": [
    "### Part D. Linear Regression using all attributes"
   ]
  },
  {
   "cell_type": "code",
   "execution_count": 39,
   "metadata": {},
   "outputs": [],
   "source": [
    "# Linear Regression with all attributes over 20 runs with random splits\n",
    "MSE = []\n",
    "testMSE = []\n",
    "for r in range(0, 20):\n",
    "    # Train\n",
    "    X_train, y_train, X_test, y_test = traintestsplit(X, y)\n",
    "    ones = np.ones((len(X_train), 1))\n",
    "    basis = np.c_[X_train, ones]\n",
    "    x_poly = basis.reshape(len(X_train), 13)\n",
    "    w = weights_calculator(x_poly, y_train)\n",
    "    MSE.append(MSE_calc(x_poly, w, y_train))\n",
    "\n",
    "    # Test\n",
    "    ones = np.ones((len(X_test), 1))\n",
    "    basis = np.c_[X_test, ones]\n",
    "    x_poly = basis.reshape(len(X_test), 13)\n",
    "    testMSE.append(MSE_calc(x_poly, w, y_test))\n",
    "    \n",
    "MSE = np.array(MSE)\n",
    "testMSE = np.array(testMSE)"
   ]
  },
  {
   "cell_type": "code",
   "execution_count": 40,
   "metadata": {},
   "outputs": [
    {
     "name": "stdout",
     "output_type": "stream",
     "text": [
      "Train MSE mean  22.157127702075663  and std  2.068324741664647\n",
      "Test MSE mean  23.89593931121981  and std  5.194891694179792\n"
     ]
    }
   ],
   "source": [
    "# Calculating mean and std of train and test MSE for all attribute\n",
    "print(\"Train MSE mean \", np.mean(MSE), \" and std \", np.std(MSE))\n",
    "print(\"Test MSE mean \", np.mean(testMSE), \" and std \", np.std(testMSE))"
   ]
  },
  {
   "cell_type": "markdown",
   "metadata": {},
   "source": [
    "# 1.3 Kernelized Ridge Regression"
   ]
  },
  {
   "cell_type": "markdown",
   "metadata": {},
   "source": [
    "## Question 5."
   ]
  },
  {
   "cell_type": "markdown",
   "metadata": {},
   "source": [
    "### Part A."
   ]
  },
  {
   "cell_type": "code",
   "execution_count": 41,
   "metadata": {},
   "outputs": [],
   "source": [
    "# Creating gamma and sigma values\n",
    "gamma = []\n",
    "sigma = []\n",
    "for i in range(-40, -25):\n",
    "    gamma.append(2**i)\n",
    "for j in np.arange(7, 13.5, 0.5):\n",
    "    sigma.append(2**j)"
   ]
  },
  {
   "cell_type": "code",
   "execution_count": 42,
   "metadata": {},
   "outputs": [],
   "source": [
    "# Creating 5-fold train-test split\n",
    "def split(x):\n",
    "    s = int(len(x)/5)\n",
    "    ind = np.arange(len(x)).astype(int)\n",
    "    train_index = np.zeros((5, len(x)-s))\n",
    "    test_index = np.zeros((5, s))\n",
    "    for i in range(0, 5):\n",
    "        test_index[i] = ind[0+i*s:0+(i+1)*s]\n",
    "        train_index[i] = np.delete(ind, test_index[i])\n",
    "        \n",
    "    return train_index, test_index"
   ]
  },
  {
   "cell_type": "code",
   "execution_count": 43,
   "metadata": {},
   "outputs": [],
   "source": [
    "# Calculating kernel matrix for X and sigma\n",
    "def K_calc(Xi, Xj, sigma1):\n",
    "    K = np.zeros(((len(Xi)), len(Xj)))\n",
    "    for i in range(0, len(Xi)):\n",
    "        for j in range(0, len(Xj)):\n",
    "            t = Xi[i]-Xj[j]\n",
    "            t = np.linalg.norm(t)\n",
    "            t = -(t**2)/(2*(sigma1**2))\n",
    "            t = math.exp(t)\n",
    "            K[i][j]=t\n",
    "    return K"
   ]
  },
  {
   "cell_type": "code",
   "execution_count": 44,
   "metadata": {},
   "outputs": [],
   "source": [
    "# Calculating alpha for kernel and gamma\n",
    "def alpha_calc(K, gamma1, X, y):\n",
    "    alpha = np.add(K, (gamma1*len(X)*np.identity(len(X))))\n",
    "    alpha = np.linalg.inv(alpha)\n",
    "    alpha = np.matmul(alpha, y)\n",
    "    return alpha"
   ]
  },
  {
   "cell_type": "code",
   "execution_count": 45,
   "metadata": {},
   "outputs": [
    {
     "name": "stderr",
     "output_type": "stream",
     "text": [
      "/Users/Administrator/opt/anaconda3/lib/python3.7/site-packages/ipykernel_launcher.py:8: DeprecationWarning: using a non-integer array as obj in delete will result in an error in the future\n",
      "  \n"
     ]
    }
   ],
   "source": [
    "# Single hyperparameter search over sigma and gamma values using 5-fold cross validation\n",
    "MSE = np.zeros((13, 15))\n",
    "testMSE = np.zeros((13, 15))\n",
    "for s in range(0, 13):\n",
    "    for g in range(0, 15):\n",
    "        trainfoldMSE = 0\n",
    "        testfoldMSE = 0\n",
    "        train_in, test_in = split(X_train)\n",
    "        # Iterating over 5 folds\n",
    "        for i in range(0, 5):\n",
    "            # Creating folds\n",
    "            train_index = train_in[i].astype(int)\n",
    "            test_index = test_in[i].astype(int)\n",
    "            \n",
    "            # Train\n",
    "            X_trainfold = X_train[train_index[0]:train_index[len(train_index)-1]]\n",
    "            y_trainfold = y_train[train_index[0]:train_index[len(train_index)-1]]      \n",
    "            sigma1 = sigma[s]\n",
    "            K = K_calc(X_trainfold, X_trainfold, sigma1)         \n",
    "            gamma1 = gamma[g]\n",
    "            alpha = alpha_calc(K, gamma1, X_trainfold, y_trainfold) \n",
    "            trainfoldMSE = trainfoldMSE+(MSE_calc(alpha, K, y_trainfold))\n",
    "            \n",
    "            # Test   \n",
    "            X_testfold = X_train[test_index[0]:test_index[len(test_index)-1]]\n",
    "            y_testfold = y_train[test_index[0]:test_index[len(test_index)-1]]\n",
    "            Kt = K_calc(X_trainfold, X_testfold, sigma1)   \n",
    "            testfoldMSE = testfoldMSE+(MSE_calc(alpha, Kt, y_testfold))\n",
    "        \n",
    "        # Average MSE over the 5 folds\n",
    "        MSE[s][g] = trainfoldMSE/5\n",
    "        testMSE[s][g] = testfoldMSE/5"
   ]
  },
  {
   "cell_type": "code",
   "execution_count": 46,
   "metadata": {},
   "outputs": [
    {
     "name": "stdout",
     "output_type": "stream",
     "text": [
      "0.5119703639386777 (array([0]), array([0]))\n",
      "6.654668827389557 (array([4]), array([0]))\n"
     ]
    }
   ],
   "source": [
    "# Finding sigma and gamma for minimum MSE\n",
    "mintrainMSE = np.amin(MSE)\n",
    "minindex1 = np.where(MSE == mintrainMSE)\n",
    "print(mintrainMSE, minindex1)\n",
    "\n",
    "mintestMSE = np.amin(testMSE)\n",
    "minindex2 = np.where(testMSE == mintestMSE)\n",
    "print(mintestMSE, minindex2)"
   ]
  },
  {
   "cell_type": "code",
   "execution_count": 47,
   "metadata": {},
   "outputs": [
    {
     "name": "stdout",
     "output_type": "stream",
     "text": [
      "Optimal sigma and gamma:  181.01933598375618 3.725290298461914e-09\n"
     ]
    }
   ],
   "source": [
    "print(\"Optimal sigma and gamma: \", sigma[4], gamma[0])"
   ]
  },
  {
   "cell_type": "markdown",
   "metadata": {},
   "source": [
    "### Part B."
   ]
  },
  {
   "cell_type": "code",
   "execution_count": 48,
   "metadata": {},
   "outputs": [],
   "source": [
    "# Creating plot data\n",
    "KMSE = MSE\n",
    "KtestMSE = testMSE\n",
    "\n",
    "xdata = []\n",
    "ydata = []\n",
    "zdata = []\n",
    "for j in range(0, 13):\n",
    "    for i in range(0, 15):\n",
    "        xdata.append(sigma[j])\n",
    "        ydata.append(gamma[i])\n",
    "        zdata.append(testMSE[j][i])"
   ]
  },
  {
   "cell_type": "code",
   "execution_count": 49,
   "metadata": {},
   "outputs": [
    {
     "data": {
      "image/png": "[encoded data removed]",
      "text/plain": [
       "<Figure size 396x396 with 1 Axes>"
      ]
     },
     "metadata": {
      "needs_background": "light"
     },
     "output_type": "display_data"
    }
   ],
   "source": [
    "# Plotting 3D cross-validation error for sigma and gamma values\n",
    "fig = plt.figure()\n",
    "fig.set_size_inches(5.5, 5.5)\n",
    "ax = fig.add_subplot(projection = '3d')\n",
    "ax.scatter(xdata, ydata, zdata)\n",
    "ax.set_xlabel('Sigma')\n",
    "ax.set_ylabel('Gamma')\n",
    "ax.set_zlabel(\"Cross-Validation Error\")\n",
    "plt.show()"
   ]
  },
  {
   "cell_type": "markdown",
   "metadata": {},
   "source": [
    "### Part C."
   ]
  },
  {
   "cell_type": "code",
   "execution_count": 50,
   "metadata": {},
   "outputs": [],
   "source": [
    "# Calculating kernel, alpha, and single train MSE with optimal sigma and gamma\n",
    "sigma1 = sigma[4]\n",
    "gamma1 = gamma[0]\n",
    "K = K_calc(X_train, X_train, sigma1)\n",
    "alpha = alpha_calc(K, gamma1, X_train, y_train)\n",
    "MSE = MSE_calc(alpha, K, y_train)"
   ]
  },
  {
   "cell_type": "code",
   "execution_count": 51,
   "metadata": {},
   "outputs": [
    {
     "name": "stdout",
     "output_type": "stream",
     "text": [
      "Train MSE with optimal sigma and gamma:  5.244796056503648\n"
     ]
    }
   ],
   "source": [
    "print(\"Train MSE with optimal sigma and gamma: \", MSE)"
   ]
  },
  {
   "cell_type": "code",
   "execution_count": 52,
   "metadata": {},
   "outputs": [],
   "source": [
    "# Calculating kernel and single test MSE with optimal sigma and gamma\n",
    "sigma1 = sigma[4]\n",
    "gamma1 = gamma[0]\n",
    "K = K_calc(X_train, X_test, sigma1) \n",
    "testMSE = MSE_calc(alpha, K, y_test)"
   ]
  },
  {
   "cell_type": "code",
   "execution_count": 53,
   "metadata": {},
   "outputs": [
    {
     "name": "stdout",
     "output_type": "stream",
     "text": [
      "Test MSE with optimal sigma and gamma:  12.086009535977583\n"
     ]
    }
   ],
   "source": [
    "print(\"Test MSE with optimal sigma and gamma: \", testMSE)"
   ]
  },
  {
   "cell_type": "markdown",
   "metadata": {},
   "source": [
    "### Part D."
   ]
  },
  {
   "cell_type": "code",
   "execution_count": 54,
   "metadata": {},
   "outputs": [],
   "source": [
    "# Hyperparameter search function\n",
    "def sig_gam_search(sigma, gamma, X_train):\n",
    "    MSE = np.zeros((13, 15))\n",
    "    testMSE = np.zeros((13, 15))\n",
    "    for s in range(0, 13):\n",
    "        for g in range(0, 15):\n",
    "            trainfoldMSE = 0\n",
    "            testfoldMSE = 0\n",
    "            train_in, test_in = split(X_train)\n",
    "            # Iterating over 5 folds\n",
    "            for i in range(0, 5):\n",
    "                # Creating folds\n",
    "                train_index = train_in[i].astype(int)\n",
    "                test_index = test_in[i].astype(int)\n",
    "                \n",
    "                # Train\n",
    "                X_trainfold = X_train[train_index[0]:train_index[len(train_index)-1]]\n",
    "                y_trainfold = y_train[train_index[0]:train_index[len(train_index)-1]]\n",
    "                sigma1 = sigma[s]\n",
    "                K = K_calc(X_trainfold, X_trainfold, sigma1)\n",
    "                gamma1 = gamma[g]\n",
    "                alpha = alpha_calc(K, gamma1, X_trainfold, y_trainfold)\n",
    "                trainfoldMSE = trainfoldMSE + (MSE_calc(alpha, K, y_trainfold))\n",
    "                \n",
    "                # Test\n",
    "                X_testfold = X_train[test_index[0]:test_index[len(test_index)-1]]\n",
    "                y_testfold = y_train[test_index[0]:test_index[len(test_index)-1]]\n",
    "                Kt = K_calc(X_trainfold, X_testfold, sigma1)\n",
    "                testfoldMSE = testfoldMSE+(MSE_calc(alpha, Kt, y_testfold))\n",
    "\n",
    "            # Average MSE over the 5 folds\n",
    "            MSE[s][g] = trainfoldMSE/5\n",
    "            testMSE[s][g] = testfoldMSE/5\n",
    "    \n",
    "    # Finding minimum test MSE sigma and gamma        \n",
    "    mintestMSE = np.amin(testMSE)\n",
    "    minindex2 = np.where(testMSE == mintestMSE)\n",
    "    \n",
    "    return int(minindex2[0]), int(minindex2[1])"
   ]
  },
  {
   "cell_type": "code",
   "execution_count": 55,
   "metadata": {},
   "outputs": [
    {
     "name": "stderr",
     "output_type": "stream",
     "text": [
      "/Users/Administrator/opt/anaconda3/lib/python3.7/site-packages/ipykernel_launcher.py:8: DeprecationWarning: using a non-integer array as obj in delete will result in an error in the future\n",
      "  \n"
     ]
    }
   ],
   "source": [
    "# Kernel Ridge Regression and hyperparameter search over 20 runs with random splits\n",
    "MSE = []\n",
    "testMSE = []\n",
    "for r in range(0, 20):\n",
    "    # Train\n",
    "    X_train, y_train, X_test, y_test = traintestsplit(X, y)\n",
    "    s1, g1 = sig_gam_search(sigma, gamma, X_train)\n",
    "    sigma1 = sigma[s1]\n",
    "    gamma1 = gamma[g1]  \n",
    "    K = K_calc(X_train, X_train, sigma1)\n",
    "    alpha = alpha_calc(K, gamma1, X_train, y_train)   \n",
    "    MSE.append(MSE_calc(alpha, K, y_train))\n",
    "\n",
    "    # Test\n",
    "    K = K_calc(X_train, X_test, sigma1) \n",
    "    testMSE.append(MSE_calc(alpha, K, y_test))"
   ]
  },
  {
   "cell_type": "code",
   "execution_count": 64,
   "metadata": {},
   "outputs": [
    {
     "name": "stdout",
     "output_type": "stream",
     "text": [
      "Train MSE mean  4.143337749108885  and std  1.8020261357851874\n",
      "Test MSE mean  18.76443635059623  and std  6.356245087183766\n"
     ]
    }
   ],
   "source": [
    "# Average train and test MSE and std over 20 runs\n",
    "MSE = np.array(MSE)\n",
    "testMSE = np.array(testMSE)\n",
    "print(\"Train MSE mean \", np.mean(MSE), \" and std \", np.std(MSE))\n",
    "print(\"Test MSE mean \", np.mean(testMSE), \" and std \", np.std(testMSE))"
   ]
  },
  {
   "cell_type": "markdown",
   "metadata": {},
   "source": [
    "| Method      | MSE train | MSE test |\n",
    "| :-----------: | :-----------: | :-----------: |\n",
    "| Naive Regression      | 85.98$\\pm$4.28      | 81.38$\\pm$8.31       |\n",
    "| Linear Regression (attribute 1)   | 72.99$\\pm$4.33        | 69.99$\\pm$8.66        |\n",
    "| Linear Regression (attribute 2)   | 72.57$\\pm$4.99        | 75.61$\\pm$9.64        |\n",
    "| Linear Regression (attribute 3)   | 63.07$\\pm$5.80       | 68.03$\\pm$11.52        |\n",
    "| Linear Regression (attribute 4)   | 80.25$\\pm$2.36      | 85.49$\\pm$4.58        |\n",
    "| Linear Regression (attribute 5)   | 65.63$\\pm$4.95        | 75.72$\\pm$9.69        |\n",
    "| Linear Regression (attribute 6)   | 43.10$\\pm$3.80        | 44.86$\\pm$7.28        |\n",
    "| Linear Regression (attribute 7)   | 71.19$\\pm$5.33      | 75.07$\\pm$10.35        |\n",
    "| Linear Regression (attribute 8)   | 78.28$\\pm$4.49        | 81.09$\\pm$8.60        |\n",
    "| Linear Regression (attribute 9)   | 72.44$\\pm$4.41        | 71.12$\\pm$8.61        |\n",
    "| Linear Regression (attribute 10)   | 65.50$\\pm$4.75        | 66.18$\\pm$9.25        |\n",
    "| Linear Regression (attribute 11)   | 61.48$\\pm$4.84        | 65.65$\\pm$9.61        |\n",
    "| Linear Regression (attribute 12)   | 39.28$\\pm$2.63        | 36.13$\\pm$5.01        |\n",
    "| Linear Regression (all attributes)   | 22.15$\\pm$2.06        | 23.89$\\pm$5.19        |\n",
    "| Kernel Ridge Regression   | 4.14$\\pm$1.80        | 18.76$\\pm$6.35        |"
   ]
  }
 ],
 "metadata": {
  "kernelspec": {
   "display_name": "Python 3",
   "language": "python",
   "name": "python3"
  },
  "language_info": {
   "codemirror_mode": {
    "name": "ipython",
    "version": 3
   },
   "file_extension": ".py",
   "mimetype": "text/x-python",
   "name": "python",
   "nbconvert_exporter": "python",
   "pygments_lexer": "ipython3",
   "version": "3.7.4"
  }
 },
 "nbformat": 4,
 "nbformat_minor": 2
}
