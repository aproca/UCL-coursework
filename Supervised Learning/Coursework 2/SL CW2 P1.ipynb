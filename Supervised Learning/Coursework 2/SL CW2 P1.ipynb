{
 "cells": [
  {
   "cell_type": "markdown",
   "metadata": {},
   "source": [
    "# Part I"
   ]
  },
  {
   "cell_type": "markdown",
   "metadata": {},
   "source": [
    "## 1.1 Kernel perceptron (Handwritten Digit Classification)"
   ]
  },
  {
   "cell_type": "markdown",
   "metadata": {},
   "source": [
    "### Question 1. Basic Results"
   ]
  },
  {
   "cell_type": "code",
   "execution_count": 1,
   "metadata": {
    "scrolled": true
   },
   "outputs": [],
   "source": [
    "import pandas as pd\n",
    "import numpy as np\n",
    "import matplotlib.pyplot as plt\n",
    "import seaborn as sns\n",
    "from scipy.spatial import distance"
   ]
  },
  {
   "cell_type": "code",
   "execution_count": 2,
   "metadata": {
    "scrolled": true
   },
   "outputs": [],
   "source": [
    "# Imports data\n",
    "file = open('zipcombo.dat','r')\n",
    "data = file.read().split('\\n')\n",
    "del data[-1]"
   ]
  },
  {
   "cell_type": "code",
   "execution_count": 3,
   "metadata": {
    "scrolled": true
   },
   "outputs": [],
   "source": [
    "# Creates X and y from the data\n",
    "X = np.zeros((len(data), 256))\n",
    "y = np.zeros((len(data)))\n",
    "for i in range(0, len(data)):\n",
    "    dpoint = data[i].split(\" \")\n",
    "    del point[-1]\n",
    "    X[i] = np.array(dpoint[1:]).astype(np.float)\n",
    "    y[i] = np.array(dpoint[0]).astype(np.float)"
   ]
  },
  {
   "cell_type": "code",
   "execution_count": 4,
   "metadata": {
    "scrolled": true
   },
   "outputs": [],
   "source": [
    "# Splits data into 80% train and 20% test\n",
    "def train_test_split(X, y):\n",
    "    sample = np.random.rand(X.shape[0])\n",
    "    split = sample < np.percentile(sample, 80)\n",
    "    X_train = X[split].astype(np.float)\n",
    "    y_train = y[split].astype(np.float) \n",
    "    X_test =  X[~split].astype(np.float) \n",
    "    y_test = y[~split].astype(np.float)\n",
    "    return X_train, y_train, X_test, y_test"
   ]
  },
  {
   "cell_type": "code",
   "execution_count": 5,
   "metadata": {},
   "outputs": [],
   "source": [
    "# Splits data into 5-folds for cross-validation\n",
    "def five_fold_split(X):\n",
    "    s = int(len(X)/5)\n",
    "    ind = np.arange(len(X)).astype(int)\n",
    "    train_index = np.zeros((5, len(X) - s))\n",
    "    test_index = np.zeros((5, s))\n",
    "    for i in range(0, 5):\n",
    "        test_index[i] = ind[0+i*s:0+(i+1)*s]\n",
    "        train_index[i] = np.delete(ind, test_index[i])        \n",
    "    return train_index, test_index"
   ]
  },
  {
   "cell_type": "code",
   "execution_count": 6,
   "metadata": {},
   "outputs": [],
   "source": [
    "# Generates table of values\n",
    "def df_generator(amean, astd, bmean, bstd, indexlabels, columnlabels, shape):\n",
    "    str1 = np.char.add(np.char.mod('%.5f', amean), \"+-\")\n",
    "    str1 = np.char.add(str1,np.char.mod('%.5f', astd))\n",
    "    str2 = np.char.add(np.char.mod('%.5f', bmean), \"+-\")\n",
    "    str2 = np.char.add(str2,np.char.mod('%.5f', bstd))\n",
    "    df = pd.DataFrame(data = np.array([str1, str2]).reshape(shape), \n",
    "                      index = indexlabels,columns = columnlabels)\n",
    "    return df"
   ]
  },
  {
   "cell_type": "code",
   "execution_count": 7,
   "metadata": {},
   "outputs": [],
   "source": [
    "# Generates table of values\n",
    "def df_generator2(amean,astd,bmean,bstd,indexlabels,columnlabels,shape):\n",
    "    str1 = np.char.add(np.char.mod('%.5f', amean), \"+-\")\n",
    "    str1 = np.char.add(str1,np.char.mod('%.5f', astd))\n",
    "    str2 = np.char.add(np.char.mod('%.5f', bmean), \"+-\")\n",
    "    str2 = np.char.add(str2,np.char.mod('%.5f', bstd))\n",
    "    df = pd.DataFrame(data = np.array([str1, str2]).T,index = indexlabels, \n",
    "                      columns = columnlabels)\n",
    "    return df"
   ]
  },
  {
   "cell_type": "code",
   "execution_count": 8,
   "metadata": {
    "scrolled": true
   },
   "outputs": [],
   "source": [
    "# Computes polynomial kernel\n",
    "def kernel(Xi,Xt,d):\n",
    "    K = np.dot(Xi, Xt.T)**d\n",
    "    return K      "
   ]
  },
  {
   "cell_type": "code",
   "execution_count": 10,
   "metadata": {},
   "outputs": [],
   "source": [
    "# Computes gaussian kernel\n",
    "def gaussian_kernel(Xi,Xt,c):\n",
    "    Xiprime = np.sum(Xi**2, axis=1, keepdims=True)\n",
    "    Xtprime=np.sum(Xt.T**2, axis=0, keepdims=True)\n",
    "    texp = Xiprime + Xtprime - 2 * np.dot(Xi, Xt.T)\n",
    "    K = np.exp(-c*texp)\n",
    "    return K"
   ]
  },
  {
   "cell_type": "code",
   "execution_count": 11,
   "metadata": {
    "scrolled": true
   },
   "outputs": [],
   "source": [
    "# Computes y_hat \n",
    "def prediction(X, A, t, K, e1): \n",
    "    if e1:\n",
    "        pred = np.dot(A[:,:t], K[t,:t])\n",
    "    else:\n",
    "        pred = np.dot(A, K[t,:])\n",
    "    return pred"
   ]
  },
  {
   "cell_type": "code",
   "execution_count": 12,
   "metadata": {},
   "outputs": [],
   "source": [
    "# Trains one-versus-all (OVA) perceptron\n",
    "def train(X_train, y_train, d, epoch, Ktype = \"poly\"):\n",
    "    A = np.zeros((len(np.unique(y_train)), len(X_train)))\n",
    "    total_mistakes = 0 \n",
    "    if Ktype == \"gauss\":\n",
    "        K = gaussian_kernel(X_train, X_train, d)\n",
    "    else:\n",
    "        K = kernel(X_train, X_train, d)\n",
    "        \n",
    "    e1 = True\n",
    "    for e in range(epoch):\n",
    "        epoch_mistakes = 0\n",
    "        for t in range(len(X_train)):\n",
    "            y_hat = prediction(X_train, A, t, K, e1)\n",
    "            ty = np.full((10), -1)\n",
    "            ty[int(y_train[t])] = 1\n",
    "            indices = np.where((y_hat*ty) <= 0)[0]\n",
    "            y_sign = np.sign(y_hat)\n",
    "            y_sign[np.where(y_sign == 0)] = -1\n",
    "            A[indices,t] -= y_sign[indices]\n",
    "            if np.argmax(y_hat) != y_train[t]:\n",
    "                epoch_mistakes += 1\n",
    "        e1 = False\n",
    "        total_mistakes += epoch_mistakes\n",
    "    return A, (epoch_mistakes)/(len(y_train))"
   ]
  },
  {
   "cell_type": "code",
   "execution_count": 13,
   "metadata": {},
   "outputs": [],
   "source": [
    "# Tests OVA perceptron\n",
    "def test(X_train, X_test, y_test, A, d, conf=False, Ktype=\"poly\", track_mistakes=False):\n",
    "    cmatrix = np.zeros((len(np.unique(y_test)), len(np.unique(y_test))))\n",
    "    mmatrix = np.zeros(len(X_test))\n",
    "    mistakes = 0\n",
    "    if Ktype == \"gauss\":\n",
    "        K = gaussian_kernel(X_train, X_test, d)\n",
    "    else:\n",
    "        K = kernel(X_train, X_test, d)    \n",
    "        \n",
    "    y_hat = np.dot(K.T, A.T)    \n",
    "    for t in range(1, len(X_test)):          \n",
    "        if np.argmax(y_hat[t]) != y_test[t]:\n",
    "            mistakes += 1\n",
    "            if conf:\n",
    "                cmatrix[int(y_test[t])][np.argmax(y_hat[t])] += 1\n",
    "            if track_mistakes:\n",
    "                mmatrix[t] += 1      \n",
    "                \n",
    "    if conf:\n",
    "        for i in range(0, 10):\n",
    "            cmatrix[i] = cmatrix[i]/len(np.where(y_test == i)[0])\n",
    "        return cmatrix\n",
    "    elif track_mistakes:\n",
    "        return mmatrix\n",
    "    else:\n",
    "        return (mistakes)/len(y_test)"
   ]
  },
  {
   "cell_type": "code",
   "execution_count": 14,
   "metadata": {},
   "outputs": [],
   "source": [
    "# Runs training and testing for specified number of runs\n",
    "def train_test(X, y, runs, epochs, d, conf=False, Ktype=\"poly\"):\n",
    "    Etrain = np.zeros((runs))\n",
    "    Etest = np.zeros((runs))\n",
    "    for e in range(0, runs):\n",
    "        X_train, y_train, X_test, y_test = train_test_split(X, y)\n",
    "        A, err = train(X_train, y_train, d, epochs, Ktype)\n",
    "        Etrain[e] = test(X_train, X_train, y_train, A, d, conf, Ktype)\n",
    "        Etest[e] = test(X_train, X_test, y_test, A, d, conf, Ktype)\n",
    "    return np.mean(Etrain), np.std(Etrain), np.mean(Etest), np.std(Etest)"
   ]
  },
  {
   "cell_type": "code",
   "execution_count": 15,
   "metadata": {},
   "outputs": [],
   "source": [
    "Etrain1 = np.zeros((7))\n",
    "stdtrain1 = np.zeros((7))\n",
    "Etest1 = np.zeros((7))\n",
    "stdtest1 = np.zeros((7))\n",
    "for d in range(1,8):\n",
    "    Etrain1[d-1], stdtrain1[d-1], Etest1[d-1], stdtest1[d-1] = train_test(X, y, 20, 25, d)"
   ]
  },
  {
   "cell_type": "code",
   "execution_count": 16,
   "metadata": {},
   "outputs": [
    {
     "data": {
      "text/html": [
       "<style  type=\"text/css\" >\n",
       "</style><table id=\"T_38c25b50_4f09_11eb_aa10_4c32758ef559\" ><thead>    <tr>        <th class=\"blank level0\" ></th>        <th class=\"col_heading level0 col0\" >Train Error</th>        <th class=\"col_heading level0 col1\" >Test Error</th>    </tr></thead><tbody>\n",
       "                <tr>\n",
       "                        <th id=\"T_38c25b50_4f09_11eb_aa10_4c32758ef559level0_row0\" class=\"row_heading level0 row0\" >d=1</th>\n",
       "                        <td id=\"T_38c25b50_4f09_11eb_aa10_4c32758ef559row0_col0\" class=\"data row0 col0\" >0.06847+-0.00913</td>\n",
       "                        <td id=\"T_38c25b50_4f09_11eb_aa10_4c32758ef559row0_col1\" class=\"data row0 col1\" >0.09847+-0.01043</td>\n",
       "            </tr>\n",
       "            <tr>\n",
       "                        <th id=\"T_38c25b50_4f09_11eb_aa10_4c32758ef559level0_row1\" class=\"row_heading level0 row1\" >d=2</th>\n",
       "                        <td id=\"T_38c25b50_4f09_11eb_aa10_4c32758ef559row1_col0\" class=\"data row1 col0\" >0.00032+-0.00023</td>\n",
       "                        <td id=\"T_38c25b50_4f09_11eb_aa10_4c32758ef559row1_col1\" class=\"data row1 col1\" >0.03054+-0.00487</td>\n",
       "            </tr>\n",
       "            <tr>\n",
       "                        <th id=\"T_38c25b50_4f09_11eb_aa10_4c32758ef559level0_row2\" class=\"row_heading level0 row2\" >d=3</th>\n",
       "                        <td id=\"T_38c25b50_4f09_11eb_aa10_4c32758ef559row2_col0\" class=\"data row2 col0\" >0.00020+-0.00021</td>\n",
       "                        <td id=\"T_38c25b50_4f09_11eb_aa10_4c32758ef559row2_col1\" class=\"data row2 col1\" >0.02777+-0.00408</td>\n",
       "            </tr>\n",
       "            <tr>\n",
       "                        <th id=\"T_38c25b50_4f09_11eb_aa10_4c32758ef559level0_row3\" class=\"row_heading level0 row3\" >d=4</th>\n",
       "                        <td id=\"T_38c25b50_4f09_11eb_aa10_4c32758ef559row3_col0\" class=\"data row3 col0\" >0.00013+-0.00011</td>\n",
       "                        <td id=\"T_38c25b50_4f09_11eb_aa10_4c32758ef559row3_col1\" class=\"data row3 col1\" >0.02610+-0.00308</td>\n",
       "            </tr>\n",
       "            <tr>\n",
       "                        <th id=\"T_38c25b50_4f09_11eb_aa10_4c32758ef559level0_row4\" class=\"row_heading level0 row4\" >d=5</th>\n",
       "                        <td id=\"T_38c25b50_4f09_11eb_aa10_4c32758ef559row4_col0\" class=\"data row4 col0\" >0.00012+-0.00008</td>\n",
       "                        <td id=\"T_38c25b50_4f09_11eb_aa10_4c32758ef559row4_col1\" class=\"data row4 col1\" >0.02710+-0.00358</td>\n",
       "            </tr>\n",
       "            <tr>\n",
       "                        <th id=\"T_38c25b50_4f09_11eb_aa10_4c32758ef559level0_row5\" class=\"row_heading level0 row5\" >d=6</th>\n",
       "                        <td id=\"T_38c25b50_4f09_11eb_aa10_4c32758ef559row5_col0\" class=\"data row5 col0\" >0.00013+-0.00010</td>\n",
       "                        <td id=\"T_38c25b50_4f09_11eb_aa10_4c32758ef559row5_col1\" class=\"data row5 col1\" >0.02777+-0.00398</td>\n",
       "            </tr>\n",
       "            <tr>\n",
       "                        <th id=\"T_38c25b50_4f09_11eb_aa10_4c32758ef559level0_row6\" class=\"row_heading level0 row6\" >d=7</th>\n",
       "                        <td id=\"T_38c25b50_4f09_11eb_aa10_4c32758ef559row6_col0\" class=\"data row6 col0\" >0.00013+-0.00009</td>\n",
       "                        <td id=\"T_38c25b50_4f09_11eb_aa10_4c32758ef559row6_col1\" class=\"data row6 col1\" >0.02825+-0.00329</td>\n",
       "            </tr>\n",
       "    </tbody></table>"
      ],
      "text/plain": [
       "<pandas.io.formats.style.Styler at 0x1a24595f50>"
      ]
     },
     "execution_count": 16,
     "metadata": {},
     "output_type": "execute_result"
    }
   ],
   "source": [
    "df1 = df_generator2(Etrain1, stdtrain1, Etest1, stdtest1,[\"d=1\", \"d=2\", \"d=3\", \"d=4\", \n",
    "                                                          \"d=5\", \"d=6\", \"d=7\"], \n",
    "                    [\"Train Error\", \"Test Error\"], (7,2))\n",
    "df1.style"
   ]
  },
  {
   "cell_type": "markdown",
   "metadata": {},
   "source": [
    "### Question 2. Cross-validation"
   ]
  },
  {
   "cell_type": "code",
   "execution_count": 17,
   "metadata": {},
   "outputs": [],
   "source": [
    "# Performs 5-fold cross validation\n",
    "def cross_validation(X_train, y_train, param, epoch, Ktype=\"poly\"):\n",
    "    train_in, test_in = five_fold_split(X_train)\n",
    "    minE = 100\n",
    "    bestd = 1\n",
    "    for d in param:\n",
    "        foldE = 0\n",
    "        for i in range(0, 5):\n",
    "            train_index = train_in[i].astype(int)\n",
    "            test_index = test_in[i].astype(int)\n",
    "            X_trainfold = X_train[train_index[0]:train_index[len(train_index)-1]]\n",
    "            y_trainfold = y_train[train_index[0]:train_index[len(train_index)-1]]\n",
    "            A,_ = train(X_trainfold, y_trainfold, d, epoch, Ktype)\n",
    "            X_testfold = X_train[test_index[0]:test_index[len(test_index)-1]]\n",
    "            y_testfold = y_train[test_index[0]:test_index[len(test_index)-1]]\n",
    "            error = test(X_trainfold, X_testfold, y_testfold, A, d, False, Ktype)\n",
    "            foldE = foldE + error         \n",
    "        if foldE < minE:\n",
    "            bestd = d\n",
    "            minE = foldE\n",
    "    return bestd"
   ]
  },
  {
   "cell_type": "code",
   "execution_count": 18,
   "metadata": {},
   "outputs": [],
   "source": [
    "# Performs cross validation on train data and uses optimal parameter d* to train\n",
    "# and test full dataset\n",
    "def cross_train_test(X, y, runs, epoch, param, Ktype=\"poly\"):\n",
    "    Etest = np.zeros((runs))\n",
    "    dstar = np.zeros((runs))\n",
    "    for e in range(0, runs):\n",
    "        X_train, y_train, X_test, y_test=train_test_split(X, y)\n",
    "        bestd = cross_validation(X_train, y_train, param, epoch, Ktype)       \n",
    "        A,_ = train(X_train, y_train, bestd, epoch, Ktype)\n",
    "        Etest[e] = test(X_train, X_test, y_test, A, bestd, False, Ktype)\n",
    "        dstar[e] = bestd          \n",
    "    return Etest, dstar"
   ]
  },
  {
   "cell_type": "code",
   "execution_count": 19,
   "metadata": {},
   "outputs": [
    {
     "name": "stderr",
     "output_type": "stream",
     "text": [
      "/Users/Administrator/opt/anaconda3/lib/python3.7/site-packages/ipykernel_launcher.py:9: DeprecationWarning: using a non-integer array as obj in delete will result in an error in the future\n",
      "  if __name__ == '__main__':\n"
     ]
    }
   ],
   "source": [
    "E2,bestd2 = cross_train_test(X, y, 20, 25, list(range(1, 8)))"
   ]
  },
  {
   "cell_type": "code",
   "execution_count": 20,
   "metadata": {},
   "outputs": [
    {
     "data": {
      "text/html": [
       "<style  type=\"text/css\" >\n",
       "</style><table id=\"T_cb82fcac_4f1c_11eb_aa10_4c32758ef559\" ><thead>    <tr>        <th class=\"blank level0\" ></th>        <th class=\"col_heading level0 col0\" >Mean d*</th>        <th class=\"col_heading level0 col1\" >Mean Test Error</th>    </tr></thead><tbody>\n",
       "                <tr>\n",
       "                        <th id=\"T_cb82fcac_4f1c_11eb_aa10_4c32758ef559level0_row0\" class=\"row_heading level0 row0\" ></th>\n",
       "                        <td id=\"T_cb82fcac_4f1c_11eb_aa10_4c32758ef559row0_col0\" class=\"data row0 col0\" >3.90000+-0.83066</td>\n",
       "                        <td id=\"T_cb82fcac_4f1c_11eb_aa10_4c32758ef559row0_col1\" class=\"data row0 col1\" >0.02769+-0.00362</td>\n",
       "            </tr>\n",
       "    </tbody></table>"
      ],
      "text/plain": [
       "<pandas.io.formats.style.Styler at 0x1a24a1b950>"
      ]
     },
     "execution_count": 20,
     "metadata": {},
     "output_type": "execute_result"
    }
   ],
   "source": [
    "df2 = df_generator(np.mean(bestd2), np.std(bestd2), np.mean(E2), np.std(E2), \n",
    "                   [\"\"], [\"Mean d*\", \"Mean Test Error\"], (1, 2))\n",
    "df2.style"
   ]
  },
  {
   "cell_type": "markdown",
   "metadata": {},
   "source": [
    "### Question 3. Confusion matrix"
   ]
  },
  {
   "cell_type": "code",
   "execution_count": 21,
   "metadata": {},
   "outputs": [],
   "source": [
    "# Performs cross validation on train data and uses optimal parameter d* to train\n",
    "# and test full dataset; computes confusion matrix for d* on test data and\n",
    "# percentage of mistakes for each digit\n",
    "def cross_confusion(X, y, param, runs, epoch):\n",
    "    cmatrix = np.zeros((runs, 10, 10))\n",
    "    tmistakes = np.zeros(len(X))\n",
    "    for e in range(0, runs):\n",
    "        X_train, y_train, X_test, y_test = train_test_split(X, y)\n",
    "        bestd = cross_validation(X_train, y_train, param, epoch)\n",
    "        A,_ = train(X_train, y_train, bestd, epoch)\n",
    "        cmatrix[e] = test(X_train, X_test, y_test, A, bestd, conf=True)\n",
    "        tmistakes += test(X_train, X, y, A, bestd, conf=False, track_mistakes=True)       \n",
    "    return cmatrix, tmistakes"
   ]
  },
  {
   "cell_type": "code",
   "execution_count": 22,
   "metadata": {},
   "outputs": [
    {
     "name": "stderr",
     "output_type": "stream",
     "text": [
      "/Users/Administrator/opt/anaconda3/lib/python3.7/site-packages/ipykernel_launcher.py:9: DeprecationWarning: using a non-integer array as obj in delete will result in an error in the future\n",
      "  if __name__ == '__main__':\n"
     ]
    }
   ],
   "source": [
    "cmatrix, tmistakes = cross_confusion(X, y, list(range(1, 8)), 20, 25)\n",
    "cmean = np.mean(cmatrix, axis = 0)\n",
    "cstd = np.std(cmatrix, axis = 0)"
   ]
  },
  {
   "cell_type": "code",
   "execution_count": 23,
   "metadata": {},
   "outputs": [
    {
     "data": {
      "text/html": [
       "<style  type=\"text/css\" >\n",
       "</style><table id=\"T_1f340712_4f2f_11eb_aa10_4c32758ef559\" ><thead>    <tr>        <th class=\"blank level0\" ></th>        <th class=\"col_heading level0 col0\" >Predicted Label 0</th>        <th class=\"col_heading level0 col1\" >Predicted Label 1</th>        <th class=\"col_heading level0 col2\" >Predicted Label 2</th>        <th class=\"col_heading level0 col3\" >Predicted Label 3</th>        <th class=\"col_heading level0 col4\" >Predicted Label 4</th>        <th class=\"col_heading level0 col5\" >Predicted Label 5</th>        <th class=\"col_heading level0 col6\" >Predicted Label 6</th>        <th class=\"col_heading level0 col7\" >Predicted Label 7</th>        <th class=\"col_heading level0 col8\" >Predicted Label 8</th>        <th class=\"col_heading level0 col9\" >Predicted Label 9</th>    </tr></thead><tbody>\n",
       "                <tr>\n",
       "                        <th id=\"T_1f340712_4f2f_11eb_aa10_4c32758ef559level0_row0\" class=\"row_heading level0 row0\" >True Label 0</th>\n",
       "                        <td id=\"T_1f340712_4f2f_11eb_aa10_4c32758ef559row0_col0\" class=\"data row0 col0\" >0.000+-0.000</td>\n",
       "                        <td id=\"T_1f340712_4f2f_11eb_aa10_4c32758ef559row0_col1\" class=\"data row0 col1\" >0.000+-0.001</td>\n",
       "                        <td id=\"T_1f340712_4f2f_11eb_aa10_4c32758ef559row0_col2\" class=\"data row0 col2\" >0.002+-0.003</td>\n",
       "                        <td id=\"T_1f340712_4f2f_11eb_aa10_4c32758ef559row0_col3\" class=\"data row0 col3\" >0.001+-0.002</td>\n",
       "                        <td id=\"T_1f340712_4f2f_11eb_aa10_4c32758ef559row0_col4\" class=\"data row0 col4\" >0.000+-0.001</td>\n",
       "                        <td id=\"T_1f340712_4f2f_11eb_aa10_4c32758ef559row0_col5\" class=\"data row0 col5\" >0.001+-0.002</td>\n",
       "                        <td id=\"T_1f340712_4f2f_11eb_aa10_4c32758ef559row0_col6\" class=\"data row0 col6\" >0.002+-0.002</td>\n",
       "                        <td id=\"T_1f340712_4f2f_11eb_aa10_4c32758ef559row0_col7\" class=\"data row0 col7\" >0.000+-0.001</td>\n",
       "                        <td id=\"T_1f340712_4f2f_11eb_aa10_4c32758ef559row0_col8\" class=\"data row0 col8\" >0.000+-0.001</td>\n",
       "                        <td id=\"T_1f340712_4f2f_11eb_aa10_4c32758ef559row0_col9\" class=\"data row0 col9\" >0.001+-0.001</td>\n",
       "            </tr>\n",
       "            <tr>\n",
       "                        <th id=\"T_1f340712_4f2f_11eb_aa10_4c32758ef559level0_row1\" class=\"row_heading level0 row1\" >True Label 1</th>\n",
       "                        <td id=\"T_1f340712_4f2f_11eb_aa10_4c32758ef559row1_col0\" class=\"data row1 col0\" >0.000+-0.001</td>\n",
       "                        <td id=\"T_1f340712_4f2f_11eb_aa10_4c32758ef559row1_col1\" class=\"data row1 col1\" >0.000+-0.000</td>\n",
       "                        <td id=\"T_1f340712_4f2f_11eb_aa10_4c32758ef559row1_col2\" class=\"data row1 col2\" >0.000+-0.001</td>\n",
       "                        <td id=\"T_1f340712_4f2f_11eb_aa10_4c32758ef559row1_col3\" class=\"data row1 col3\" >0.000+-0.001</td>\n",
       "                        <td id=\"T_1f340712_4f2f_11eb_aa10_4c32758ef559row1_col4\" class=\"data row1 col4\" >0.002+-0.002</td>\n",
       "                        <td id=\"T_1f340712_4f2f_11eb_aa10_4c32758ef559row1_col5\" class=\"data row1 col5\" >0.000+-0.000</td>\n",
       "                        <td id=\"T_1f340712_4f2f_11eb_aa10_4c32758ef559row1_col6\" class=\"data row1 col6\" >0.001+-0.002</td>\n",
       "                        <td id=\"T_1f340712_4f2f_11eb_aa10_4c32758ef559row1_col7\" class=\"data row1 col7\" >0.000+-0.001</td>\n",
       "                        <td id=\"T_1f340712_4f2f_11eb_aa10_4c32758ef559row1_col8\" class=\"data row1 col8\" >0.001+-0.003</td>\n",
       "                        <td id=\"T_1f340712_4f2f_11eb_aa10_4c32758ef559row1_col9\" class=\"data row1 col9\" >0.000+-0.001</td>\n",
       "            </tr>\n",
       "            <tr>\n",
       "                        <th id=\"T_1f340712_4f2f_11eb_aa10_4c32758ef559level0_row2\" class=\"row_heading level0 row2\" >True Label 2</th>\n",
       "                        <td id=\"T_1f340712_4f2f_11eb_aa10_4c32758ef559row2_col0\" class=\"data row2 col0\" >0.005+-0.007</td>\n",
       "                        <td id=\"T_1f340712_4f2f_11eb_aa10_4c32758ef559row2_col1\" class=\"data row2 col1\" >0.002+-0.004</td>\n",
       "                        <td id=\"T_1f340712_4f2f_11eb_aa10_4c32758ef559row2_col2\" class=\"data row2 col2\" >0.000+-0.000</td>\n",
       "                        <td id=\"T_1f340712_4f2f_11eb_aa10_4c32758ef559row2_col3\" class=\"data row2 col3\" >0.007+-0.006</td>\n",
       "                        <td id=\"T_1f340712_4f2f_11eb_aa10_4c32758ef559row2_col4\" class=\"data row2 col4\" >0.006+-0.005</td>\n",
       "                        <td id=\"T_1f340712_4f2f_11eb_aa10_4c32758ef559row2_col5\" class=\"data row2 col5\" >0.002+-0.003</td>\n",
       "                        <td id=\"T_1f340712_4f2f_11eb_aa10_4c32758ef559row2_col6\" class=\"data row2 col6\" >0.000+-0.001</td>\n",
       "                        <td id=\"T_1f340712_4f2f_11eb_aa10_4c32758ef559row2_col7\" class=\"data row2 col7\" >0.006+-0.004</td>\n",
       "                        <td id=\"T_1f340712_4f2f_11eb_aa10_4c32758ef559row2_col8\" class=\"data row2 col8\" >0.005+-0.005</td>\n",
       "                        <td id=\"T_1f340712_4f2f_11eb_aa10_4c32758ef559row2_col9\" class=\"data row2 col9\" >0.000+-0.000</td>\n",
       "            </tr>\n",
       "            <tr>\n",
       "                        <th id=\"T_1f340712_4f2f_11eb_aa10_4c32758ef559level0_row3\" class=\"row_heading level0 row3\" >True Label 3</th>\n",
       "                        <td id=\"T_1f340712_4f2f_11eb_aa10_4c32758ef559row3_col0\" class=\"data row3 col0\" >0.001+-0.002</td>\n",
       "                        <td id=\"T_1f340712_4f2f_11eb_aa10_4c32758ef559row3_col1\" class=\"data row3 col1\" >0.001+-0.003</td>\n",
       "                        <td id=\"T_1f340712_4f2f_11eb_aa10_4c32758ef559row3_col2\" class=\"data row3 col2\" >0.006+-0.004</td>\n",
       "                        <td id=\"T_1f340712_4f2f_11eb_aa10_4c32758ef559row3_col3\" class=\"data row3 col3\" >0.000+-0.000</td>\n",
       "                        <td id=\"T_1f340712_4f2f_11eb_aa10_4c32758ef559row3_col4\" class=\"data row3 col4\" >0.001+-0.002</td>\n",
       "                        <td id=\"T_1f340712_4f2f_11eb_aa10_4c32758ef559row3_col5\" class=\"data row3 col5\" >0.023+-0.010</td>\n",
       "                        <td id=\"T_1f340712_4f2f_11eb_aa10_4c32758ef559row3_col6\" class=\"data row3 col6\" >0.001+-0.002</td>\n",
       "                        <td id=\"T_1f340712_4f2f_11eb_aa10_4c32758ef559row3_col7\" class=\"data row3 col7\" >0.005+-0.004</td>\n",
       "                        <td id=\"T_1f340712_4f2f_11eb_aa10_4c32758ef559row3_col8\" class=\"data row3 col8\" >0.013+-0.008</td>\n",
       "                        <td id=\"T_1f340712_4f2f_11eb_aa10_4c32758ef559row3_col9\" class=\"data row3 col9\" >0.002+-0.003</td>\n",
       "            </tr>\n",
       "            <tr>\n",
       "                        <th id=\"T_1f340712_4f2f_11eb_aa10_4c32758ef559level0_row4\" class=\"row_heading level0 row4\" >True Label 4</th>\n",
       "                        <td id=\"T_1f340712_4f2f_11eb_aa10_4c32758ef559row4_col0\" class=\"data row4 col0\" >0.001+-0.002</td>\n",
       "                        <td id=\"T_1f340712_4f2f_11eb_aa10_4c32758ef559row4_col1\" class=\"data row4 col1\" >0.008+-0.006</td>\n",
       "                        <td id=\"T_1f340712_4f2f_11eb_aa10_4c32758ef559row4_col2\" class=\"data row4 col2\" >0.004+-0.005</td>\n",
       "                        <td id=\"T_1f340712_4f2f_11eb_aa10_4c32758ef559row4_col3\" class=\"data row4 col3\" >0.001+-0.002</td>\n",
       "                        <td id=\"T_1f340712_4f2f_11eb_aa10_4c32758ef559row4_col4\" class=\"data row4 col4\" >0.000+-0.000</td>\n",
       "                        <td id=\"T_1f340712_4f2f_11eb_aa10_4c32758ef559row4_col5\" class=\"data row4 col5\" >0.002+-0.004</td>\n",
       "                        <td id=\"T_1f340712_4f2f_11eb_aa10_4c32758ef559row4_col6\" class=\"data row4 col6\" >0.005+-0.004</td>\n",
       "                        <td id=\"T_1f340712_4f2f_11eb_aa10_4c32758ef559row4_col7\" class=\"data row4 col7\" >0.001+-0.002</td>\n",
       "                        <td id=\"T_1f340712_4f2f_11eb_aa10_4c32758ef559row4_col8\" class=\"data row4 col8\" >0.001+-0.002</td>\n",
       "                        <td id=\"T_1f340712_4f2f_11eb_aa10_4c32758ef559row4_col9\" class=\"data row4 col9\" >0.009+-0.006</td>\n",
       "            </tr>\n",
       "            <tr>\n",
       "                        <th id=\"T_1f340712_4f2f_11eb_aa10_4c32758ef559level0_row5\" class=\"row_heading level0 row5\" >True Label 5</th>\n",
       "                        <td id=\"T_1f340712_4f2f_11eb_aa10_4c32758ef559row5_col0\" class=\"data row5 col0\" >0.008+-0.007</td>\n",
       "                        <td id=\"T_1f340712_4f2f_11eb_aa10_4c32758ef559row5_col1\" class=\"data row5 col1\" >0.001+-0.002</td>\n",
       "                        <td id=\"T_1f340712_4f2f_11eb_aa10_4c32758ef559row5_col2\" class=\"data row5 col2\" >0.003+-0.004</td>\n",
       "                        <td id=\"T_1f340712_4f2f_11eb_aa10_4c32758ef559row5_col3\" class=\"data row5 col3\" >0.011+-0.011</td>\n",
       "                        <td id=\"T_1f340712_4f2f_11eb_aa10_4c32758ef559row5_col4\" class=\"data row5 col4\" >0.003+-0.004</td>\n",
       "                        <td id=\"T_1f340712_4f2f_11eb_aa10_4c32758ef559row5_col5\" class=\"data row5 col5\" >0.000+-0.000</td>\n",
       "                        <td id=\"T_1f340712_4f2f_11eb_aa10_4c32758ef559row5_col6\" class=\"data row5 col6\" >0.009+-0.007</td>\n",
       "                        <td id=\"T_1f340712_4f2f_11eb_aa10_4c32758ef559row5_col7\" class=\"data row5 col7\" >0.001+-0.002</td>\n",
       "                        <td id=\"T_1f340712_4f2f_11eb_aa10_4c32758ef559row5_col8\" class=\"data row5 col8\" >0.002+-0.004</td>\n",
       "                        <td id=\"T_1f340712_4f2f_11eb_aa10_4c32758ef559row5_col9\" class=\"data row5 col9\" >0.005+-0.006</td>\n",
       "            </tr>\n",
       "            <tr>\n",
       "                        <th id=\"T_1f340712_4f2f_11eb_aa10_4c32758ef559level0_row6\" class=\"row_heading level0 row6\" >True Label 6</th>\n",
       "                        <td id=\"T_1f340712_4f2f_11eb_aa10_4c32758ef559row6_col0\" class=\"data row6 col0\" >0.008+-0.008</td>\n",
       "                        <td id=\"T_1f340712_4f2f_11eb_aa10_4c32758ef559row6_col1\" class=\"data row6 col1\" >0.003+-0.005</td>\n",
       "                        <td id=\"T_1f340712_4f2f_11eb_aa10_4c32758ef559row6_col2\" class=\"data row6 col2\" >0.003+-0.005</td>\n",
       "                        <td id=\"T_1f340712_4f2f_11eb_aa10_4c32758ef559row6_col3\" class=\"data row6 col3\" >0.001+-0.002</td>\n",
       "                        <td id=\"T_1f340712_4f2f_11eb_aa10_4c32758ef559row6_col4\" class=\"data row6 col4\" >0.005+-0.006</td>\n",
       "                        <td id=\"T_1f340712_4f2f_11eb_aa10_4c32758ef559row6_col5\" class=\"data row6 col5\" >0.004+-0.006</td>\n",
       "                        <td id=\"T_1f340712_4f2f_11eb_aa10_4c32758ef559row6_col6\" class=\"data row6 col6\" >0.000+-0.000</td>\n",
       "                        <td id=\"T_1f340712_4f2f_11eb_aa10_4c32758ef559row6_col7\" class=\"data row6 col7\" >0.000+-0.000</td>\n",
       "                        <td id=\"T_1f340712_4f2f_11eb_aa10_4c32758ef559row6_col8\" class=\"data row6 col8\" >0.004+-0.004</td>\n",
       "                        <td id=\"T_1f340712_4f2f_11eb_aa10_4c32758ef559row6_col9\" class=\"data row6 col9\" >0.000+-0.001</td>\n",
       "            </tr>\n",
       "            <tr>\n",
       "                        <th id=\"T_1f340712_4f2f_11eb_aa10_4c32758ef559level0_row7\" class=\"row_heading level0 row7\" >True Label 7</th>\n",
       "                        <td id=\"T_1f340712_4f2f_11eb_aa10_4c32758ef559row7_col0\" class=\"data row7 col0\" >0.000+-0.001</td>\n",
       "                        <td id=\"T_1f340712_4f2f_11eb_aa10_4c32758ef559row7_col1\" class=\"data row7 col1\" >0.000+-0.001</td>\n",
       "                        <td id=\"T_1f340712_4f2f_11eb_aa10_4c32758ef559row7_col2\" class=\"data row7 col2\" >0.004+-0.005</td>\n",
       "                        <td id=\"T_1f340712_4f2f_11eb_aa10_4c32758ef559row7_col3\" class=\"data row7 col3\" >0.002+-0.003</td>\n",
       "                        <td id=\"T_1f340712_4f2f_11eb_aa10_4c32758ef559row7_col4\" class=\"data row7 col4\" >0.005+-0.006</td>\n",
       "                        <td id=\"T_1f340712_4f2f_11eb_aa10_4c32758ef559row7_col5\" class=\"data row7 col5\" >0.001+-0.003</td>\n",
       "                        <td id=\"T_1f340712_4f2f_11eb_aa10_4c32758ef559row7_col6\" class=\"data row7 col6\" >0.000+-0.000</td>\n",
       "                        <td id=\"T_1f340712_4f2f_11eb_aa10_4c32758ef559row7_col7\" class=\"data row7 col7\" >0.000+-0.000</td>\n",
       "                        <td id=\"T_1f340712_4f2f_11eb_aa10_4c32758ef559row7_col8\" class=\"data row7 col8\" >0.002+-0.004</td>\n",
       "                        <td id=\"T_1f340712_4f2f_11eb_aa10_4c32758ef559row7_col9\" class=\"data row7 col9\" >0.008+-0.009</td>\n",
       "            </tr>\n",
       "            <tr>\n",
       "                        <th id=\"T_1f340712_4f2f_11eb_aa10_4c32758ef559level0_row8\" class=\"row_heading level0 row8\" >True Label 8</th>\n",
       "                        <td id=\"T_1f340712_4f2f_11eb_aa10_4c32758ef559row8_col0\" class=\"data row8 col0\" >0.010+-0.008</td>\n",
       "                        <td id=\"T_1f340712_4f2f_11eb_aa10_4c32758ef559row8_col1\" class=\"data row8 col1\" >0.006+-0.005</td>\n",
       "                        <td id=\"T_1f340712_4f2f_11eb_aa10_4c32758ef559row8_col2\" class=\"data row8 col2\" >0.007+-0.008</td>\n",
       "                        <td id=\"T_1f340712_4f2f_11eb_aa10_4c32758ef559row8_col3\" class=\"data row8 col3\" >0.011+-0.009</td>\n",
       "                        <td id=\"T_1f340712_4f2f_11eb_aa10_4c32758ef559row8_col4\" class=\"data row8 col4\" >0.004+-0.004</td>\n",
       "                        <td id=\"T_1f340712_4f2f_11eb_aa10_4c32758ef559row8_col5\" class=\"data row8 col5\" >0.010+-0.009</td>\n",
       "                        <td id=\"T_1f340712_4f2f_11eb_aa10_4c32758ef559row8_col6\" class=\"data row8 col6\" >0.001+-0.003</td>\n",
       "                        <td id=\"T_1f340712_4f2f_11eb_aa10_4c32758ef559row8_col7\" class=\"data row8 col7\" >0.004+-0.005</td>\n",
       "                        <td id=\"T_1f340712_4f2f_11eb_aa10_4c32758ef559row8_col8\" class=\"data row8 col8\" >0.000+-0.000</td>\n",
       "                        <td id=\"T_1f340712_4f2f_11eb_aa10_4c32758ef559row8_col9\" class=\"data row8 col9\" >0.002+-0.005</td>\n",
       "            </tr>\n",
       "            <tr>\n",
       "                        <th id=\"T_1f340712_4f2f_11eb_aa10_4c32758ef559level0_row9\" class=\"row_heading level0 row9\" >True Label 9</th>\n",
       "                        <td id=\"T_1f340712_4f2f_11eb_aa10_4c32758ef559row9_col0\" class=\"data row9 col0\" >0.002+-0.003</td>\n",
       "                        <td id=\"T_1f340712_4f2f_11eb_aa10_4c32758ef559row9_col1\" class=\"data row9 col1\" >0.001+-0.002</td>\n",
       "                        <td id=\"T_1f340712_4f2f_11eb_aa10_4c32758ef559row9_col2\" class=\"data row9 col2\" >0.002+-0.004</td>\n",
       "                        <td id=\"T_1f340712_4f2f_11eb_aa10_4c32758ef559row9_col3\" class=\"data row9 col3\" >0.002+-0.003</td>\n",
       "                        <td id=\"T_1f340712_4f2f_11eb_aa10_4c32758ef559row9_col4\" class=\"data row9 col4\" >0.009+-0.007</td>\n",
       "                        <td id=\"T_1f340712_4f2f_11eb_aa10_4c32758ef559row9_col5\" class=\"data row9 col5\" >0.002+-0.005</td>\n",
       "                        <td id=\"T_1f340712_4f2f_11eb_aa10_4c32758ef559row9_col6\" class=\"data row9 col6\" >0.000+-0.001</td>\n",
       "                        <td id=\"T_1f340712_4f2f_11eb_aa10_4c32758ef559row9_col7\" class=\"data row9 col7\" >0.011+-0.008</td>\n",
       "                        <td id=\"T_1f340712_4f2f_11eb_aa10_4c32758ef559row9_col8\" class=\"data row9 col8\" >0.002+-0.004</td>\n",
       "                        <td id=\"T_1f340712_4f2f_11eb_aa10_4c32758ef559row9_col9\" class=\"data row9 col9\" >0.000+-0.000</td>\n",
       "            </tr>\n",
       "    </tbody></table>"
      ],
      "text/plain": [
       "<pandas.io.formats.style.Styler at 0x1a24a17050>"
      ]
     },
     "execution_count": 23,
     "metadata": {},
     "output_type": "execute_result"
    }
   ],
   "source": [
    "datastr = np.char.add(np.char.mod('%.3f', cmean), \"+-\")\n",
    "datastr = np.char.add(datastr, np.char.mod('%.3f', cstd))\n",
    "df3 = pd.DataFrame(data=datastr,columns=[\"Predicted Label 0\", \"Predicted Label 1\", \"Predicted Label 2\", \"Predicted Label 3\", \"Predicted Label 4\", \"Predicted Label 5\", \"Predicted Label 6\", \"Predicted Label 7\",\n",
    "                                     \"Predicted Label 8\", \"Predicted Label 9\"], index = [\"True Label 0\", \"True Label 1\", \"True Label 2\", \"True Label 3\", \"True Label 4\", \"True Label 5\", \"True Label 6\", \"True Label 7\",\n",
    "                                     \"True Label 8\", \"True Label 9\"])\n",
    "df3.style                                 "
   ]
  },
  {
   "cell_type": "code",
   "execution_count": 24,
   "metadata": {},
   "outputs": [
    {
     "data": {
      "image/png": "[encoded data removed]",
      "text/plain": [
       "<Figure size 432x288 with 2 Axes>"
      ]
     },
     "metadata": {
      "needs_background": "light"
     },
     "output_type": "display_data"
    }
   ],
   "source": [
    "plt.figure()\n",
    "ax = sns.heatmap(cmean, cmap=\"rocket_r\", square=True, linewidth=0.3)\n",
    "ax.set_xlabel('Predicted Label')\n",
    "ax.set_ylabel('True Label')\n",
    "y1,y2 = plt.ylim() \n",
    "y1 += 0.5 \n",
    "y2 -= 0.5 \n",
    "plt.ylim(y1, y2)\n",
    "plt.show()"
   ]
  },
  {
   "cell_type": "markdown",
   "metadata": {},
   "source": [
    "### Question 4. "
   ]
  },
  {
   "cell_type": "code",
   "execution_count": 25,
   "metadata": {},
   "outputs": [],
   "source": [
    "idx = np.argpartition(tmistakes, -5)[-5:]\n",
    "top5 = idx[np.argsort((-tmistakes)[idx])]"
   ]
  },
  {
   "cell_type": "code",
   "execution_count": 26,
   "metadata": {},
   "outputs": [
    {
     "name": "stdout",
     "output_type": "stream",
     "text": [
      "[5296  796 5124 9013 8284]\n"
     ]
    }
   ],
   "source": [
    "print(top5)"
   ]
  },
  {
   "cell_type": "code",
   "execution_count": 27,
   "metadata": {},
   "outputs": [
    {
     "data": {
      "image/png": "[encoded data removed]",
      "text/plain": [
       "<Figure size 1080x1080 with 5 Axes>"
      ]
     },
     "metadata": {},
     "output_type": "display_data"
    }
   ],
   "source": [
    "fig, axs = plt.subplots(1, 5, sharey = True, figsize = (15, 15))\n",
    "for i in range(len(top5)):\n",
    "    axs[i].title.set_text((\"Label: \" + np.str(y[top5[i]])))\n",
    "    axs[i].set(aspect = 'equal')\n",
    "    axs[i].imshow(np.reshape(X[top5[i]], (16, 16)),\n",
    "        interpolation = \"None\",\n",
    "        cmap = 'gray')\n",
    "    axs[i].set_xticks([])\n",
    "    axs[i].set_yticks([])"
   ]
  },
  {
   "cell_type": "markdown",
   "metadata": {},
   "source": [
    "### Question 5."
   ]
  },
  {
   "cell_type": "markdown",
   "metadata": {},
   "source": [
    "Part 1."
   ]
  },
  {
   "cell_type": "code",
   "execution_count": 29,
   "metadata": {},
   "outputs": [
    {
     "name": "stdout",
     "output_type": "stream",
     "text": [
      "15.620569627897698\n"
     ]
    }
   ],
   "source": [
    "median = np.median(distance.cdist(X, X))\n",
    "print(median)"
   ]
  },
  {
   "cell_type": "code",
   "execution_count": 30,
   "metadata": {},
   "outputs": [
    {
     "name": "stdout",
     "output_type": "stream",
     "text": [
      "0.06401815195100446\n"
     ]
    }
   ],
   "source": [
    "c = 1/median\n",
    "print(c)"
   ]
  },
  {
   "cell_type": "code",
   "execution_count": 31,
   "metadata": {},
   "outputs": [
    {
     "name": "stdout",
     "output_type": "stream",
     "text": [
      "[0.00401815 0.01401815 0.02401815 0.03401815 0.04401815 0.05401815\n",
      " 0.06401815]\n"
     ]
    }
   ],
   "source": [
    "# Parameter initialization\n",
    "S = np.arange(c-0.06, c+0.01, 0.01)\n",
    "print(S)"
   ]
  },
  {
   "cell_type": "code",
   "execution_count": 32,
   "metadata": {},
   "outputs": [],
   "source": [
    "Etrain5 = np.zeros((len(S)))\n",
    "stdtrain5 = np.zeros((len(S)))\n",
    "Etest5 = np.zeros((len(S)))\n",
    "stdtest5 = np.zeros((len(S)))\n",
    "i = 0\n",
    "for c in S:\n",
    "    Etrain5[i], stdtrain5[i], Etest5[i], stdtest5[i] = train_test(X, y, 20, 15, c, False, \"gauss\")\n",
    "    i += 1"
   ]
  },
  {
   "cell_type": "code",
   "execution_count": 33,
   "metadata": {},
   "outputs": [
    {
     "data": {
      "text/html": [
       "<style  type=\"text/css\" >\n",
       "</style><table id=\"T_6f984450_4cf7_11eb_b2aa_4c32758ef559\" ><thead>    <tr>        <th class=\"blank level0\" ></th>        <th class=\"col_heading level0 col0\" >Train Error</th>        <th class=\"col_heading level0 col1\" >Test Error</th>    </tr></thead><tbody>\n",
       "                <tr>\n",
       "                        <th id=\"T_6f984450_4cf7_11eb_b2aa_4c32758ef559level0_row0\" class=\"row_heading level0 row0\" >c=0.004</th>\n",
       "                        <td id=\"T_6f984450_4cf7_11eb_b2aa_4c32758ef559row0_col0\" class=\"data row0 col0\" >0.00095+-0.00065</td>\n",
       "                        <td id=\"T_6f984450_4cf7_11eb_b2aa_4c32758ef559row0_col1\" class=\"data row0 col1\" >0.03116+-0.00478</td>\n",
       "            </tr>\n",
       "            <tr>\n",
       "                        <th id=\"T_6f984450_4cf7_11eb_b2aa_4c32758ef559level0_row1\" class=\"row_heading level0 row1\" >c=0.014</th>\n",
       "                        <td id=\"T_6f984450_4cf7_11eb_b2aa_4c32758ef559row1_col0\" class=\"data row1 col0\" >0.00011+-0.00009</td>\n",
       "                        <td id=\"T_6f984450_4cf7_11eb_b2aa_4c32758ef559row1_col1\" class=\"data row1 col1\" >0.02382+-0.00403</td>\n",
       "            </tr>\n",
       "            <tr>\n",
       "                        <th id=\"T_6f984450_4cf7_11eb_b2aa_4c32758ef559level0_row2\" class=\"row_heading level0 row2\" >c=0.024</th>\n",
       "                        <td id=\"T_6f984450_4cf7_11eb_b2aa_4c32758ef559row2_col0\" class=\"data row2 col0\" >0.00011+-0.00006</td>\n",
       "                        <td id=\"T_6f984450_4cf7_11eb_b2aa_4c32758ef559row2_col1\" class=\"data row2 col1\" >0.02599+-0.00387</td>\n",
       "            </tr>\n",
       "            <tr>\n",
       "                        <th id=\"T_6f984450_4cf7_11eb_b2aa_4c32758ef559level0_row3\" class=\"row_heading level0 row3\" >c=0.034</th>\n",
       "                        <td id=\"T_6f984450_4cf7_11eb_b2aa_4c32758ef559row3_col0\" class=\"data row3 col0\" >0.00007+-0.00008</td>\n",
       "                        <td id=\"T_6f984450_4cf7_11eb_b2aa_4c32758ef559row3_col1\" class=\"data row3 col1\" >0.02987+-0.00323</td>\n",
       "            </tr>\n",
       "            <tr>\n",
       "                        <th id=\"T_6f984450_4cf7_11eb_b2aa_4c32758ef559level0_row4\" class=\"row_heading level0 row4\" >c=0.044</th>\n",
       "                        <td id=\"T_6f984450_4cf7_11eb_b2aa_4c32758ef559row4_col0\" class=\"data row4 col0\" >0.00005+-0.00008</td>\n",
       "                        <td id=\"T_6f984450_4cf7_11eb_b2aa_4c32758ef559row4_col1\" class=\"data row4 col1\" >0.03441+-0.00369</td>\n",
       "            </tr>\n",
       "            <tr>\n",
       "                        <th id=\"T_6f984450_4cf7_11eb_b2aa_4c32758ef559level0_row5\" class=\"row_heading level0 row5\" >c=0.054</th>\n",
       "                        <td id=\"T_6f984450_4cf7_11eb_b2aa_4c32758ef559row5_col0\" class=\"data row5 col0\" >0.00001+-0.00004</td>\n",
       "                        <td id=\"T_6f984450_4cf7_11eb_b2aa_4c32758ef559row5_col1\" class=\"data row5 col1\" >0.03919+-0.00448</td>\n",
       "            </tr>\n",
       "            <tr>\n",
       "                        <th id=\"T_6f984450_4cf7_11eb_b2aa_4c32758ef559level0_row6\" class=\"row_heading level0 row6\" >c=0.064</th>\n",
       "                        <td id=\"T_6f984450_4cf7_11eb_b2aa_4c32758ef559row6_col0\" class=\"data row6 col0\" >0.00000+-0.00000</td>\n",
       "                        <td id=\"T_6f984450_4cf7_11eb_b2aa_4c32758ef559row6_col1\" class=\"data row6 col1\" >0.04296+-0.00397</td>\n",
       "            </tr>\n",
       "    </tbody></table>"
      ],
      "text/plain": [
       "<pandas.io.formats.style.Styler at 0x1a24e083d0>"
      ]
     },
     "execution_count": 33,
     "metadata": {},
     "output_type": "execute_result"
    }
   ],
   "source": [
    "df5 = df_generator2(Etrain5, stdtrain5, Etest5, stdtest5, [\"c=0.004\", \"c=0.014\", \"c=0.024\", \"c=0.034\", \"c=0.044\", \"c=0.054\", \"c=0.064\"],\n",
    "                    [\"Train Error\",\"Test Error\"], (7, 2))\n",
    "df5.style"
   ]
  },
  {
   "cell_type": "markdown",
   "metadata": {},
   "source": [
    "Part 2."
   ]
  },
  {
   "cell_type": "code",
   "execution_count": 35,
   "metadata": {},
   "outputs": [
    {
     "name": "stderr",
     "output_type": "stream",
     "text": [
      "/Users/Administrator/opt/anaconda3/lib/python3.7/site-packages/ipykernel_launcher.py:9: DeprecationWarning: using a non-integer array as obj in delete will result in an error in the future\n",
      "  if __name__ == '__main__':\n"
     ]
    }
   ],
   "source": [
    "E6, bestd6 = cross_train_test(X, y, 20, 15, S, \"gauss\")"
   ]
  },
  {
   "cell_type": "code",
   "execution_count": 36,
   "metadata": {},
   "outputs": [
    {
     "data": {
      "text/html": [
       "<style  type=\"text/css\" >\n",
       "</style><table id=\"T_fb28feaa_4d25_11eb_b2aa_4c32758ef559\" ><thead>    <tr>        <th class=\"blank level0\" ></th>        <th class=\"col_heading level0 col0\" >Mean c*</th>        <th class=\"col_heading level0 col1\" >Mean Test Error</th>    </tr></thead><tbody>\n",
       "                <tr>\n",
       "                        <th id=\"T_fb28feaa_4d25_11eb_b2aa_4c32758ef559level0_row0\" class=\"row_heading level0 row0\" ></th>\n",
       "                        <td id=\"T_fb28feaa_4d25_11eb_b2aa_4c32758ef559row0_col0\" class=\"data row0 col0\" >0.01702+-0.00640</td>\n",
       "                        <td id=\"T_fb28feaa_4d25_11eb_b2aa_4c32758ef559row0_col1\" class=\"data row0 col1\" >0.02624+-0.00309</td>\n",
       "            </tr>\n",
       "    </tbody></table>"
      ],
      "text/plain": [
       "<pandas.io.formats.style.Styler at 0x1a24b1d5d0>"
      ]
     },
     "execution_count": 36,
     "metadata": {},
     "output_type": "execute_result"
    }
   ],
   "source": [
    "df6 = df_generator(np.mean(bestd6), np.std(bestd6), np.mean(E6), np.std(E6), [\"\"],\n",
    "                   [\"Mean c*\", \"Mean Test Error\"], (1, 2))\n",
    "df6.style"
   ]
  },
  {
   "cell_type": "markdown",
   "metadata": {},
   "source": [
    "### Question 6."
   ]
  },
  {
   "cell_type": "markdown",
   "metadata": {},
   "source": [
    "#### Part 1."
   ]
  },
  {
   "cell_type": "code",
   "execution_count": 31,
   "metadata": {},
   "outputs": [],
   "source": [
    "# Computes y_hat for one vs. one (OVO) perceptron\n",
    "def ovoprediction(X, A, t, K, e1): \n",
    "    if e1:\n",
    "        pred = np.dot(A[:t], K[t, :t])\n",
    "    else:\n",
    "        pred = np.dot(A, K[t, :])\n",
    "    return pred"
   ]
  },
  {
   "cell_type": "code",
   "execution_count": 32,
   "metadata": {},
   "outputs": [],
   "source": [
    "# Trains OVO perceptron\n",
    "def train_one(X_train, y_train, d, epoch, tK):\n",
    "    A = np.zeros(len(X_train))\n",
    "    K = tK\n",
    "    e1 = True\n",
    "    pred = np.zeros((len(X_train)))\n",
    "    for e in range(epoch):\n",
    "        for i in range(len(X_train)):         \n",
    "            y_hat = ovoprediction(X_train, A, i, K, e1)\n",
    "            y_sign = np.sign(y_hat)\n",
    "            if y_sign == 0:\n",
    "                y_sign = -1\n",
    "            if y_hat*y_train[i] <= 0:\n",
    "                A[i] -= y_sign\n",
    "        e1 = False        \n",
    "    return A"
   ]
  },
  {
   "cell_type": "code",
   "execution_count": 33,
   "metadata": {},
   "outputs": [],
   "source": [
    "# Trains OVO perceptron\n",
    "def train_all(X_train, y_train, d, epoch):\n",
    "    k = len(np.unique(y_train))\n",
    "    A = []\n",
    "    ind = 0\n",
    "    K = kernel(X_train, X_train, d)\n",
    "    for i in range(0, k):\n",
    "        for j in range(i+1, k):\n",
    "            indices = np.logical_or(y_train == i, y_train == j)\n",
    "            ty = y_train[indices]\n",
    "            ty[ty == j] = -1\n",
    "            ty[ty == i] = 1\n",
    "            tx = X_train[indices]\n",
    "            tK = K[indices]\n",
    "            tK = tK[:,indices]\n",
    "            tA = train_one(tx, ty, d, epoch, tK)\n",
    "            A.append(tA)\n",
    "    return A"
   ]
  },
  {
   "cell_type": "code",
   "execution_count": 34,
   "metadata": {},
   "outputs": [],
   "source": [
    "# Tests OVO perceptron\n",
    "def test_one(A, d, K):\n",
    "    y_hat = np.dot(K.T, A)\n",
    "    y_hatsign = np.sign(y_hat)\n",
    "    y_hatsign[np.where(y_hatsign == 0)] = -1\n",
    "    return y_hatsign"
   ]
  },
  {
   "cell_type": "code",
   "execution_count": 35,
   "metadata": {},
   "outputs": [],
   "source": [
    "# Tests OVO perceptron\n",
    "def test_all(X_train, y_train, X_test, y_test, A, d):\n",
    "    k = len(np.unique(y_test))\n",
    "    confidence = np.zeros((int(k*(k-1)/2), len(X_test)))\n",
    "    ind = 0\n",
    "    K = kernel(X_train, X_test, d)\n",
    "    for i in range(0, k):\n",
    "        for j in range(i+1, k):\n",
    "            tempy = np.full((len(X_test)), -1)\n",
    "            tempy[y_test == i] = 1\n",
    "            tx = X_train[np.logical_or(y_train == i, y_train == j)]\n",
    "            tK = K[np.logical_or(y_train == i, y_train == j)]\n",
    "            y_hatsign = test_one(A[ind], d, tK)\n",
    "            confidence[ind] = y_hatsign\n",
    "            ind += 1\n",
    "    kconfidence = np.zeros((k, len(X_test)))\n",
    "    for i in range(0, k):\n",
    "        ind = 0\n",
    "        for j in range(0, k):\n",
    "            for l in range(j+1, k):\n",
    "                if i == j:\n",
    "                    kconfidence[i] += confidence[ind]\n",
    "                elif i == l:\n",
    "                    kconfidence[i] -= confidence[ind]\n",
    "                ind += 1\n",
    "    predictions = np.zeros(len(X_test))\n",
    "    for i in range(0, len(X_test)):\n",
    "        predictions[i] = np.argmax(kconfidence[:, i])\n",
    "    mistakes = len(np.where(predictions != y_test)[0])\n",
    "    return mistakes/len(X_test)"
   ]
  },
  {
   "cell_type": "code",
   "execution_count": 36,
   "metadata": {},
   "outputs": [],
   "source": [
    "# Runs training and testing for specified number of runs\n",
    "def ovotrain_test(X, y, runs, epochs, d):\n",
    "    Etrain = np.zeros((runs))\n",
    "    Etest = np.zeros((runs))\n",
    "    for e in range(0, runs):\n",
    "        X_train, y_train, X_test, y_test=train_test_split(X, y)\n",
    "        A = train_all(X_train, y_train, d, epochs)\n",
    "        Etrain[e] = test_all(X_train, y_train, X_train, y_train, A, d)\n",
    "        Etest[e] = test_all(X_train, y_train, X_test, y_test, A, d)\n",
    "    return np.mean(Etrain), np.std(Etrain), np.mean(Etest), np.std(Etest)"
   ]
  },
  {
   "cell_type": "code",
   "execution_count": null,
   "metadata": {},
   "outputs": [],
   "source": [
    "Etrain7 = np.zeros((7))\n",
    "stdtrain7 = np.zeros((7))\n",
    "Etest7 = np.zeros((7))\n",
    "stdtest7 = np.zeros((7))\n",
    "for d in range(1, 8):\n",
    "    Etrain7[d-1], stdtrain7[d-1], Etest7[d-1], stdtest7[d-1] = ovotrain_test(X, y, 20, 30, d)"
   ]
  },
  {
   "cell_type": "code",
   "execution_count": 38,
   "metadata": {},
   "outputs": [
    {
     "data": {
      "text/html": [
       "<style  type=\"text/css\" >\n",
       "</style><table id=\"T_65723e32_4f3f_11eb_aa10_4c32758ef559\" ><thead>    <tr>        <th class=\"blank level0\" ></th>        <th class=\"col_heading level0 col0\" >Train Error</th>        <th class=\"col_heading level0 col1\" >Test Error</th>    </tr></thead><tbody>\n",
       "                <tr>\n",
       "                        <th id=\"T_65723e32_4f3f_11eb_aa10_4c32758ef559level0_row0\" class=\"row_heading level0 row0\" >d=1</th>\n",
       "                        <td id=\"T_65723e32_4f3f_11eb_aa10_4c32758ef559row0_col0\" class=\"data row0 col0\" >0.01490+-0.00494</td>\n",
       "                        <td id=\"T_65723e32_4f3f_11eb_aa10_4c32758ef559row0_col1\" class=\"data row0 col1\" >0.06207+-0.00626</td>\n",
       "            </tr>\n",
       "            <tr>\n",
       "                        <th id=\"T_65723e32_4f3f_11eb_aa10_4c32758ef559level0_row1\" class=\"row_heading level0 row1\" >d=2</th>\n",
       "                        <td id=\"T_65723e32_4f3f_11eb_aa10_4c32758ef559row1_col0\" class=\"data row1 col0\" >0.00026+-0.00030</td>\n",
       "                        <td id=\"T_65723e32_4f3f_11eb_aa10_4c32758ef559row1_col1\" class=\"data row1 col1\" >0.03465+-0.00486</td>\n",
       "            </tr>\n",
       "            <tr>\n",
       "                        <th id=\"T_65723e32_4f3f_11eb_aa10_4c32758ef559level0_row2\" class=\"row_heading level0 row2\" >d=3</th>\n",
       "                        <td id=\"T_65723e32_4f3f_11eb_aa10_4c32758ef559row2_col0\" class=\"data row2 col0\" >0.00028+-0.00031</td>\n",
       "                        <td id=\"T_65723e32_4f3f_11eb_aa10_4c32758ef559row2_col1\" class=\"data row2 col1\" >0.03191+-0.00393</td>\n",
       "            </tr>\n",
       "            <tr>\n",
       "                        <th id=\"T_65723e32_4f3f_11eb_aa10_4c32758ef559level0_row3\" class=\"row_heading level0 row3\" >d=4</th>\n",
       "                        <td id=\"T_65723e32_4f3f_11eb_aa10_4c32758ef559row3_col0\" class=\"data row3 col0\" >0.00049+-0.00094</td>\n",
       "                        <td id=\"T_65723e32_4f3f_11eb_aa10_4c32758ef559row3_col1\" class=\"data row3 col1\" >0.03285+-0.00478</td>\n",
       "            </tr>\n",
       "            <tr>\n",
       "                        <th id=\"T_65723e32_4f3f_11eb_aa10_4c32758ef559level0_row4\" class=\"row_heading level0 row4\" >d=5</th>\n",
       "                        <td id=\"T_65723e32_4f3f_11eb_aa10_4c32758ef559row4_col0\" class=\"data row4 col0\" >0.00013+-0.00017</td>\n",
       "                        <td id=\"T_65723e32_4f3f_11eb_aa10_4c32758ef559row4_col1\" class=\"data row4 col1\" >0.03156+-0.00354</td>\n",
       "            </tr>\n",
       "            <tr>\n",
       "                        <th id=\"T_65723e32_4f3f_11eb_aa10_4c32758ef559level0_row5\" class=\"row_heading level0 row5\" >d=6</th>\n",
       "                        <td id=\"T_65723e32_4f3f_11eb_aa10_4c32758ef559row5_col0\" class=\"data row5 col0\" >0.00014+-0.00021</td>\n",
       "                        <td id=\"T_65723e32_4f3f_11eb_aa10_4c32758ef559row5_col1\" class=\"data row5 col1\" >0.03460+-0.00354</td>\n",
       "            </tr>\n",
       "            <tr>\n",
       "                        <th id=\"T_65723e32_4f3f_11eb_aa10_4c32758ef559level0_row6\" class=\"row_heading level0 row6\" >d=7</th>\n",
       "                        <td id=\"T_65723e32_4f3f_11eb_aa10_4c32758ef559row6_col0\" class=\"data row6 col0\" >0.00021+-0.00035</td>\n",
       "                        <td id=\"T_65723e32_4f3f_11eb_aa10_4c32758ef559row6_col1\" class=\"data row6 col1\" >0.03325+-0.00267</td>\n",
       "            </tr>\n",
       "    </tbody></table>"
      ],
      "text/plain": [
       "<pandas.io.formats.style.Styler at 0x1a24e07890>"
      ]
     },
     "execution_count": 38,
     "metadata": {},
     "output_type": "execute_result"
    }
   ],
   "source": [
    "df7 = df_generator2(Etrain7, stdtrain7, Etest7, stdtest7, [\"d=1\", \"d=2\", \"d=3\", \"d=4\", \"d=5\", \"d=6\", \"d=7\"],\n",
    "                    [\"Train Error\", \"Test Error\"], (7, 2))\n",
    "df7.style"
   ]
  },
  {
   "cell_type": "markdown",
   "metadata": {},
   "source": [
    "#### Part 2."
   ]
  },
  {
   "cell_type": "code",
   "execution_count": 39,
   "metadata": {},
   "outputs": [],
   "source": [
    "# Performs 5-fold cross validation\n",
    "def ovocross_validation(X_train, y_train, param, epoch):\n",
    "    train_in, test_in = five_fold_split(X_train)\n",
    "    minE = 100\n",
    "    bestd = 1\n",
    "    foldE = 0\n",
    "    for d in param:\n",
    "        for i in range(0, 5):\n",
    "            train_index = train_in[i].astype(int)\n",
    "            test_index = test_in[i].astype(int)\n",
    "            X_trainfold = X_train[train_index[0]:train_index[len(train_index)-1]]\n",
    "            y_trainfold = y_train[train_index[0]:train_index[len(train_index)-1]]\n",
    "            C = train_all(X_trainfold, y_trainfold, d, epoch)\n",
    "            X_testfold = X_train[test_index[0]:test_index[len(test_index)-1]]\n",
    "            y_testfold = y_train[test_index[0]:test_index[len(test_index)-1]]\n",
    "            foldE += test_all(X_trainfold, y_trainfold, X_testfold, y_testfold, C, d)\n",
    "        if foldE < minE:\n",
    "            bestd = d\n",
    "            minE = foldE\n",
    "        foldE = 0\n",
    "    return bestd"
   ]
  },
  {
   "cell_type": "code",
   "execution_count": 40,
   "metadata": {},
   "outputs": [],
   "source": [
    "# Performs cross validation on train data and uses optimal parameter d* to train\n",
    "# and test full dataset\n",
    "def ovocross_train_test(X, y, runs, epoch, param):\n",
    "    Etest = np.zeros((runs))\n",
    "    dstar = np.zeros((runs))\n",
    "    for e in range(0, runs):\n",
    "        X_train, y_train, X_test, y_test = train_test_split(X, y)\n",
    "        bestd = ovocross_validation(X_train, y_train, param, epoch) \n",
    "        A = train_all(X_train, y_train, bestd, epoch)\n",
    "        Etest[e] = test_all(X_train, y_train, X_test, y_test, A, bestd)\n",
    "        dstar[e] = bestd           \n",
    "    return Etest, dstar"
   ]
  },
  {
   "cell_type": "code",
   "execution_count": null,
   "metadata": {},
   "outputs": [],
   "source": [
    "E8, bestd8 = ovocross_train_test(X, y, 20, 30, list(range(1, 8)))"
   ]
  },
  {
   "cell_type": "code",
   "execution_count": 42,
   "metadata": {},
   "outputs": [
    {
     "data": {
      "text/html": [
       "<style  type=\"text/css\" >\n",
       "</style><table id=\"T_b2877c86_4f90_11eb_aa10_4c32758ef559\" ><thead>    <tr>        <th class=\"blank level0\" ></th>        <th class=\"col_heading level0 col0\" >Mean d*</th>        <th class=\"col_heading level0 col1\" >Mean Test Error</th>    </tr></thead><tbody>\n",
       "                <tr>\n",
       "                        <th id=\"T_b2877c86_4f90_11eb_aa10_4c32758ef559level0_row0\" class=\"row_heading level0 row0\" ></th>\n",
       "                        <td id=\"T_b2877c86_4f90_11eb_aa10_4c32758ef559row0_col0\" class=\"data row0 col0\" >3.65000+-1.23592</td>\n",
       "                        <td id=\"T_b2877c86_4f90_11eb_aa10_4c32758ef559row0_col1\" class=\"data row0 col1\" >0.03363+-0.00542</td>\n",
       "            </tr>\n",
       "    </tbody></table>"
      ],
      "text/plain": [
       "<pandas.io.formats.style.Styler at 0x1a24e05f50>"
      ]
     },
     "execution_count": 42,
     "metadata": {},
     "output_type": "execute_result"
    }
   ],
   "source": [
    "df8 = df_generator(np.mean(bestd8), np.std(bestd8), np.mean(E8), np.std(E8), \n",
    "                   [\"\"], [\"Mean d*\", \"Mean Test Error\"], (1, 2))\n",
    "df8.style"
   ]
  }
 ],
 "metadata": {
  "kernelspec": {
   "display_name": "Python 3",
   "language": "python",
   "name": "python3"
  },
  "language_info": {
   "codemirror_mode": {
    "name": "ipython",
    "version": 3
   },
   "file_extension": ".py",
   "mimetype": "text/x-python",
   "name": "python",
   "nbconvert_exporter": "python",
   "pygments_lexer": "ipython3",
   "version": "3.7.4"
  }
 },
 "nbformat": 4,
 "nbformat_minor": 2
}
