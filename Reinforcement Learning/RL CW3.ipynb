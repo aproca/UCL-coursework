{
 "cells": [
  {
   "cell_type": "markdown",
   "metadata": {
    "id": "pYs6LMEbNqoQ"
   },
   "source": [
    "# RL homework 3\n",
    "\n",
    "-------------------------------\n",
    "\n",
    "\n",
    "**Name:** Alexandra Maria Proca\n",
    "\n",
    "**SN:** 20047328\n",
    "\n",
    "-----------------------------------\n",
    "\n",
    "\n",
    "**Due date:** *10th May, 2021, 4:00 pm*\n",
    "\n",
    "------------------------------------\n",
    "\n",
    "## How to Submit\n",
    "\n",
    "When you have completed the exercises and everything has finsihed running, click on 'File' in the menu-bar and then 'Download .ipynb'. This file must be submitted to Moodle named as **studentnumber_RL_hw3.ipynb** before the deadline above."
   ]
  },
  {
   "cell_type": "markdown",
   "metadata": {
    "id": "rNuohp44N00i"
   },
   "source": [
    "# The Assignment\n",
    "\n",
    "### Objectives\n",
    "\n",
    "#### Part 1:\n",
    "You will implement several algorithms to investigate the role of planning in reinforcement learning.\n",
    "\n",
    "#### Part 2:\n",
    "You will be guided through the implementation of a full deep reinforcement learning agent.\n",
    "\n",
    "#### Part 3:\n",
    "You will implement a number of off-policy multi-step return estimates, and answer questions about their accuracy.\n",
    "\n"
   ]
  },
  {
   "cell_type": "markdown",
   "metadata": {
    "id": "nVBcO5mAV9Ow"
   },
   "source": [
    "# Setup\n",
    "\n",
    "Run all the cells in this section, but do not modify them."
   ]
  },
  {
   "cell_type": "markdown",
   "metadata": {
    "id": "Z1p0fpbxQLyn"
   },
   "source": [
    "## Imports"
   ]
  },
  {
   "cell_type": "code",
   "execution_count": 62,
   "metadata": {
    "id": "Ps5OnkPmDbMX"
   },
   "outputs": [],
   "source": [
    "import functools\n",
    "import matplotlib.pyplot as plt\n",
    "import numpy as np\n",
    "from collections import namedtuple\n",
    "\n",
    "np.set_printoptions(precision=3, suppress=1)\n",
    "plt.style.use('seaborn-notebook')"
   ]
  },
  {
   "cell_type": "markdown",
   "metadata": {
    "id": "eFnvhnKlWN_Z"
   },
   "source": [
    "## Gridworlds"
   ]
  },
  {
   "cell_type": "code",
   "execution_count": 63,
   "metadata": {
    "id": "e5VkDWDTWNHE"
   },
   "outputs": [],
   "source": [
    "#@title Implementation\n",
    "class Grid(object):\n",
    "\n",
    "  def __init__(self, discount=0.9):\n",
    "    # -1: wall\n",
    "    # 0: empty, episode continues\n",
    "    # other: number indicates reward, episode will terminate\n",
    "    self._layout = np.array([\n",
    "      [-1, -1, -1, -1, -1, -1, -1, -1, -1, -1],\n",
    "      [-1,  0,  0,  0,  0,  0,  0,  0,  0, -1],\n",
    "      [-1,  0,  0,  0, -1, -1,  0,  0, 10, -1],\n",
    "      [-1,  0,  0,  0, -1, -1,  0,  0,  0, -1],\n",
    "      [-1,  0,  0,  0, -1, -1,  0,  0,  0, -1],\n",
    "      [-1,  0,  0,  0,  0,  0,  0,  0,  0, -1],\n",
    "      [-1,  0,  0,  0,  0,  0,  0,  0,  0, -1],\n",
    "      [-1,  0,  0,  0,  0,  0,  0,  0,  0, -1],\n",
    "      [-1, -1, -1, -1, -1, -1, -1, -1, -1, -1]\n",
    "    ])\n",
    "    self._start_state = (2, 2)\n",
    "    self._goal_state = (8, 2)\n",
    "    self._state = self._start_state\n",
    "    self._number_of_states = np.prod(np.shape(self._layout))\n",
    "    self._discount = discount\n",
    "\n",
    "  @property\n",
    "  def number_of_states(self):\n",
    "      return self._number_of_states\n",
    "    \n",
    "  def plot_grid(self):\n",
    "    plt.figure(figsize=(3, 3))\n",
    "    plt.imshow(self._layout > -1, interpolation=\"nearest\", cmap=\"YlOrRd_r\")     \n",
    "    ax = plt.gca()\n",
    "    ax.grid(0)\n",
    "    plt.xticks([])\n",
    "    plt.yticks([])\n",
    "    plt.title(\"The grid\")\n",
    "    plt.text(\n",
    "        self._start_state[0], self._start_state[1], \n",
    "        r\"$\\mathbf{S}$\", ha='center', va='center')\n",
    "    plt.text(\n",
    "        self._goal_state[0], self._goal_state[1], \n",
    "        r\"$\\mathbf{G}$\", ha='center', va='center')\n",
    "    h, w = self._layout.shape\n",
    "    for y in range(h-3):\n",
    "      plt.plot([+0.5, w-1.5], [y+1.5, y+1.5], '-k', lw=2, alpha=0.5)\n",
    "    for x in range(w-3):\n",
    "      plt.plot([x+1.5, x+1.5], [+0.5, h-1.5], '-k', lw=2, alpha=0.5)\n",
    "\n",
    "  \n",
    "  def get_obs(self):\n",
    "    y, x = self._state\n",
    "    return y*self._layout.shape[1] + x\n",
    "  \n",
    "  def int_to_state(self, int_obs):\n",
    "    x = int_obs % self._layout.shape[1]\n",
    "    y = int_obs // self._layout.shape[1]\n",
    "    return y, x\n",
    "\n",
    "  def step(self, action):\n",
    "    y, x = self._state\n",
    "\n",
    "    if action == 0:  # up\n",
    "      new_state = (y - 1, x)\n",
    "    elif action == 1:  # right\n",
    "      new_state = (y, x + 1)\n",
    "    elif action == 2:  # down\n",
    "      new_state = (y + 1, x)\n",
    "    elif action == 3:  # left\n",
    "      new_state = (y, x - 1)\n",
    "    else:\n",
    "      raise ValueError(\"Invalid action: {} is not 0, 1, 2, or 3.\".format(action))\n",
    "\n",
    "    new_y, new_x = new_state\n",
    "    if self._layout[new_y, new_x] == -1:  # wall\n",
    "      reward = -5.\n",
    "      discount = self._discount\n",
    "      new_state = (y, x)\n",
    "    elif self._layout[new_y, new_x] == 0:  # empty cell\n",
    "      reward = 0.\n",
    "      discount = self._discount\n",
    "    else:  # a goal\n",
    "      reward = self._layout[new_y, new_x]\n",
    "      discount = 0.\n",
    "      new_state = self._start_state\n",
    "    \n",
    "    self._state = new_state\n",
    "    return reward, discount, self.get_obs()\n",
    "  \n",
    "class AltGrid(Grid):\n",
    "  \n",
    "    def __init__(self, discount=0.9):\n",
    "      # -1: wall\n",
    "      # 0: empty, episode continues\n",
    "      # other: number indicates reward, episode will terminate\n",
    "      self._layout = np.array([\n",
    "        [-1, -1, -1, -1, -1, -1, -1, -1, -1, -1],\n",
    "        [-1,  0,  0,  0,  0,  0,  0,  0,  0, -1],\n",
    "        [-1,  0,  0,  0, -1, -1,  0,  0,  0, -1],\n",
    "        [-1,  0,  0,  0, -1, -1,  0,  0,  0, -1],\n",
    "        [-1,  0,  0,  0, -1, -1,  0,  0,  0, -1],\n",
    "        [-1,  0,  0,  0,  0,  0,  0,  0,  0, -1],\n",
    "        [-1,  0,  0,  0,  0,  0,  0,  0,  0, -1],\n",
    "        [-1,  0, 10,  0,  0,  0,  0,  0,  0, -1],\n",
    "        [-1, -1, -1, -1, -1, -1, -1, -1, -1, -1]\n",
    "      ])\n",
    "      self._start_state = (2, 2)\n",
    "      self._goal_state = (2, 7)\n",
    "      self._state = self._start_state\n",
    "      self._number_of_states = np.prod(np.shape(self._layout))\n",
    "      self._discount = discount\n",
    "\n",
    "class FeatureGrid(Grid):\n",
    "  \n",
    "  def get_obs(self):\n",
    "    return self.state_to_features(self._state)\n",
    "  \n",
    "  def state_to_features(self, state):\n",
    "    y, x = state\n",
    "    x /= float(self._layout.shape[1] - 1)\n",
    "    y /= float(self._layout.shape[0] - 1)\n",
    "    markers = np.arange(0.1, 1.0, 0.1)\n",
    "    features = np.array([np.exp(-40*((x - m)**2+(y - n)**2))\n",
    "                         for m in markers\n",
    "                         for n in markers] + [1.])\n",
    "    return features / np.sum(features**2)\n",
    "  \n",
    "  def int_to_features(self, int_state):\n",
    "    return self.state_to_features(self.int_to_state(int_state))\n",
    "  \n",
    "  @property\n",
    "  def number_of_features(self):\n",
    "      return len(self.get_obs())"
   ]
  },
  {
   "cell_type": "code",
   "execution_count": 111,
   "metadata": {
    "id": "zV0NxnIyWVtu"
   },
   "outputs": [
    {
     "name": "stdout",
     "output_type": "stream",
     "text": [
      "A grid world\n"
     ]
    },
    {
     "data": {
      "image/png": "[encoded data removed]",
      "text/plain": [
       "<Figure size 216x216 with 1 Axes>"
      ]
     },
     "metadata": {},
     "output_type": "display_data"
    },
    {
     "name": "stdout",
     "output_type": "stream",
     "text": [
      "\n",
      "An alternative grid world\n"
     ]
    },
    {
     "data": {
      "image/png": "[encoded data removed]",
      "text/plain": [
       "<Figure size 216x216 with 1 Axes>"
      ]
     },
     "metadata": {},
     "output_type": "display_data"
    },
    {
     "name": "stdout",
     "output_type": "stream",
     "text": [
      "\n",
      "Features (visualised as 9x9 heatmaps) for different locations in the grid\n",
      "(Note: includes unreachable states that coincide with walls in this visualisation.)\n"
     ]
    },
    {
     "data": {
      "image/png": "[encoded data removed]",
      "text/plain": [
       "<Figure size 576x396 with 90 Axes>"
      ]
     },
     "metadata": {},
     "output_type": "display_data"
    }
   ],
   "source": [
    "#@title Show gridworlds\n",
    "\n",
    "# Plot tabular environments\n",
    "grid = Grid()\n",
    "alt_grid = AltGrid()\n",
    "print(\"A grid world\")\n",
    "grid.plot_grid()\n",
    "plt.show()\n",
    "print(\"\\nAn alternative grid world\")\n",
    "alt_grid.plot_grid()\n",
    "plt.show()\n",
    "\n",
    "# Plot features of each state for non tabular version of the environment.\n",
    "print(\n",
    "    \"\\nFeatures (visualised as 9x9 heatmaps) for different locations in the grid\"\n",
    "    \"\\n(Note: includes unreachable states that coincide with walls in this visualisation.)\"\n",
    ")\n",
    "feat_grid = FeatureGrid()\n",
    "shape = feat_grid._layout.shape\n",
    "f, axes = plt.subplots(shape[0], shape[1])\n",
    "for state_idx, ax in enumerate(axes.flatten()):\n",
    "  ax.imshow(np.reshape((feat_grid.int_to_features(state_idx)[:-1]),(9,9)),\n",
    "            interpolation='nearest',\n",
    "            cmap='plasma')\n",
    "  ax.set_xticks([])\n",
    "  ax.set_yticks([])\n",
    "plt.show()"
   ]
  },
  {
   "cell_type": "markdown",
   "metadata": {
    "id": "3lpweIqAWBX3"
   },
   "source": [
    "## Helpers"
   ]
  },
  {
   "cell_type": "code",
   "execution_count": 64,
   "metadata": {
    "cellView": "form",
    "id": "95Ly2AaMWA5e"
   },
   "outputs": [],
   "source": [
    "#@title helper functions (run, but don't modify this cell)\n",
    "\n",
    "def run_experiment(env, agent, number_of_steps):\n",
    "    mean_reward = 0.\n",
    "    try:\n",
    "      action = agent.initial_action()\n",
    "    except AttributeError:\n",
    "      action = 0\n",
    "    for i in range(number_of_steps):\n",
    "      reward, discount, next_state = env.step(action)\n",
    "      action = agent.step(reward, discount, next_state)\n",
    "      mean_reward += (reward - mean_reward)/(i + 1.)\n",
    "\n",
    "    return mean_reward\n",
    "  \n",
    "map_from_action_to_subplot = lambda a: (2, 6, 8, 4)[a]\n",
    "map_from_action_to_name = lambda a: (\"up\", \"right\", \"down\", \"left\")[a]\n",
    "\n",
    "def plot_rewards(xs, rewards, color):\n",
    "  mean = np.mean(rewards, axis=0)\n",
    "  p90 = np.percentile(rewards, 90, axis=0)\n",
    "  p10 = np.percentile(rewards, 10, axis=0)\n",
    "  plt.plot(xs, mean, color=color, alpha=0.6)\n",
    "  plt.fill_between(xs, p90, p10, color=color, alpha=0.3)\n",
    "\n",
    "def plot_values(values, colormap='pink', vmin=-1, vmax=10):\n",
    "  plt.imshow(values, interpolation=\"nearest\", cmap=colormap, vmin=vmin, vmax=vmax)\n",
    "  plt.yticks([])\n",
    "  plt.xticks([])\n",
    "  plt.colorbar(ticks=[vmin, vmax])\n",
    "\n",
    "def plot_state_value(action_values):\n",
    "  q = action_values\n",
    "  fig = plt.figure(figsize=(4, 4))\n",
    "  vmin = np.min(action_values)\n",
    "  vmax = np.max(action_values)\n",
    "  v = 0.9 * np.max(q, axis=-1) + 0.1 * np.mean(q, axis=-1)\n",
    "  plot_values(v, colormap='summer', vmin=vmin, vmax=vmax)\n",
    "  plt.title(\"$v(s)$\")\n",
    "\n",
    "def plot_action_values(action_values):\n",
    "  q = action_values\n",
    "  fig = plt.figure(figsize=(8, 8))\n",
    "  fig.subplots_adjust(wspace=0.3, hspace=0.3)\n",
    "  vmin = np.min(action_values)\n",
    "  vmax = np.max(action_values)\n",
    "  dif = vmax - vmin\n",
    "  for a in [0, 1, 2, 3]:\n",
    "    plt.subplot(3, 3, map_from_action_to_subplot(a))\n",
    "    \n",
    "    plot_values(q[..., a], vmin=vmin - 0.05*dif, vmax=vmax + 0.05*dif)\n",
    "    action_name = map_from_action_to_name(a)\n",
    "    plt.title(r\"$q(s, \\mathrm{\" + action_name + r\"})$\")\n",
    "    \n",
    "  plt.subplot(3, 3, 5)\n",
    "  v = 0.9 * np.max(q, axis=-1) + 0.1 * np.mean(q, axis=-1)\n",
    "  plot_values(v, colormap='summer', vmin=vmin, vmax=vmax)\n",
    "  plt.title(\"$v(s)$\")\n",
    "\n",
    "def parameter_study(parameter_values, parameter_name,\n",
    "  agent_constructor, env_constructor, color, repetitions=10, number_of_steps=int(1e4)):\n",
    "  mean_rewards = np.zeros((repetitions, len(parameter_values)))\n",
    "  greedy_rewards = np.zeros((repetitions, len(parameter_values)))\n",
    "  for rep in range(repetitions):\n",
    "    for i, p in enumerate(parameter_values):\n",
    "      env = env_constructor()\n",
    "      agent = agent_constructor()\n",
    "      if 'eps' in parameter_name:\n",
    "        agent.set_epsilon(p)\n",
    "      elif 'alpha' in parameter_name:\n",
    "        agent._step_size = p\n",
    "      else:\n",
    "        raise NameError(\"Unknown parameter_name: {}\".format(parameter_name))\n",
    "      mean_rewards[rep, i] = run_experiment(grid, agent, number_of_steps)\n",
    "      agent.set_epsilon(0.)\n",
    "      agent._step_size = 0.\n",
    "      greedy_rewards[rep, i] = run_experiment(grid, agent, number_of_steps//10)\n",
    "      del env\n",
    "      del agent\n",
    "\n",
    "  plt.subplot(1, 2, 1)\n",
    "  plot_rewards(parameter_values, mean_rewards, color)\n",
    "  plt.yticks=([0, 1], [0, 1])\n",
    "  plt.ylabel(\"Average reward over first {} steps\".format(number_of_steps), size=12)\n",
    "  plt.xlabel(parameter_name, size=12)\n",
    "\n",
    "  plt.subplot(1, 2, 2)\n",
    "  plot_rewards(parameter_values, greedy_rewards, color)\n",
    "  plt.yticks=([0, 1], [0, 1])\n",
    "  plt.ylabel(\"Final rewards, with greedy policy\".format(number_of_steps), size=12)\n",
    "  plt.xlabel(parameter_name, size=12)\n",
    "  \n",
    "def random_policy(q):\n",
    "  return np.random.randint(4)\n",
    "\n",
    "def epsilon_greedy(q_values, epsilon):\n",
    "  if epsilon < np.random.random():\n",
    "    return np.argmax(q_values)\n",
    "  else:\n",
    "    return np.random.randint(np.array(q_values).shape[-1])\n",
    "\n",
    "def plot_greedy_policy(grid, q):\n",
    "  action_names = [r\"$\\uparrow$\",r\"$\\rightarrow$\", r\"$\\downarrow$\", r\"$\\leftarrow$\"]\n",
    "  greedy_actions = np.argmax(q, axis=2)\n",
    "  grid.plot_grid()\n",
    "  for i in range(9):\n",
    "    for j in range(10):\n",
    "      action_name = action_names[greedy_actions[i,j]]\n",
    "      plt.text(j, i, action_name, ha='center', va='center')\n",
    "\n",
    "def plot_greedy_policy_v2(grid, pi):\n",
    "  action_names = [r\"$\\uparrow$\",r\"$\\rightarrow$\", r\"$\\downarrow$\", r\"$\\leftarrow$\"]\n",
    "  greedy_actions = np.argmax(pi, axis=2)\n",
    "  grid.plot_grid()\n",
    "  h, w = grid._layout.shape\n",
    "  for y in range(2, h-2):\n",
    "    for x in range(2, w-2):\n",
    "      action_name = action_names[greedy_actions[y-2, x-2]]\n",
    "      plt.text(x, y, action_name, ha='center', va='center')"
   ]
  },
  {
   "cell_type": "markdown",
   "metadata": {
    "id": "sC3M-IfEq2bI"
   },
   "source": [
    "# Part 1: Planning [35 marks]"
   ]
  },
  {
   "cell_type": "markdown",
   "metadata": {
    "id": "nxVB3cCccYO-"
   },
   "source": [
    "## 1.1: Implement Models"
   ]
  },
  {
   "cell_type": "markdown",
   "metadata": {
    "id": "j37IiBzpcdB4"
   },
   "source": [
    "### Q 1.1.1 [3 marks]\n",
    "\n",
    "Implement a trainable **tabular model** of the environment.\n",
    "\n",
    "The model should implement: \n",
    "* a *next_state* method, taking a state and action and returning the next state in the environment.\n",
    "* a *reward* method, taking a state and action and returning the immediate reward associated to executing that action in that state.\n",
    "* a *discount* method, taking a state and action and returning the discount associated to executing that action in that state.\n",
    "* a *transition* method, taking a state and an action and returning both the next state and the reward associated to that transition.\n",
    "* a *update* method, taking a full transition *(state, action, reward, next_state)* and updating the model predictions.\n",
    "\n",
    "Given that the environment is deterministic and tabular the model will reduce to a simple lookup table."
   ]
  },
  {
   "cell_type": "code",
   "execution_count": 65,
   "metadata": {
    "id": "qzvPua0Sca2o"
   },
   "outputs": [],
   "source": [
    "class TabularModel(object):\n",
    "\n",
    "  def __init__(self, number_of_states, number_of_actions):\n",
    "    self.states = np.zeros((number_of_states, number_of_actions))\n",
    "    self.rewards = np.zeros((number_of_states, number_of_actions))\n",
    "    self.discounts = np.zeros((number_of_states, number_of_actions))\n",
    "    self.t = np.zeros((number_of_states, number_of_actions))\n",
    "\n",
    "  def next_state(self, s, a):\n",
    "    return self.states[s, a]\n",
    "  \n",
    "  def reward(self, s, a):\n",
    "    return self.rewards[s, a]\n",
    "\n",
    "  def discount(self, s, a):\n",
    "    return self.discounts[s, a]\n",
    "  \n",
    "  def transition(self, state, action):\n",
    "    return (\n",
    "        self.reward(state, action), \n",
    "        self.discount(state, action),\n",
    "        self.next_state(state, action))\n",
    "  \n",
    "  def update(self, state, action, reward, discount, next_state): \n",
    "    self.t[state, action] += 1\n",
    "    self.states[state, action] = next_state\n",
    "    self.rewards[state, action] = reward \n",
    "    self.discounts[state, action] = discount "
   ]
  },
  {
   "cell_type": "markdown",
   "metadata": {
    "id": "N6p8hNTLcyAK"
   },
   "source": [
    "### Q 1.1.2 [3 marks]\n",
    "\n",
    "Implement a trainable **linear model** of the environment.\n",
    "\n",
    "The Model should implement: \n",
    "* a *next_state* method, taking a state and action and returning the predicted next state in the environment.\n",
    "* a *reward* method, taking a state and action and returning the predicted immediate reward associated to executing that action in that state.\n",
    "* a *discount* method, taking a state and action and returning the predicted discount associated to executing that action in that state.\n",
    "* a *transition* method, taking a state and an action and returning both the next state and the reward associated to that transition.\n",
    "* a *update* method, taking a full transition *(state, action, reward, next_state)* and updating the model (in its reward, discount and next_state component)\n",
    "\n",
    "For each selected action, the predicted reward $r'$, discount $\\gamma'$ and next state $\\mathbf{s}'$ will all be a linear function of the current state $\\mathbf{s}$.\n",
    "* $\\mathbf{s}' = \\mathbf{M}_a \\mathbf{s}$\n",
    "* $r' = (\\mathbf{m}^r_a)^{\\top} \\mathbf{s}$\n",
    "* $\\gamma' = (\\mathbf{m}^{\\gamma}_a)^{\\top} \\mathbf{s}$\n",
    "\n",
    "Where $\\mathbf{M}_a$ is a matrix of shape $(\\text{number_of_features}, \\text{number_of_features})$, $\\mathbf{m}^r_a$ and $\\mathbf{m}^{\\gamma}_a$ are vectors of shape $(\\text{number_of_features},)$\n",
    "\n",
    "The parameters of all these linear transformations must be trained by stochastic gradient descent. \n",
    "\n",
    "Write down the update to the parameters of the models and implement the update in the model below.\n"
   ]
  },
  {
   "cell_type": "code",
   "execution_count": 66,
   "metadata": {
    "id": "ab--TR-5c98N"
   },
   "outputs": [],
   "source": [
    "class LinearModel(object):\n",
    "\n",
    "  def __init__(self, number_of_features, number_of_actions):\n",
    "    self.M = np.zeros((number_of_actions, number_of_features, number_of_features))\n",
    "    self.m_r = np.zeros((number_of_actions, number_of_features)) \n",
    "    self.m_gamma = np.zeros((number_of_actions, number_of_features))\n",
    "\n",
    "  def next_state(self, s, a):\n",
    "    return self.M[a] @ s\n",
    "  \n",
    "  def reward(self, s, a):\n",
    "    return self.m_r[a] @ s\n",
    "\n",
    "  def discount(self, s, a):\n",
    "    return self.m_gamma[a] @ s\n",
    "\n",
    "  def transition(self, state, action):\n",
    "    return (\n",
    "        self.reward(state, action),\n",
    "        self.discount(state, action),\n",
    "        self.next_state(state, action))\n",
    "\n",
    "  def update(self, state, action, reward, discount, next_state, step_size=0.1):\n",
    "    self.M[action] += step_size*((next_state - self.next_state(state, action)).reshape(-1,1) @ state.reshape(1,-1))\n",
    "    self.m_r[action] += step_size*(reward - self.reward(state, action)) * state\n",
    "    self.m_gamma[action] += step_size*(discount - self.discount(state, action)) * state"
   ]
  },
  {
   "cell_type": "markdown",
   "metadata": {
    "id": "fzpb_dGVjT0O"
   },
   "source": [
    "## 1.2: Implement Agents\n",
    "\n",
    "We are going to implement 4 agent:\n",
    "- Tabular Q-learning with Experience Replay\n",
    "- Tabular Dyna-Q with a tabular model\n",
    "- Linear Q-learning with Experience Replay\n",
    "- Linear Dyna-Q with a linear model\n",
    "\n",
    "All agents you implement in this section must share the agent interface below:\n",
    "\n",
    "#### `__init__(self, number_of_actions, number_of_states, initial_observation)`:\n",
    "The constructor will provide the agent the number of actions, number of states, and the initial observation. You can get such initial observation by instatiating an environment (e.g., `grid = Grid()`), and then calling `grid.get_obs()`.\n",
    "\n",
    "#### `step(self, reward, discount, next_observation)`:\n",
    "The step should update the internal values, and return a new action to take. When the discount is zero ($\\text{discount} = \\gamma = 0$), the `next_observation` will be the initial observation of the next episode.  One shouldn't bootstrap on the value of this state, which can simply be guaranteed when using \"$\\gamma \\cdot v(\\text{next_observation})$\" in the update, because $\\gamma = 0$.  So, the end of an episode can be seamlessly handled with the same step function. Note that to perform updates within the `step` function you typically need to store the previous state and/or action: you may set such previous action to 0 in the constructor for consumption in the first step of the first episode of the agent's lifetime.\n",
    " \n",
    "#### `q_values()`:\n",
    "For tabular agents **only**. This method must return a matrix of Q values of shape: (`number_of_states`, `number_of_actions`)\n",
    "\n",
    "#### `q_values(state)`:\n",
    "For agents with function approximation **only**. This method must return an array of Q values of shape: (`number_of_actions`)\n"
   ]
  },
  {
   "cell_type": "markdown",
   "metadata": {
    "id": "omzJxb5ds0Iq"
   },
   "source": [
    "### Q 1.2.1 [3 marks]\n",
    "\n",
    "Implement an agent that uses **Experience Replay** to learn action values, at each step:\n",
    "* select actions randomly\n",
    "* accumulate each observed transition *(s, a, r, g, s')* in a *replay buffer*,\n",
    "* apply an online Q-learning update with the most recently observed transition,\n",
    "* apply multiple Q-learning updates based on transitions sampled (uniformly) from the *replay buffer* (in addition to the online updates).\n",
    "\n",
    "So, the `step` function of the agent will, conceptually, look as follows:\n",
    "\n",
    "1. Append most recent observed transition $(S_t, A_t, R_{t+1}, \\gamma, S_{t+1})$ to replay buffer\n",
    "\n",
    "1. Update values: $Q(S_t, A_t)$ with Q-learning, using transition $(S_t, A_t, R_{t+1}, \\gamma, S_{t+1})$ \n",
    "\n",
    "1. Loop repeat n times:\n",
    "\n",
    "  1. Sample $S, A, R, \\gamma, S'$ from replay\n",
    "  \n",
    "  1. Update values: $Q(S, A)$ with Q-learning, using transition $(S, A, R, \\gamma, S')$ "
   ]
  },
  {
   "cell_type": "code",
   "execution_count": 67,
   "metadata": {
    "id": "TB9e_reb2pJX"
   },
   "outputs": [],
   "source": [
    " class ExperienceQ(object):\n",
    "\n",
    "  def __init__(\n",
    "      self, number_of_states, number_of_actions, initial_state, \n",
    "      behaviour_policy, num_offline_updates=0, step_size=0.1):\n",
    "    self.Q = np.zeros((number_of_states, number_of_actions))\n",
    "    self._state = initial_state\n",
    "    self._action = 0\n",
    "    self.behavior_policy = behaviour_policy\n",
    "    self.num_offline_updates = num_offline_updates\n",
    "    self.step_size = step_size\n",
    "    self.buffer = []\n",
    "    \n",
    "  @property\n",
    "  def q_values(self):\n",
    "    return self.Q\n",
    "\n",
    "  def step(self, reward, discount, next_state):\n",
    "    s = self._state\n",
    "    a = self._action\n",
    "    r = reward\n",
    "    g = discount\n",
    "    next_s = next_state\n",
    "    self.buffer.append((s, a, r, g, next_s))\n",
    "    self.Q[s, a] += self.step_size*(r + g*np.max(self.Q[next_s]) - self.Q[s,a])\n",
    "    ind = np.random.randint(0, len(self.buffer), self.num_offline_updates)\n",
    "    for i in range(0, self.num_offline_updates):\n",
    "        samp = self.buffer[ind[i]]\n",
    "        self.Q[samp[0], samp[1]] += self.step_size*(samp[2] + samp[3]*np.max(self.Q[samp[4]]) - self.Q[samp[0],samp[1]])    \n",
    "    self._state = next_s\n",
    "    self._action = self.behavior_policy(self.Q[next_s])\n",
    "    return self._action"
   ]
  },
  {
   "cell_type": "markdown",
   "metadata": {
    "id": "MKfA7ifHvO-M"
   },
   "source": [
    "\n",
    "### Q 1.2.2 [3 marks]\n",
    "\n",
    "Implement an agent that uses **Dyna-Q** to learn action values.\n",
    "* select actions randomly\n",
    "* accumulate all observed transitions *(s, a)* in the environment in a *replay buffer*,\n",
    "* apply an online Q-learning to Q-value\n",
    "* apply an update to the *model* based on the latest transition\n",
    "* apply multiple Q-learning updates based on transitions *(s, a, model.reward(s), model.next_state(s))* for some previous state and action pair *(s, a)*.\n",
    "\n",
    "So, the `step` function conceptually looks as follows:\n",
    "1. Append most recent observed transition $(S_t, A_t)$ to replay buffer\n",
    "\n",
    "1. Update values: $Q(S_t, A_t)$ with Q-learning, using transition $(S_t, A_t, R_{t+1}, \\gamma, S_{t+1})$\n",
    "\n",
    "1. Update model: $M(S_t, A_t)$, using transition $(S_t, A_t, R_{t+1}, \\gamma, S_{t+1})$\n",
    "\n",
    "1. Loop repeat n times:\n",
    "\n",
    "  1. Sample $S, A$ from replay\n",
    "  \n",
    "  1. Generate $R, \\gamma, S' = M(S, A)$\n",
    "  \n",
    "  1. Update values: $Q(S, A)$ with Q-learning, using transition $(S, A, R, \\gamma, S')$ "
   ]
  },
  {
   "cell_type": "code",
   "execution_count": 68,
   "metadata": {
    "id": "WdJgVK6_3Q3-"
   },
   "outputs": [],
   "source": [
    "class DynaQ(object):\n",
    "\n",
    "  def __init__(\n",
    "      self, number_of_states, number_of_actions, initial_state, \n",
    "      behaviour_policy, num_offline_updates=0, step_size=0.1):\n",
    "    self.Q = np.zeros((number_of_states, number_of_actions))\n",
    "    self.M = TabularModel(number_of_states, number_of_actions)\n",
    "    self._state = initial_state\n",
    "    self._action = 0 \n",
    "    self.behavior_policy = behaviour_policy\n",
    "    self.num_offline_updates = num_offline_updates\n",
    "    self.step_size = step_size\n",
    "    self.buffer = []\n",
    "    \n",
    "  @property\n",
    "  def q_values(self):\n",
    "    return self.Q\n",
    "\n",
    "  def step(self, reward, discount, next_state):\n",
    "    s = self._state\n",
    "    a = self._action\n",
    "    r = reward\n",
    "    g = discount\n",
    "    next_s = next_state\n",
    "    self.buffer.append((s, a))\n",
    "    self.Q[s, a] += self.step_size*(r + g*np.max(self.Q[next_s]) - self.Q[s, a])\n",
    "    self.M.update(s, a, r, g, next_s)\n",
    "    ind = np.random.randint(0, len(self.buffer), self.num_offline_updates)\n",
    "    for i in range(0, self.num_offline_updates):\n",
    "        samp = self.buffer[ind[i]]\n",
    "        s_r, s_g, s_next_s = self.M.transition(samp[0], samp[1])\n",
    "        self.Q[samp[0],samp[1]] += self.step_size*(s_r + s_g*np.max(self.Q[int(s_next_s)]) - self.Q[samp[0],samp[1]])    \n",
    "    self._state = next_s\n",
    "    self._action = self.behavior_policy(self.Q[next_s])\n",
    "    return self._action"
   ]
  },
  {
   "cell_type": "markdown",
   "metadata": {
    "id": "ra01mmV5VPgm"
   },
   "source": [
    "### Q 1.2.3 [2 marks]\n",
    "\n",
    "Implement an agent that uses **Experience Replay** to learn action values as a **linear function approximation** over a given set of features.\n",
    "\n",
    "Learn the value estimates via online stochastic gradient descent.  The observed `state` will now be a vector of length `number_of_features`, and the value estimate will be $w_t^\\top x_t$, where $w_t$ are the current weights and $x_t$ is the observed (agent) state at time $t$."
   ]
  },
  {
   "cell_type": "code",
   "execution_count": 69,
   "metadata": {
    "id": "XOy_bpVa3j6V"
   },
   "outputs": [],
   "source": [
    "class LinearExperienceQ(ExperienceQ):\n",
    "\n",
    "  def __init__(\n",
    "      self, number_of_features, number_of_actions, *args, **kwargs):\n",
    "    super(LinearExperienceQ, self).__init__(\n",
    "        number_of_actions=number_of_actions, *args, **kwargs)\n",
    "    self.W = np.zeros((number_of_actions, number_of_features))\n",
    "\n",
    "  def q(self, state):\n",
    "    return self.W @ state\n",
    "\n",
    "  def step(self, reward, discount, next_state):\n",
    "    s = self._state\n",
    "    a = self._action\n",
    "    r = reward\n",
    "    g = discount\n",
    "    next_s = next_state\n",
    "    self.buffer.append((s, a, r, g, next_s))\n",
    "    self.W[a] += self.step_size*(r + g*np.max(self.q(next_s)) - self.q(s)[a])*s    \n",
    "    ind = np.random.randint(0, len(self.buffer), self.num_offline_updates)\n",
    "    for i in range(0, self.num_offline_updates):\n",
    "        samp = self.buffer[ind[i]]\n",
    "        self.W[samp[1]] += self.step_size*(samp[2] + samp[3]*np.max(self.q(samp[4])) - self.q(samp[0])[samp[1]])*samp[0]    \n",
    "    self._state = next_s\n",
    "    self._action = self.behavior_policy(self.q(next_s))\n",
    "    return self._action"
   ]
  },
  {
   "cell_type": "markdown",
   "metadata": {
    "id": "hlu3YPGAO9ss"
   },
   "source": [
    "### Q 1.2.4 [3 marks]\n",
    "\n",
    "Implement an agent that uses **Dyna-Q** that uses a **linear function approximation** to represent values as well as for the model of the environment.\n",
    "\n",
    "Represent and learn both the **transition model** and the **reward model** as linear, action-dependent transformations of the given set of features.  The transition and reward models should be represented separately.  Implement separate models for each action (instead of, e.g., passing a one-hot identifier of the action in).\n",
    "\n",
    "Learn value estimates, transition model and reward model via online stochastic gradient descent."
   ]
  },
  {
   "cell_type": "code",
   "execution_count": 81,
   "metadata": {
    "id": "1RxFwgIU39dI"
   },
   "outputs": [],
   "source": [
    "class LinearDynaQ(DynaQ):\n",
    "\n",
    "  def __init__(self, number_of_features, number_of_actions, model_step_size=0.1,\n",
    "               *args, **kwargs):\n",
    "    super(LinearDynaQ, self).__init__(\n",
    "        number_of_actions=number_of_actions, *args, **kwargs)\n",
    "    self.W = np.zeros((number_of_actions, number_of_features))\n",
    "    self.model_step_size = 0.1\n",
    "    self.M = LinearModel(number_of_features, number_of_actions)\n",
    "\n",
    "  def q(self, state):\n",
    "    return self.W @ state\n",
    "\n",
    "  def step(self, reward, discount, next_state):\n",
    "    s = self._state\n",
    "    a = self._action\n",
    "    r = reward\n",
    "    g = discount\n",
    "    next_s = next_state\n",
    "    self.buffer.append((s, a))\n",
    "    self.W[a] += self.step_size*(r + g*np.max(self.q(next_s)) - self.q(s)[a])*s \n",
    "    self.M.update(s, a, r, g, next_s, self.model_step_size)\n",
    "    ind = np.random.randint(0, len(self.buffer), self.num_offline_updates)\n",
    "    for i in range(0, self.num_offline_updates):\n",
    "        samp = self.buffer[ind[i]]\n",
    "        s_r, s_g, s_next_s = self.M.transition(samp[0], samp[1])\n",
    "        self.W[samp[1]] += self.step_size*(s_r + s_g*np.max(self.q(s_next_s)) - self.q(samp[0])[samp[1]])*samp[0]\n",
    "    self._state = next_s\n",
    "    self._action = self.behavior_policy(self.q(next_s))\n",
    "    return self._action"
   ]
  },
  {
   "cell_type": "markdown",
   "metadata": {
    "id": "1jZsPzCmDxAh"
   },
   "source": [
    "## 1.3: Analyse Results\n",
    "\n",
    "You will have to analyse experiments that evaluate each of these 5 agents in various settings, and in terms of different metrics.\n",
    "\n",
    "- Tabular learning: data efficiency\n",
    "- Tabular learning: computational efficiency\n",
    "- Linear function approximation\n",
    "- Learning in non-stationary environments"
   ]
  },
  {
   "cell_type": "markdown",
   "metadata": {
    "id": "qekcmj4R5Y6J"
   },
   "source": [
    "### Run data efficiency experiments\n",
    "\n",
    "*Online Q-learning*\n",
    "\n",
    "* $\\text{number_of_steps}$ = $2000$ and $\\text{num_offline_updates}$ = $0$\n",
    "\n",
    "*Experience Replay*\n",
    "\n",
    "* $\\text{number_of_steps}$ = $2000$ and $\\text{num_offline_updates}$ = $30$\n",
    "\n",
    "*DynaQ*\n",
    "\n",
    "* $\\text{number_of_steps}$ = $2000$ and $\\text{num_offline_updates}$ = $30$"
   ]
  },
  {
   "cell_type": "code",
   "execution_count": 119,
   "metadata": {
    "id": "Iix-yw-MKS4Y"
   },
   "outputs": [
    {
     "data": {
      "image/png": "[encoded data removed]",
      "text/plain": [
       "<Figure size 576x576 with 10 Axes>"
      ]
     },
     "metadata": {
      "needs_background": "light"
     },
     "output_type": "display_data"
    }
   ],
   "source": [
    "# Online Q\n",
    "grid = Grid()\n",
    "agent = ExperienceQ(\n",
    "  grid._layout.size, 4, grid.get_obs(),\n",
    "  random_policy, num_offline_updates=0, step_size=0.1)\n",
    "run_experiment(grid, agent, int(2e3))\n",
    "q = agent.q_values.reshape(grid._layout.shape + (4,))\n",
    "plot_action_values(q)"
   ]
  },
  {
   "cell_type": "code",
   "execution_count": 120,
   "metadata": {
    "id": "ASml5uAeIl4A"
   },
   "outputs": [
    {
     "data": {
      "image/png": "[encoded data removed]",
      "text/plain": [
       "<Figure size 576x576 with 10 Axes>"
      ]
     },
     "metadata": {
      "needs_background": "light"
     },
     "output_type": "display_data"
    }
   ],
   "source": [
    "# Experience Replay\n",
    "grid = Grid()\n",
    "agent = ExperienceQ(\n",
    "  grid._layout.size, 4, grid.get_obs(),\n",
    "  random_policy, num_offline_updates=30, step_size=0.1)\n",
    "run_experiment(grid, agent, int(2e3))\n",
    "q = agent.q_values.reshape(grid._layout.shape + (4,))\n",
    "plot_action_values(q)"
   ]
  },
  {
   "cell_type": "code",
   "execution_count": 134,
   "metadata": {
    "id": "YG-_cjw-wRzm"
   },
   "outputs": [
    {
     "data": {
      "image/png": "[encoded data removed]",
      "text/plain": [
       "<Figure size 576x576 with 10 Axes>"
      ]
     },
     "metadata": {
      "needs_background": "light"
     },
     "output_type": "display_data"
    }
   ],
   "source": [
    "# DynaQ\n",
    "grid = Grid()\n",
    "agent = DynaQ(\n",
    "  grid._layout.size, 4, grid.get_obs(),\n",
    "  random_policy, num_offline_updates=30, step_size=0.1)\n",
    "run_experiment(grid, agent, int(2e3))\n",
    "q = agent.q_values.reshape(grid._layout.shape + (4,))\n",
    "plot_action_values(q)"
   ]
  },
  {
   "cell_type": "markdown",
   "metadata": {
    "id": "teXnSHqjGfoT"
   },
   "source": [
    "### Q 1.3.1 [3 marks]\n",
    "\n",
    "In the experiments above, how do the learnt value estimates differ between the online Q-learning, ExperienceReplay, and Dyna Q agents?\n",
    "\n",
    "Explain meaningful differences in at most 5 sentences.\n",
    "\n",
    "> The learnt value estimates are significantly different between the online Q-learning agent and the other two agents: online Q-Learning does not learn action value estimates well, as it only manages to differentiate values at the extreme boundaries of the grid world, but not learn action value estimates for the purpose of reaching the goal. It also has uniform value estimates across the grid except at the goal, indicating it has not converged yet and has not learned its environment. Alternatively, ExperienceReplay and Dyna Q have a gradient of value estimates favoring states closer to the goal and low action-values at boundaries which avoid running into walls. The discrepancy between the online Q-learning agent and the other two agents is due to the fact that online Q-learning can only learn on the steps it takes in the environment (on-policy) and thus has a limited amount of data to learn from, with only 2000 steps given; thus, it does not have sufficient time to converge and its value estimates are not accurate or particularly informative. Alternatively, ExperienceReplay and DynaQ learn value estimates much better with only 2000 steps beccause they perform offline updates, sampling previously encountered transitions to update value estimates additionally from single steps. Thus, ExperienceReplay and DynaQ ultimately perform 31 times more updates to value estimates than online Q-learning (62,000 vs. 2,000 updates) and are therefore given ample time and steps to approach convergence and better learn value estimates. Additionally, ExperienceReplay and DynaQ yield similar results of value estimates. This is sensible, as their updates are essentially in the same in this setting because their online updates are identical and their offline updates sample transitions that are stored in the same way with identical information pertaining to states and actions, due to the deterministic environment. Although DynaQ operates through a model with specified values for state-action pair, because the environment only has one output for a state-action pair, sampling from the model yields the same result as sampling from the ExperienceReplay buffer for a particular state-action pair."
   ]
  },
  {
   "cell_type": "markdown",
   "metadata": {
    "id": "ujZNsXFY52fi"
   },
   "source": [
    "### Run experiments matching computational cost\n",
    "\n",
    "*Online Q-learning*\n",
    "\n",
    "* $\\text{number_of_steps}$ = $62,000$ and $\\text{num_offline_updates}$ = $0$\n",
    "\n",
    "*ExperienceReplay*\n",
    "\n",
    "* $\\text{number_of_steps}$ = $2000$ and $\\text{num_offline_updates}$ = $30$\n",
    "\n",
    "*DynaQ*\n",
    "\n",
    "* $\\text{number_of_steps}$ = $2000$ and $\\text{num_offline_updates}$ = $30$"
   ]
  },
  {
   "cell_type": "code",
   "execution_count": 122,
   "metadata": {
    "id": "OVVWtGoUwiAe"
   },
   "outputs": [
    {
     "data": {
      "image/png": "[encoded data removed]",
      "text/plain": [
       "<Figure size 576x576 with 10 Axes>"
      ]
     },
     "metadata": {
      "needs_background": "light"
     },
     "output_type": "display_data"
    }
   ],
   "source": [
    "# OnlineQ\n",
    "grid = Grid()\n",
    "agent = ExperienceQ(\n",
    "  grid._layout.size, 4, grid.get_obs(),\n",
    "  random_policy, num_offline_updates=0, step_size=0.1)\n",
    "run_experiment(grid, agent, int(62e3))\n",
    "q = agent.q_values.reshape(grid._layout.shape + (4,))\n",
    "plot_action_values(q)"
   ]
  },
  {
   "cell_type": "code",
   "execution_count": 123,
   "metadata": {
    "id": "PuoUs8xVxady"
   },
   "outputs": [
    {
     "data": {
      "image/png": "[encoded data removed]",
      "text/plain": [
       "<Figure size 576x576 with 10 Axes>"
      ]
     },
     "metadata": {
      "needs_background": "light"
     },
     "output_type": "display_data"
    }
   ],
   "source": [
    "# Experience Replay\n",
    "grid = Grid()\n",
    "agent = ExperienceQ(\n",
    "  grid._layout.size, 4, grid.get_obs(),\n",
    "  random_policy, num_offline_updates=30, step_size=0.1)\n",
    "run_experiment(grid, agent, int(2e3))\n",
    "q = agent.q_values.reshape(grid._layout.shape + (4,))\n",
    "plot_action_values(q)"
   ]
  },
  {
   "cell_type": "code",
   "execution_count": 135,
   "metadata": {
    "id": "hDOW4dd221L6"
   },
   "outputs": [
    {
     "data": {
      "image/png": "[encoded data removed]",
      "text/plain": [
       "<Figure size 576x576 with 10 Axes>"
      ]
     },
     "metadata": {
      "needs_background": "light"
     },
     "output_type": "display_data"
    }
   ],
   "source": [
    "# DynaQ\n",
    "grid = Grid()\n",
    "agent = DynaQ(\n",
    "  grid._layout.size, 4, grid.get_obs(),\n",
    "  random_policy, num_offline_updates=30, step_size=0.1)\n",
    "run_experiment(grid, agent, int(2e3))\n",
    "q = agent.q_values.reshape(grid._layout.shape + (4,))\n",
    "plot_action_values(q)"
   ]
  },
  {
   "cell_type": "markdown",
   "metadata": {
    "id": "nlFwZeKjLFEq"
   },
   "source": [
    "What if sampling from the environment is cheap and we don't care about data efficiency but only care about the amount of computation we use? \n",
    "\n",
    "The experiments directly above are the same as those above question 1.3.1, except that we ran the experiments for the same number of **total updates**, rather than the same number of **steps in the environment**, therefore using more data for the online Q-learning algorithm which *only* updates from real data.\n",
    "\n",
    "Q 1.3.2 [3 marks]\n",
    "\n",
    "How do the learnt values, and the relative performances, change, compared to the experiment above question 1.3.1?  Explain in at most 5 sentences.\n",
    "\n",
    "> The learnt values and relative performance change for online Q-learning such that it appears to learn the same values and perform essentially the same as the other 2 models. This is due to the fact that online Q-learning uses the same number of total updates rather than the same number of steps in the environment as the other algorithms, giving it ample data to learn from and converge to more accurate value estimates. In general, online Q-learning should perform better than ExperienceReplay and DynaQ in a similar setting because it can sample randomly from an unconstrained environment, while ExperienceReplay and DynaQ learn from the constraint of what transitions they have experienced- online Q-learning learns from 62,000 samples from the environment, ExperienceReplay/DynaQ learn from 2,000 samples from the environment (used again approximately 30 times). However, in this particular instance, the grid world is small enough and yields deterministic outputs for each state-action pair such that 2,000 samples are likely to contain all possible state-action pairs multiple times. Thus, it does not make a significant difference in performance to sample from a buffer of observed transitions and from the environment itself, hence why the value estimates are similar across all three models."
   ]
  },
  {
   "cell_type": "markdown",
   "metadata": {
    "id": "GBLluo2AXMsH"
   },
   "source": [
    "### Run experiments with linear function approximation\n",
    "\n",
    "We will now use the $\\text{FeatureGrid}$ domain, and consider the same 3 algorithms in the context of linear function approximation.\n",
    "\n",
    "*Online Q-learning*\n",
    "\n",
    "* $\\text{number_of_steps}$ = $100,000$ and $\\text{num_offline_updates}$ = $0$\n",
    "\n",
    "*ExperienceReplay*\n",
    "\n",
    "* $\\text{number_of_steps}$ = $100,000$ and $\\text{num_offline_updates}$ = $10$\n",
    "\n",
    "*DynaQ*\n",
    "\n",
    "* $\\text{number_of_steps}$ = $100,000$ and $\\text{num_offline_updates}$ = $10$"
   ]
  },
  {
   "cell_type": "code",
   "execution_count": 125,
   "metadata": {
    "id": "zwlRPm1uXMyv"
   },
   "outputs": [
    {
     "data": {
      "image/png": "[encoded data removed]",
      "text/plain": [
       "<Figure size 576x576 with 10 Axes>"
      ]
     },
     "metadata": {
      "needs_background": "light"
     },
     "output_type": "display_data"
    },
    {
     "data": {
      "image/png": "[encoded data removed]",
      "text/plain": [
       "<Figure size 216x216 with 1 Axes>"
      ]
     },
     "metadata": {},
     "output_type": "display_data"
    }
   ],
   "source": [
    "# OnlineQ\n",
    "grid = FeatureGrid()\n",
    "\n",
    "agent = LinearExperienceQ(\n",
    "  number_of_features=grid.number_of_features, number_of_actions=4,\n",
    "  number_of_states=grid._layout.size, initial_state=grid.get_obs(),\n",
    "  num_offline_updates=0, step_size=0.01, behaviour_policy=random_policy)\n",
    "run_experiment(grid, agent, int(1e5))\n",
    "q = np.reshape(\n",
    "    np.array([agent.q(grid.int_to_features(i))\n",
    "              for i in range(grid.number_of_states)]),\n",
    "    [grid._layout.shape[0], grid._layout.shape[1], 4])\n",
    "plot_action_values(q)\n",
    "plot_greedy_policy(grid, q)"
   ]
  },
  {
   "cell_type": "code",
   "execution_count": 126,
   "metadata": {
    "id": "Wb6XeKzXcIsi"
   },
   "outputs": [
    {
     "data": {
      "image/png": "[encoded data removed]",
      "text/plain": [
       "<Figure size 576x576 with 10 Axes>"
      ]
     },
     "metadata": {
      "needs_background": "light"
     },
     "output_type": "display_data"
    },
    {
     "data": {
      "image/png": "[encoded data removed]",
      "text/plain": [
       "<Figure size 216x216 with 1 Axes>"
      ]
     },
     "metadata": {},
     "output_type": "display_data"
    }
   ],
   "source": [
    "# Experience Replay\n",
    "grid = FeatureGrid()\n",
    "\n",
    "agent = LinearExperienceQ(\n",
    "  number_of_features=grid.number_of_features, number_of_actions=4,\n",
    "  number_of_states=grid._layout.size, initial_state=grid.get_obs(),\n",
    "  num_offline_updates=10, step_size=0.01, behaviour_policy=random_policy)\n",
    "run_experiment(grid, agent, int(1e5))\n",
    "q = np.reshape(\n",
    "    np.array([agent.q(grid.int_to_features(i))\n",
    "              for i in range(grid.number_of_states)]),\n",
    "    [grid._layout.shape[0], grid._layout.shape[1], 4])\n",
    "plot_action_values(q)\n",
    "plot_greedy_policy(grid, q)"
   ]
  },
  {
   "cell_type": "code",
   "execution_count": 82,
   "metadata": {
    "id": "DVDRVknH1MXw"
   },
   "outputs": [
    {
     "data": {
      "image/png": "[encoded data removed]",
      "text/plain": [
       "<Figure size 576x576 with 10 Axes>"
      ]
     },
     "metadata": {
      "needs_background": "light"
     },
     "output_type": "display_data"
    },
    {
     "data": {
      "image/png": "[encoded data removed]",
      "text/plain": [
       "<Figure size 216x216 with 1 Axes>"
      ]
     },
     "metadata": {},
     "output_type": "display_data"
    }
   ],
   "source": [
    "# LinearDynaQ\n",
    "grid = FeatureGrid()\n",
    "\n",
    "agent = LinearDynaQ(\n",
    "  number_of_features=grid.number_of_features, \n",
    "  number_of_actions=4,\n",
    "  number_of_states=grid._layout.size, \n",
    "  initial_state=grid.get_obs(),\n",
    "  num_offline_updates=10, \n",
    "  step_size=0.01,\n",
    "  behaviour_policy=random_policy)\n",
    "\n",
    "run_experiment(grid, agent, int(1e5))\n",
    "q = np.reshape(\n",
    "    np.array([agent.q(grid.int_to_features(i))\n",
    "              for i in range(grid.number_of_states)]),\n",
    "    [grid._layout.shape[0], grid._layout.shape[1], 4])\n",
    "plot_action_values(q)\n",
    "plot_greedy_policy(grid, q)"
   ]
  },
  {
   "cell_type": "markdown",
   "metadata": {
    "id": "1ese1lc0yNFU"
   },
   "source": [
    "### Q 1.3.3 [3 marks]\n",
    "\n",
    "How do the value estimates learnt with function approximation differ from those learnt in the tabular setting, as in the experiment above question 1.3.2?\n",
    "\n",
    "Explain the results in at most 5 sentences.\n",
    "\n",
    "\n",
    "> The value estimates appear more noisy in comparison to the tabular estimates, and thus do no end up having a very clear distinction between the walls, but rather a continuous gradient away from them. Additionally, the value estimates do not appear to display a gradient towards the final goal. Overall, the value estimates learnt with function approximation are less accurate for all three models. Linear approximations are not guaranteed to converge to the optimum because they are limited in their ability to represent Q-values through a linear constraint, while the tabular version is not constrained by this and is able to represent any given Q-value through a direct state-action pair mapping to value. The linear approximation depends on the state features, which there are likely to be less of than the number of states; this results in generalization across states rather than one-to-one mappings and thus updating weights will influence multiple state-action pairs rather than a single one, leading to a continuous representation of values that is less accurate than the discrete tabular model. Additionally, the goal, being only one state, may not have sufficient influence on the weights and associated features such that the mapping does not particularly bias the value estimates towards it, explaining the lapse of a significant gradient towards the goal region. This also explains why instead there are regions of low value estimates near the walls because entire regions (with similar state features) are influencing weights such that the mapping generalizes those areas more.\n",
    "\n",
    "### Q 1.3.4 [3 marks]\n",
    "\n",
    "Inspect the policies derived by training agents with linear function approximation on 'FeatureGrid'. \n",
    "\n",
    "How do they compare to the optimal policy?\n",
    "\n",
    "> The policies derived by the linear agents are poor compared to the optimal policy, as there are many seemingly random policies for various states. The optimal policy runs through the top of the gridworld to the shortest path to the goal- none of the linear policies achieve this, with ExperienceReplay being the closest. Because the linear approximation is constrained to a linear mapping from state, action, and value, it cannot accurately represent non-linear relationships/mappings and thus may produce inadequate and inaccurate value estimations, in turn producing suboptimal policies which are dependent on value estimates as they attempt to maximize them. By looking at the value estimates, the corresponding policies are sensible as there is no apparent clearly-defined area of high value or gradient of increasing values toward one, creating a rather uniform value estimation across most states; instead there just appear to be areas of low-values to be avoided. Thus, the policy ultimately yields actions within the 'safe' area that avoids areas of low value estimates, but do not move towards the intended goal in particular. Again, because the linear approximation depends on state features that are smaller than the number of states, there are generalizations across states (explaining the \"blur\" of regions that likely have similar features). Therefore, the goal, being only one state, may not have sufficient influence on the weights and associated features such that the mapping does not particularly bias the value estimates (and policy) towards it. This also explains why instead there are regions of low value estimates near the walls because entire regions (with similar state features) are influencing weights such that the mapping generalizes those areas more. Thus, with the given value estimates, the policy only learns to avoid walls."
   ]
  },
  {
   "cell_type": "markdown",
   "metadata": {
    "id": "arP0Nf0XUGrB"
   },
   "source": [
    "### Run experiments in a non stationary environments\n",
    "\n",
    "We now consider a non-stationary setting where after `pretrain_steps` in the environment, the goal is moved to a new location (from the top-right of the grid to the bottom-left - refer to \"Show gridworlds\"). The agent is allowed to continue training for a (shorter) amount of time in this new setting, and then we evaluate the value estimates.\n",
    "\n",
    "*Online Q-learning*\n",
    "\n",
    "* $\\text{pretrain_steps}$ = $20,000$,  $\\text{num_steps}$ = $666$, and $\\text{num_offline_updates}$ = $0$\n",
    "\n",
    "*ExperienceReplay*\n",
    "\n",
    "* $\\text{pretrain_steps}$ = $20,000$,  $\\text{num_steps}$ = $666$ and $\\text{num_offline_updates}$ = $10$\n",
    "\n",
    "*DynaQ*\n",
    "\n",
    "* $\\text{pretrain_steps}$ = $20,000$,  $\\text{num_steps}$ = $666$ and $\\text{num_offline_updates}$ = $10$"
   ]
  },
  {
   "cell_type": "code",
   "execution_count": 140,
   "metadata": {
    "id": "6P9lC323X7uH"
   },
   "outputs": [
    {
     "data": {
      "image/png": "[encoded data removed]",
      "text/plain": [
       "<Figure size 288x288 with 2 Axes>"
      ]
     },
     "metadata": {
      "needs_background": "light"
     },
     "output_type": "display_data"
    }
   ],
   "source": [
    "# Online Q\n",
    "\n",
    "# Train on first environment\n",
    "pretrain_steps = 2e4\n",
    "grid = Grid()\n",
    "agent = ExperienceQ(\n",
    "  grid._layout.size, 4, grid.get_obs(),\n",
    "  random_policy, num_offline_updates=0, step_size=0.1)\n",
    "run_experiment(grid, agent, int(pretrain_steps))\n",
    "q = agent.q_values.reshape(grid._layout.shape + (4,))\n",
    "\n",
    "# Change goal location\n",
    "alt_grid = AltGrid()\n",
    "run_experiment(alt_grid, agent, int(pretrain_steps / 30))\n",
    "alt_q = agent.q_values.reshape(alt_grid._layout.shape + (4,))\n",
    "plot_state_value(alt_q)"
   ]
  },
  {
   "cell_type": "code",
   "execution_count": 129,
   "metadata": {
    "id": "bq5msw1iY-Q5"
   },
   "outputs": [
    {
     "data": {
      "image/png": "[encoded data removed]",
      "text/plain": [
       "<Figure size 288x288 with 2 Axes>"
      ]
     },
     "metadata": {
      "needs_background": "light"
     },
     "output_type": "display_data"
    }
   ],
   "source": [
    "# Experience Replay\n",
    "\n",
    "# Train on first environment\n",
    "pretrain_steps = 2e4\n",
    "grid = Grid()\n",
    "agent = ExperienceQ(\n",
    "  grid._layout.size, 4, grid.get_obs(),\n",
    "  random_policy, num_offline_updates=30, step_size=0.1)\n",
    "run_experiment(grid, agent, int(pretrain_steps))\n",
    "q = agent.q_values.reshape(grid._layout.shape + (4,))\n",
    "\n",
    "# Change goal location\n",
    "alt_grid = AltGrid()\n",
    "run_experiment(alt_grid, agent, int(pretrain_steps / 30))\n",
    "alt_q = agent.q_values.reshape(alt_grid._layout.shape + (4,))\n",
    "plot_state_value(alt_q)"
   ]
  },
  {
   "cell_type": "code",
   "execution_count": 136,
   "metadata": {
    "id": "AwztU4EbUXe0"
   },
   "outputs": [
    {
     "data": {
      "image/png": "[encoded data removed]",
      "text/plain": [
       "<Figure size 288x288 with 2 Axes>"
      ]
     },
     "metadata": {
      "needs_background": "light"
     },
     "output_type": "display_data"
    }
   ],
   "source": [
    "# DynaQ\n",
    "\n",
    "# Train on first environment\n",
    "pretrain_steps = 2e4\n",
    "grid = Grid()\n",
    "agent = DynaQ(\n",
    "  grid._layout.size, 4, grid.get_obs(),\n",
    "  random_policy, num_offline_updates=30, step_size=0.1)\n",
    "run_experiment(grid, agent, int(pretrain_steps))\n",
    "q = agent.q_values.reshape(grid._layout.shape + (4,))\n",
    "\n",
    "# Change goal location\n",
    "alt_grid = AltGrid()\n",
    "run_experiment(alt_grid, agent, int(pretrain_steps / 30))\n",
    "alt_q = agent.q_values.reshape(alt_grid._layout.shape + (4,))\n",
    "plot_state_value(alt_q)"
   ]
  },
  {
   "cell_type": "markdown",
   "metadata": {
    "id": "lc8tJPpXyNM7"
   },
   "source": [
    "### Q 1.3.5 [3 marks]\n",
    "\n",
    "Compare the value estimates of online Q-learning and Dyna-Q, after training also on the new goal location. \n",
    "\n",
    "Explain what you see in at most 5 sentences. \n",
    "\n",
    "> Online Q-learning performs worst than Dyna-Q in training on the new goal location because it has 10 times less total updates than Dyna-Q does because it only is performed on-policy and does not have off-policy updates. Thus, Dyna-Q has more updates to converge towards more accurate learned values of the new environment. Dyna-Q still has high value estimates near the previous goal, indicating it has yet to converge as those values have not been sufficiently down-weighted by their new values. If online Q-learning is given the same number of updates as Dyna-Q, it should actually be expected to converge towards new value estimates more rapidly, as it can sample directly from the true environment rather than sampling from a model with values that have yet to be updated (initially). In this sense, Dyna-Q is partially hindered by the fact that it must first encounter new transitions in the environment through the random policy in order to update its model towards the accurate transition values for state-action pairs and will be performing offline updates with incorrect values until those transitions have been encountered.\n",
    "\n",
    "### Q 1.3.6 [3 marks]\n",
    "\n",
    "Compare the value estimates of online Experience Replay and Dyna-Q, after training also on the new goal location.\n",
    "\n",
    "Explain what you see in at most 5 sentences. \n",
    "\n",
    "> ExperienceReplay is not very robust to the change in the environment as its value estimates are heavily weighted towards the original goal and not weighted towards the new goal, indicating it has barely learned; the value estimates look approximately the same as they did previously. Alternatively, Dyna-Q is better adapted as it appears to partially downweight value estimates near the previous goal and clearly has placed more weight on values near the new goal. This difference can be explained due to the nature of sampling and offline-updates of the two models. ExperienceReplay performs offline updates using samples directly from its buffer, which still contains transitions from the previous environment states, even after the goal has changed. This makes it difficult for ExperienceReplay to learn because it continues performing offline updates with the wrong transition values, which have well-populated the buffer after 20,000 pretraining steps. As time progresses, more of the new environment transition values are added to the buffer, but (for 666 steps) not enough to significantly alter the bias towards the previous transition values. If ExperienceReplay were to be run for infinitely many steps, it would eventually well-populate the buffer with the new environment samples and have a low probability of sampling an incorrect previous transition from the buffer, and would then learn more efficiently. Alternatively, Dyna-Q is able to adapt to the change in environment more quickly because it samples state-action pairs from a buffer but yields its transition values from a tabular model of the enviornment. Thus, once it encounters a different transition (next_state, reward, discount) for a state-action pair in the enviornment, the model is updated to the new transition and all future samples drawn from the buffer use the new transition in the model- with offline updates, the true transitions can more quickly weight the value estimates in the correct direction after only encountering the new transition once in the environment. This allows Dyna-Q to be more robust to changes in an otherwise deterministic environment. However, as described in 1.3.5, Dyna-Q still performs offline updates with incorrect transition values (like ExperienceReplay) until it encounters the transition in the new environment.\n"
   ]
  },
  {
   "cell_type": "markdown",
   "metadata": {
    "id": "7TYEJzjdBD8s"
   },
   "source": [
    "# Part 2: Deep RL [25 marks]"
   ]
  },
  {
   "cell_type": "markdown",
   "metadata": {
    "id": "iIRC73HLq6VH"
   },
   "source": [
    "## 2A) Actor-critics\n",
    "\n",
    "You are going to implement an Actor-critic agent that updates a policy parametrised as a deep neural network.\n",
    "\n",
    "The agent learns online from a single stream of experience, updating the parametes of its policy after each transition in the environment."
   ]
  },
  {
   "cell_type": "markdown",
   "metadata": {
    "id": "KV03Q3MpveUM"
   },
   "source": [
    "### Install packages"
   ]
  },
  {
   "cell_type": "code",
   "execution_count": 31,
   "metadata": {
    "id": "wc-kqp3tveUT"
   },
   "outputs": [
    {
     "name": "stdout",
     "output_type": "stream",
     "text": [
      "fatal: destination path 'bsuite' already exists and is not an empty directory.\n",
      "Processing ./bsuite\n",
      "Requirement already satisfied: absl-py in /Users/Administrator/opt/anaconda3/lib/python3.7/site-packages (from bsuite==0.3.5) (0.11.0)\n",
      "Requirement already satisfied: dm_env in /Users/Administrator/opt/anaconda3/lib/python3.7/site-packages (from bsuite==0.3.5) (1.4)\n",
      "Requirement already satisfied: frozendict in /Users/Administrator/opt/anaconda3/lib/python3.7/site-packages (from bsuite==0.3.5) (1.2)\n",
      "Requirement already satisfied: gym in /Users/Administrator/opt/anaconda3/lib/python3.7/site-packages (from bsuite==0.3.5) (0.18.0)\n",
      "Requirement already satisfied: matplotlib in /Users/Administrator/opt/anaconda3/lib/python3.7/site-packages (from bsuite==0.3.5) (3.1.1)\n",
      "Requirement already satisfied: numpy in /Users/Administrator/opt/anaconda3/lib/python3.7/site-packages (from bsuite==0.3.5) (1.20.2)\n",
      "Requirement already satisfied: pandas in /Users/Administrator/opt/anaconda3/lib/python3.7/site-packages (from bsuite==0.3.5) (0.25.1)\n",
      "Requirement already satisfied: plotnine in /Users/Administrator/opt/anaconda3/lib/python3.7/site-packages (from bsuite==0.3.5) (0.8.0)\n",
      "Requirement already satisfied: scipy in /Users/Administrator/opt/anaconda3/lib/python3.7/site-packages (from bsuite==0.3.5) (1.3.1)\n",
      "Requirement already satisfied: scikit-image in /Users/Administrator/opt/anaconda3/lib/python3.7/site-packages (from bsuite==0.3.5) (0.15.0)\n",
      "Requirement already satisfied: six in /Users/Administrator/opt/anaconda3/lib/python3.7/site-packages (from bsuite==0.3.5) (1.12.0)\n",
      "Requirement already satisfied: termcolor in /Users/Administrator/opt/anaconda3/lib/python3.7/site-packages (from bsuite==0.3.5) (1.1.0)\n",
      "Requirement already satisfied: dm-tree in /Users/Administrator/opt/anaconda3/lib/python3.7/site-packages (from dm_env->bsuite==0.3.5) (0.1.6)\n",
      "Requirement already satisfied: pyglet<=1.5.0,>=1.4.0 in /Users/Administrator/opt/anaconda3/lib/python3.7/site-packages (from gym->bsuite==0.3.5) (1.5.0)\n",
      "Requirement already satisfied: cloudpickle<1.7.0,>=1.2.0 in /Users/Administrator/opt/anaconda3/lib/python3.7/site-packages (from gym->bsuite==0.3.5) (1.2.2)\n",
      "Requirement already satisfied: Pillow<=7.2.0 in /Users/Administrator/opt/anaconda3/lib/python3.7/site-packages (from gym->bsuite==0.3.5) (6.2.0)\n",
      "Requirement already satisfied: cycler>=0.10 in /Users/Administrator/opt/anaconda3/lib/python3.7/site-packages (from matplotlib->bsuite==0.3.5) (0.10.0)\n",
      "Requirement already satisfied: kiwisolver>=1.0.1 in /Users/Administrator/opt/anaconda3/lib/python3.7/site-packages (from matplotlib->bsuite==0.3.5) (1.1.0)\n",
      "Requirement already satisfied: pyparsing!=2.0.4,!=2.1.2,!=2.1.6,>=2.0.1 in /Users/Administrator/opt/anaconda3/lib/python3.7/site-packages (from matplotlib->bsuite==0.3.5) (2.4.2)\n",
      "Requirement already satisfied: python-dateutil>=2.1 in /Users/Administrator/opt/anaconda3/lib/python3.7/site-packages (from matplotlib->bsuite==0.3.5) (2.8.0)\n",
      "Requirement already satisfied: pytz>=2017.2 in /Users/Administrator/opt/anaconda3/lib/python3.7/site-packages (from pandas->bsuite==0.3.5) (2019.3)\n",
      "Requirement already satisfied: patsy>=0.5.1 in /Users/Administrator/opt/anaconda3/lib/python3.7/site-packages (from plotnine->bsuite==0.3.5) (0.5.1)\n",
      "Requirement already satisfied: statsmodels>=0.12.1 in /Users/Administrator/opt/anaconda3/lib/python3.7/site-packages (from plotnine->bsuite==0.3.5) (0.12.2)\n",
      "Requirement already satisfied: descartes>=1.1.0 in /Users/Administrator/opt/anaconda3/lib/python3.7/site-packages (from plotnine->bsuite==0.3.5) (1.1.0)\n",
      "Requirement already satisfied: mizani>=0.7.3 in /Users/Administrator/opt/anaconda3/lib/python3.7/site-packages (from plotnine->bsuite==0.3.5) (0.7.3)\n",
      "Requirement already satisfied: imageio>=2.0.1 in /Users/Administrator/opt/anaconda3/lib/python3.7/site-packages (from scikit-image->bsuite==0.3.5) (2.6.0)\n",
      "Requirement already satisfied: PyWavelets>=0.4.0 in /Users/Administrator/opt/anaconda3/lib/python3.7/site-packages (from scikit-image->bsuite==0.3.5) (1.0.3)\n",
      "Requirement already satisfied: networkx>=2.0 in /Users/Administrator/opt/anaconda3/lib/python3.7/site-packages (from scikit-image->bsuite==0.3.5) (2.3)\n",
      "Requirement already satisfied: future in /Users/Administrator/opt/anaconda3/lib/python3.7/site-packages (from pyglet<=1.5.0,>=1.4.0->gym->bsuite==0.3.5) (0.18.2)\n",
      "Requirement already satisfied: setuptools in /Users/Administrator/opt/anaconda3/lib/python3.7/site-packages (from kiwisolver>=1.0.1->matplotlib->bsuite==0.3.5) (54.0.0)\n",
      "Requirement already satisfied: palettable in /Users/Administrator/opt/anaconda3/lib/python3.7/site-packages (from mizani>=0.7.3->plotnine->bsuite==0.3.5) (3.3.0)\n",
      "Requirement already satisfied: decorator>=4.3.0 in /Users/Administrator/opt/anaconda3/lib/python3.7/site-packages (from networkx>=2.0->scikit-image->bsuite==0.3.5) (4.4.0)\n",
      "Building wheels for collected packages: bsuite\n",
      "  Building wheel for bsuite (setup.py) ... \u001b[?25ldone\n",
      "\u001b[?25h  Created wheel for bsuite: filename=bsuite-0.3.5-cp37-none-any.whl size=249666 sha256=e2c7836b3d609bbc7a0b7fab6fffeeb530cbd404d176a6b2a8070f2acb83ef65\n",
      "  Stored in directory: /private/var/folders/0x/8tc8l1x56_1fkd7s1smrc3jw0000gn/T/pip-ephem-wheel-cache-34iumb76/wheels/fb/40/da/693996a8c432ecba4e0ed1cf477b924423a46ba383655f4a44\n",
      "Successfully built bsuite\n",
      "Installing collected packages: bsuite\n",
      "  Found existing installation: bsuite 0.3.5\n",
      "    Uninstalling bsuite-0.3.5:\n",
      "      Successfully uninstalled bsuite-0.3.5\n",
      "Successfully installed bsuite-0.3.5\n",
      "Requirement already satisfied: dm-haiku in /Users/Administrator/opt/anaconda3/lib/python3.7/site-packages (0.0.4)\n",
      "Requirement already satisfied: typing-extensions; python_version < \"3.8\" in /Users/Administrator/opt/anaconda3/lib/python3.7/site-packages (from dm-haiku) (3.7.4.3)\n",
      "Requirement already satisfied: tabulate>=0.8.9 in /Users/Administrator/opt/anaconda3/lib/python3.7/site-packages (from dm-haiku) (0.8.9)\n",
      "Requirement already satisfied: numpy>=1.18.0 in /Users/Administrator/opt/anaconda3/lib/python3.7/site-packages (from dm-haiku) (1.20.2)\n",
      "Requirement already satisfied: absl-py>=0.7.1 in /Users/Administrator/opt/anaconda3/lib/python3.7/site-packages (from dm-haiku) (0.11.0)\n",
      "Requirement already satisfied: six in /Users/Administrator/opt/anaconda3/lib/python3.7/site-packages (from absl-py>=0.7.1->dm-haiku) (1.12.0)\n"
     ]
    }
   ],
   "source": [
    "!git clone https://github.com/deepmind/bsuite.git\n",
    "!pip install bsuite/\n",
    "!pip install dm-haiku"
   ]
  },
  {
   "cell_type": "markdown",
   "metadata": {
    "id": "r_pTfi5dSFX5"
   },
   "source": [
    "### Imports"
   ]
  },
  {
   "cell_type": "code",
   "execution_count": 4,
   "metadata": {
    "id": "huyKrYpvSHSu"
   },
   "outputs": [],
   "source": [
    "from bsuite.environments import catch\n",
    "\n",
    "import jax\n",
    "import jax.numpy as jnp\n",
    "import haiku as hk\n",
    "\n",
    "import numpy as np\n",
    "import matplotlib.pyplot as plt"
   ]
  },
  {
   "cell_type": "markdown",
   "metadata": {
    "id": "M6kEki4XHbPy"
   },
   "source": [
    "### Plotting"
   ]
  },
  {
   "cell_type": "code",
   "execution_count": 5,
   "metadata": {
    "id": "EYdWwRrbHbcl"
   },
   "outputs": [],
   "source": [
    "def plot_learning_curve(list_of_episode_returns):\n",
    "  \"\"\"Plot the learning curve.\"\"\"\n",
    "  plt.figure(figsize=(7, 5))\n",
    "\n",
    "  def moving_average(x, w):\n",
    "      return np.convolve(x, np.ones(w), 'valid') / w\n",
    "\n",
    "  smoothed_returns = moving_average(list_of_episode_returns, 30)\n",
    "  plt.plot(smoothed_returns)\n",
    "\n",
    "  plt.xlabel('Average episode returns')\n",
    "  plt.xlabel('Number of episodes')\n",
    "\n",
    "  ax = plt.gca()\n",
    "  ax.spines['left'].set_visible(True)\n",
    "  ax.spines['bottom'].set_visible(True)\n",
    "  ax.spines['right'].set_visible(False)\n",
    "  ax.spines['top'].set_visible(False)\n",
    "  ax.xaxis.set_ticks_position('bottom')\n",
    "  ax.yaxis.set_ticks_position('left')"
   ]
  },
  {
   "cell_type": "markdown",
   "metadata": {
    "id": "Xtlrr5d2p7cS"
   },
   "source": [
    "### Neural networks\n",
    "\n",
    "You will now use JAX to define a network parametrising:\n",
    "\n",
    "* The values of each state $v_{\\pi}(s)$.\n",
    "* The action preferences in each state $\\{p_i(s)\\}_{i\\in\\{1, ..., |A|\\}}$ (you can think of and implement the preferences $\\mathbf{p}(s)$ as a vector output with $|A|$ elements).\n",
    "\n",
    "You will use `Haiku` (https://github.com/deepmind/dm-haiku) to define the network. You will need to:\n",
    "* define the forward pass of the network as some function `fn`\n",
    "* Use `hk.transform(fn)` to convert this in a pair of functions (`init_net`, and `apply_net`):\n",
    "\n",
    "The `init` function has signature `parameters = init_net(key, obs)`. \n",
    "  * takes a `jax.random.PRNGKey` and an `observation`\n",
    "  * returns randomly sampled weights for the neural network.\n",
    "\n",
    "The `apply_net` functions have signature `v, p = apply_net(parameters, key, obs)` \n",
    "  * takes the current set of `parameters`, a `jax.random.PRNGKey` and an `observation`\n",
    "  * returns a scalar value `v` and a vector of preferences `p`"
   ]
  },
  {
   "cell_type": "markdown",
   "metadata": {
    "id": "Gj1nsUYuOoe1"
   },
   "source": [
    "### Q 3.1 [3 marks]\n",
    "\n",
    "Define the forward pass of the neural network. The network must:\n",
    "\n",
    "* take an `observation` as input\n",
    "* reshape the observation into a flat vector `flat_obs`\n",
    "* compute a hidden representation `h = Relu(W.dot(flat_obs) + b)`\n",
    "* compute a vector of action preferences as a linear function of `h`\n",
    "* compute a scalar state value as a linear function of `h`\n",
    "* return the scalar value and vector preferences.\n",
    "\n",
    "Note:\n",
    "* The hidden layer should have 50 units\n",
    "* the action preferences should be a vector of 3 elements (one per each available action),\n",
    "* the value should be a scalar (not a vector with one element).\n"
   ]
  },
  {
   "cell_type": "code",
   "execution_count": 6,
   "metadata": {
    "id": "vRBP0xjtQvTi"
   },
   "outputs": [],
   "source": [
    "def forward(obs):\n",
    "    flat_obs = obs.flatten()\n",
    "    f = hk.Sequential([hk.Linear(50), jax.nn.relu])\n",
    "    fc1 = hk.Linear(3)\n",
    "    fc2 = hk.Linear(1)\n",
    "    h = f(flat_obs)\n",
    "    p = fc1(h)\n",
    "    v = fc2(h)    \n",
    "    return v, p\n",
    "\n",
    "init_net, apply_net = hk.transform(forward)"
   ]
  },
  {
   "cell_type": "markdown",
   "metadata": {
    "id": "9ImJUgzFosvD"
   },
   "source": [
    "### Choosing actions\n",
    "\n",
    "A critical component of an actor-critic agent is a (stochastic) policy, mapping `observations` to `actions`. \n",
    "\n",
    "In deep RL, this mapping is conventionally parametrised by a deep neural network."
   ]
  },
  {
   "cell_type": "markdown",
   "metadata": {
    "id": "1MVXNWwlYW24"
   },
   "source": [
    "### Q 3.2 [2 marks]\n",
    "\n",
    "Implement a softmax policy parametrised by the neural network above (i.e., using the `apply_net` function).\n",
    "\n",
    "The function has signature `action = softmax_policy(net_params, key, obs)`,\n",
    "* Taking the current network parameters `net_params`, a JAX random `key` and the current `observation`\n",
    "* Returning an `action` sampled from a softmax distribution (with temperature 1.) over the set of preferences output by the neural network.\n",
    "\n",
    "Functions to perform random sampling in JAX (e.g. those in `jax.random`) take a random key as input, and they are deterministic function of such a key. In general, in a JAX program you will therefore need to use the `split` function to generate a new random key before every new sampling. The run loop that runs the experiment later on splits the key between consecutive calls to the `policy`. Thus you can assume that a new random `key` is provided to you on each call to the `policy`, however if you need a random key in multiple places within the `policy`, do remember to split the key before each use."
   ]
  },
  {
   "cell_type": "code",
   "execution_count": 7,
   "metadata": {
    "id": "x-FSOYNOYnUx"
   },
   "outputs": [],
   "source": [
    "@jax.jit\n",
    "def softmax_policy(net_params, key, obs): \n",
    "    \"\"\"Sample action from a softmax policy.\"\"\"\n",
    "    key1, key2 = jax.random.split(key, 2)\n",
    "    v, p = apply_net(net_params, key1, obs)\n",
    "    policy = jax.nn.softmax(p)\n",
    "    action = jax.random.choice(key2, p.shape[0], p = policy)\n",
    "    return action"
   ]
  },
  {
   "cell_type": "markdown",
   "metadata": {
    "id": "iMYcb7Y9krnT"
   },
   "source": [
    "### Learning values and policies\n",
    "\n",
    "An actor-critic agent requires to update the parameters of the network so as to simultaneously improve the value predictions and the policy.\n",
    "\n",
    "In the next section you will define the gradient updates for each of these two components."
   ]
  },
  {
   "cell_type": "markdown",
   "metadata": {
    "id": "GsIlpmNEk5fv"
   },
   "source": [
    "### Q 3.3 [3 marks]\n",
    "\n",
    "Implement a function to compute a stochastic estimate of the policy gradient from a 1 step transition in the environment.\n",
    "\n",
    "* You will use $R_{t+1} + \\gamma v(S_{t+1})$ as an estimate of $q_{\\pi}(S_t, A_t)$\n",
    "* You will use $v(S_{t})$ as a baseline to reduce the variance of the updates.\n",
    "\n",
    "The function must have signature `grads = policy_gradient(net_params, obs_tm1, a_tm1, r_t, discount_t, obs_t)`.\n",
    "* Where the inputs are:\n",
    "  * the parameters `net_params` of the network,\n",
    "  * an observation `obs_tm1`\n",
    "  * the action `a_tm1` selected after observing `obs_tm1`,\n",
    "  * the resulting reward `r_t` and environment discount `discount_t` \n",
    "  * and the following observation `obs_t`\n",
    "* Returns a stochastic estimate of the policy gradient.\n",
    "  * `grads` has the same structure as `net_params`\n",
    "  * as it contains an estimate of the gradient of the expected episodic return wrt to each parameter "
   ]
  },
  {
   "cell_type": "code",
   "execution_count": 8,
   "metadata": {
    "id": "AHLGjy8he6vh"
   },
   "outputs": [],
   "source": [
    "def policy_loss(net_params, key, obs_tm1, a_tm1, r_t, discount_t, obs_t):\n",
    "    key1, key2 = jax.random.split(key, 2)\n",
    "    v_tm1, p_tm1 = apply_net(net_params, key1, obs_tm1)\n",
    "    v_t, p_t = apply_net(net_params, key2, obs_t)\n",
    "    policy = jax.nn.log_softmax(p_tm1)[a_tm1]\n",
    "    target = (r_t + discount_t * v_t)[0]\n",
    "    loss = ((jax.lax.stop_gradient(target) - v_tm1) * policy)[0]\n",
    "    return loss\n",
    "\n",
    "def policy_gradient(net_params, key, obs_tm1, a_tm1, r_t, discount_t, obs_t):\n",
    "    grads = jax.grad(policy_loss)(net_params, key, obs_tm1, a_tm1, r_t, discount_t, obs_t)\n",
    "    return grads "
   ]
  },
  {
   "cell_type": "markdown",
   "metadata": {
    "id": "5XgjefrBlIGN"
   },
   "source": [
    "### Q 3.4 [3 marks]\n",
    "\n",
    "Implement a function to compute a stochastic estimate of the negative gradient of the value loss:   $ L(\\theta) = E_{s \\sim \\pi}[(v_{\\theta}(s) - v_{\\pi}(s))^2]$\n",
    "\n",
    "As for the policy gradient, this must be computed from a 1 step transition in the environment, so using bootstrapping after one step.\n",
    "\n",
    "It must have signature `neg_grads = neg_value_loss_gradient(net_params, obs_tm1, a_tm1, r_t, discount_t, obs_t)`.\n",
    "* Where the inputs are:\n",
    "  * the current parameters `net_params` of the network,\n",
    "  * an observation `obs_tm1`\n",
    "  * the action `a_tm1` selected after observing `obs_tm1`,\n",
    "  * the resulting reward `r_t` and environment discount `discount_t` \n",
    "  * and the following observation `obs_t`\n",
    "* Returns a stochastic estimate of the policy gradient.\n",
    "  * `neg_grads` has the same structure as `net_params`\n",
    "  * as it contains a stochastic estimate of the negative gradient of the expected value prediction loss "
   ]
  },
  {
   "cell_type": "code",
   "execution_count": 35,
   "metadata": {
    "id": "CAONu72iTpzx"
   },
   "outputs": [],
   "source": [
    "def neg_value_loss(net_params, key, obs_tm1, a_tm1, r_t, discount_t, obs_t):\n",
    "    key1, key2 = jax.random.split(key, 2)\n",
    "    v_tm1, p_tm1 = apply_net(net_params, key1, obs_tm1)\n",
    "    v_t, p_t = apply_net(net_params, key2, obs_t)\n",
    "    target = (r_t + discount_t*v_t)[0]\n",
    "    loss = (-(v_tm1 - jax.lax.stop_gradient(target))**2)[0]\n",
    "    return loss\n",
    "\n",
    "def neg_value_loss_gradient(net_params, key, obs_tm1, a_tm1, r_t, discount_t, obs_t):\n",
    "    neg_grads = jax.grad(neg_value_loss)(net_params, key, obs_tm1, a_tm1, r_t, discount_t, obs_t)\n",
    "    return neg_grads"
   ]
  },
  {
   "cell_type": "markdown",
   "metadata": {
    "id": "jAXgLZg8mfMd"
   },
   "source": [
    "### Updating shared parameters\n",
    "\n",
    "The policy gradient identifies the direction of change in the parameters that most steeply improve the policy.\n",
    "The negative gradient of the value loss identifies the direction of change in the parameters that most steeply improves the value predictions.\n",
    "\n",
    "However, note that the value and policy share some of the parameters of the network.  How do we combine the two gradient updates?\n",
    "\n",
    "In this assignment, we will simply sum the policy and value components.\n",
    "The function that combines the two gradients is implemented for you in the cell below."
   ]
  },
  {
   "cell_type": "code",
   "execution_count": 36,
   "metadata": {
    "id": "uhKCLe8jjkdZ"
   },
   "outputs": [],
   "source": [
    "@jax.jit\n",
    "def compute_gradient(net_params, key, obs_tm1, a_tm1, r_t, discount_t, obs_t):\n",
    "  k1, k2 = jax.random.split(key, 2)\n",
    "  pgrads = policy_gradient(net_params, k1, obs_tm1, a_tm1, r_t, discount_t, obs_t)\n",
    "  vgrads = neg_value_loss_gradient(net_params, k2, obs_tm1, a_tm1, r_t, discount_t, obs_t)\n",
    "  return jax.tree_multimap(lambda pg, vg: pg + vg, pgrads, vgrads)"
   ]
  },
  {
   "cell_type": "markdown",
   "metadata": {
    "id": "tYaVb6GcpCRe"
   },
   "source": [
    "### Optimisation\n",
    "\n",
    "The gradient updates are typically rescaled to avoid taking too large a step on a single update.\n",
    "For instance given a candidate gradient update $\\nabla$ we may update our parameters $\\theta$ by;\n",
    "$$\\Delta \\theta = \\theta + \\alpha * \\nabla\\,,$$\n",
    "where $\\alpha$ is a small number between 0 and 1 (e.g., $\\alpha=0.01$ or $\\alpha=0.001$), referred to as `step_size` or `learning_rate`\n",
    "\n",
    "The gradients with respect to each weight of a neural network may however have very different magnitudes. This can make it hard to set a suitable learning rate $\\alpha$.\n",
    "\n",
    "In deep learning, and deep RL, we typically use adaptive learning rates, for instance by rescaling each component of the gradient using statistics tracking the typical size of the updates to that weight. Then the entire update is rescaled using a global `learning_rate` $\\alpha$\n"
   ]
  },
  {
   "cell_type": "markdown",
   "metadata": {
    "id": "hbFePWfApaMU"
   },
   "source": [
    "### Q 3.5 [3 marks]\n",
    "\n",
    "A popular approach to adaptive gradient rescaling was introduced by the `Adam` algorithm.\n",
    "* See [Kingma et al, 2014](https://arxiv.org/abs/1412.6980) for references.\n",
    "\n",
    "This algorithm implements the following procedure before applying each update:\n",
    "* Increase an update counter $k \\gets k+1$ (starting at k=0 before any updates),\n",
    "* Update the first moment of each gradient component $\\mu \\gets (1 - \\beta_1) g + \\beta_1 \\mu$ where $g$ is the latest stochastic gradient.\n",
    "* Update the second moment of each gradient component $\\nu_i = (1 - \\beta_2) g_i ^ 2 + \\beta_2 \\nu_i $ where $g$ is the latest gradient update.\n",
    "* Use the following update to update the weights:\n",
    "$$\\Delta w = \\alpha \\frac{\\mu / (1 - \\beta_1 ^ {k})}{\\epsilon + \\sqrt{\\nu / (1 - \\beta_2 ^ {k})}}$$\n",
    "* $\\alpha$ is a global `learning rate`\n",
    "* $\\beta_1$ and $\\beta_2$ define a soft horizon for the per-weight statistics.\n",
    "* $\\epsilon$ makes the rescaling more robust to numerical issues.\n",
    "\n",
    "In the next cell define a pair of functions (`opt_init`, and `opt_update`), where:\n",
    "\n",
    "The `opt_init` function has signature `state = opt_init(params)`.\n",
    "* Takes the network parameters as inputs\n",
    "* Initialises an `optimiser state` holding the per weight statistics.\n",
    "\n",
    "The `opt_update` function has signature `updates, state = opt_update(grads, state)`.\n",
    "* Takes a `gradient` and an `optimisers state`,\n",
    "* and returns the transformed gradient and the updated `optimiser state`.\n",
    "\n",
    "Set the algorrithm's hyper-parameters to:\n",
    "* $\\beta_1=.9$ and $\\beta_2=.999$, $\\epsilon=1e-8$."
   ]
  },
  {
   "cell_type": "code",
   "execution_count": 84,
   "metadata": {
    "id": "017XRA_BpbZx"
   },
   "outputs": [],
   "source": [
    "# use .01 learning rate for a, .004 for b\n",
    "def opt_init(params):\n",
    "    beta_1 = 0.9\n",
    "    beta_2 = 0.999\n",
    "    epsilon = 1e-8\n",
    "    alpha = 0.004\n",
    "    k = 0\n",
    "    mu = jax.tree_map(lambda param: jnp.zeros(param.shape), params)\n",
    "    v = jax.tree_map(lambda param: jnp.zeros(param.shape), params)\n",
    "    state = {\"beta_1\": beta_1, \"beta_2\": beta_2, \"epsilon\": epsilon, \"alpha\": alpha, \"k\": k, \"mu\": mu, \"v\": v}\n",
    "    return state\n",
    "\n",
    "def opt_update(grads, state):\n",
    "    state[\"k\"] += 1\n",
    "    state[\"mu\"] = jax.tree_multimap(lambda mu, g: (1-state[\"beta_1\"])*g + state[\"beta_1\"]*mu, state[\"mu\"], grads)\n",
    "    state[\"v\"] = jax.tree_multimap(lambda v, g: (1-state[\"beta_2\"])*(g**2) + state[\"beta_2\"]*v, state[\"v\"], grads)\n",
    "    num = jax.tree_map(lambda mu: mu/(1-state[\"beta_1\"]**state[\"k\"]), state[\"mu\"])\n",
    "    denom = jax.tree_map(lambda v: v/(1-state[\"beta_2\"]**state[\"k\"]), state[\"v\"])\n",
    "    grads = jax.tree_multimap(lambda n, d: state[\"alpha\"]*n/(state[\"epsilon\"]+jnp.sqrt(d)), num, denom)\n",
    "    return grads, state"
   ]
  },
  {
   "cell_type": "markdown",
   "metadata": {
    "id": "DczWvZfNSnTj"
   },
   "source": [
    "### Run experiments\n",
    "\n",
    "Run the cell below to show the performance of the resulting agent.\n",
    "\n",
    "You may also use this section for debugging your implementations.\n",
    "\n",
    "Note however, that most functions are `jitted` for performance,\n",
    "* either using the `@jax.jit` decorator in the function definition\n",
    "* or calling explicitely `fn = jax.jit(fn)`\n",
    "\n",
    "When jitting, the code is compiled on the first time the function is executed\n",
    "* and execution is much faster on subsequent calls.\n",
    "* a notable side effect is that print statements in a jitted function will only execute on the first execution of the function.\n",
    "* to drop into a debugger or print on each function execution you will have to disable the `@jax.jit` annotations and jax.jit calls."
   ]
  },
  {
   "cell_type": "code",
   "execution_count": 44,
   "metadata": {
    "id": "Fz837XTkLxE8"
   },
   "outputs": [
    {
     "name": "stdout",
     "output_type": "stream",
     "text": [
      "Training agent for 1500 episodes...\n"
     ]
    },
    {
     "data": {
      "image/png": "[encoded data removed]",
      "text/plain": [
       "<Figure size 504x360 with 1 Axes>"
      ]
     },
     "metadata": {
      "needs_background": "light"
     },
     "output_type": "display_data"
    }
   ],
   "source": [
    "# DO NOT CHANGE THIS CELL\n",
    "\n",
    "# Experiment configs.\n",
    "train_episodes = 1500\n",
    "discount_factor = .99\n",
    "\n",
    "# Create environment.\n",
    "env = catch.Catch(seed=42)\n",
    "\n",
    "# Build and initialize network.\n",
    "rng = jax.random.PRNGKey(44)\n",
    "rng, init_rng = jax.random.split(rng)\n",
    "sample_input = env.observation_spec().generate_value()\n",
    "net_params = init_net(init_rng, sample_input)\n",
    "\n",
    "# Initialize optimizer state.\n",
    "opt_state = opt_init(net_params)\n",
    "\n",
    "# Apply updates\n",
    "def apply_updates(params, updates):\n",
    "  return jax.tree_multimap(lambda p, u: p + u, params, updates)\n",
    "\n",
    "# Jit.\n",
    "opt_update = jax.jit(opt_update)\n",
    "apply_updates = jax.jit(apply_updates)\n",
    "\n",
    "print(f\"Training agent for {train_episodes} episodes...\")\n",
    "all_episode_returns = []\n",
    "\n",
    "for _ in range(train_episodes):\n",
    "  episode_return = 0.\n",
    "  timestep = env.reset()\n",
    "  obs_tm1 = timestep.observation\n",
    "\n",
    "  # Sample initial action.\n",
    "  rng, policy_rng = jax.random.split(rng)\n",
    "  a_tm1 = softmax_policy(net_params, policy_rng, obs_tm1)\n",
    "\n",
    "  while not timestep.last():\n",
    "    # Step environment.\n",
    "    new_timestep = env.step(int(a_tm1))\n",
    "\n",
    "    # Sample action from agent policy.\n",
    "    rng, policy_rng = jax.random.split(rng)\n",
    "    a_t = softmax_policy(net_params, policy_rng, new_timestep.observation)\n",
    "\n",
    "    # Update params.\n",
    "    r_t = new_timestep.reward\n",
    "    discount_t = discount_factor * new_timestep.discount\n",
    "    rng, grad_rng = jax.random.split(rng)\n",
    "    dJ_dtheta = compute_gradient(\n",
    "        net_params, grad_rng, obs_tm1, a_tm1, r_t, discount_t, \n",
    "        new_timestep.observation)\n",
    "    updates, opt_state = opt_update(dJ_dtheta, opt_state)\n",
    "    net_params = apply_updates(net_params, updates)\n",
    "\n",
    "    # Within episode book-keeping.\n",
    "    episode_return += new_timestep.reward\n",
    "    timestep = new_timestep\n",
    "    obs_tm1 = new_timestep.observation\n",
    "    a_tm1 = a_t\n",
    "\n",
    "  # Experiment results tracking.\n",
    "  all_episode_returns.append(episode_return)\n",
    "\n",
    "# Plot learning curve.\n",
    "plot_learning_curve(all_episode_returns)"
   ]
  },
  {
   "cell_type": "markdown",
   "metadata": {
    "id": "9dowFJ_l-32A"
   },
   "source": [
    "## 2B) An alternative update\n",
    "\n",
    "You are going to implement a different kind of agent.\n",
    "\n",
    "Like an actor-critic, it learns online from a single stream of experience, updating the parametes after each transition in the environment."
   ]
  },
  {
   "cell_type": "markdown",
   "metadata": {
    "id": "aQD0Qw8-_QJy"
   },
   "source": [
    "### Neural networks\n",
    "\n",
    "\n",
    "The agent will reuse the same neural network we defined for the actor-critic:\n",
    "* the scalar output will be trained via TD to estimate state values\n",
    "* the vector preferences `p` will be updated according to a different rule."
   ]
  },
  {
   "cell_type": "markdown",
   "metadata": {
    "id": "I6j0AIF8GhdR"
   },
   "source": [
    "### Choosing actions\n",
    "\n",
    "As in actor-critics, the (stochastic) mapping from `observations` to `actions` depends on the vector of preferences `p` from the network."
   ]
  },
  {
   "cell_type": "markdown",
   "metadata": {
    "id": "jE00LhDL_nbC"
   },
   "source": [
    "### Q 3.6 [3 marks]\n",
    "\n",
    "The new agent's policy will have the signature `action = epsilon_greedy_policy(net_params, key, obs)`,\n",
    "* Take as inputs the current network parameters `net_params`, a JAX random `key` and the current `observation`\n",
    "* Return with probability `0.9` the greedy `action` with respect to the preferences `p`, ties must be broken at random.\n",
    "* Return an action uniformly at random with probability `0.1`"
   ]
  },
  {
   "cell_type": "code",
   "execution_count": 85,
   "metadata": {
    "id": "8IwTDROL_Lx5"
   },
   "outputs": [],
   "source": [
    "@jax.jit \n",
    "def epsilon_greedy_policy(net_params, key, obs):\n",
    "    \"\"\"Sample action from an epsilon-greedy policy.\"\"\" \n",
    "    key1, key2, key3 = jax.random.split(key, 3)\n",
    "    v, p = apply_net(net_params, key, obs)\n",
    "    max_p = jnp.where(p == jnp.max(p), jnp.array(range(len(p))), 0)\n",
    "    probs = (p == jnp.max(p))/jnp.sum(max_p) * jnp.ones(len(max_p))\n",
    "    greedy = jax.random.choice(key1, max_p, p = probs)\n",
    "    random = jax.random.randint(key2, (1,), 0, len(p))\n",
    "    actions = jnp.array([greedy, random[0]])\n",
    "    eps = jnp.array([0.9, 0.1])\n",
    "    action = jax.random.choice(key3, actions, p = eps)\n",
    "    return action"
   ]
  },
  {
   "cell_type": "markdown",
   "metadata": {
    "id": "l1zQiRX5BfeA"
   },
   "source": [
    "### Q 3.7 [4 marks]\n",
    "\n",
    "The preferences `p` will be update according to the following gradient-based update:\n",
    "\n",
    "* -($R_{t+1} + \\gamma v(S_{t+1}) - p(S_{t}, A_t)) \\nabla p(S_t, A_t))$ \n",
    "* where `v` is the state value trained by TD as in the actor critic.\n",
    "* note the `-` in front of the update above.\n",
    "\n",
    "You musy implement this in the function `preference_gradient`, with the same signature as `policy_gradient`"
   ]
  },
  {
   "cell_type": "code",
   "execution_count": 86,
   "metadata": {
    "id": "6fQhAWXqLNt-"
   },
   "outputs": [],
   "source": [
    "def preference_loss(net_params, key, obs_tm1, a_tm1, r_t, discount_t, obs_t):\n",
    "    key1, key2 = jax.random.split(key, 2)\n",
    "    v_tm1, p_tm1 = apply_net(net_params, key1, obs_tm1)\n",
    "    v_t, p_t = apply_net(net_params, key2, obs_t)\n",
    "    policy = p_tm1[a_tm1] \n",
    "    target = (r_t + discount_t * v_t)[0]\n",
    "    loss = (-0.5 * (jax.lax.stop_gradient(target) - policy)**2) \n",
    "    return loss\n",
    "    \n",
    "def preference_gradient(net_params, key, obs_tm1, a_tm1, r_t, discount_t, obs_t):\n",
    "    grads = jax.grad(preference_loss)(net_params, key, obs_tm1, a_tm1, r_t, discount_t, obs_t)\n",
    "    return grads"
   ]
  },
  {
   "cell_type": "markdown",
   "metadata": {
    "id": "hz4RFKnVF8E8"
   },
   "source": [
    "### Updating shared parameters\n",
    "\n",
    "Just like in the actor critic the overall update to the parameters is a combination of two quantities:\n",
    "* the new update we defined for the vector of preferences\n",
    "* the same TD update to the scalar output that we used in the actor critic"
   ]
  },
  {
   "cell_type": "code",
   "execution_count": 87,
   "metadata": {
    "id": "QnghCzKhF-gI"
   },
   "outputs": [],
   "source": [
    "@jax.jit\n",
    "def compute_gradient(net_params, key, obs_tm1, a_tm1, r_t, discount_t, obs_t):\n",
    "  k1, k2 = jax.random.split(key, 2)\n",
    "  pgrads = preference_gradient(net_params, k1, obs_tm1, a_tm1, r_t, discount_t, obs_t)\n",
    "  vgrads = neg_value_loss_gradient(net_params, k2, obs_tm1, a_tm1, r_t, discount_t, obs_t)\n",
    "  return jax.tree_multimap(lambda pg, vg: pg + vg, pgrads, vgrads)"
   ]
  },
  {
   "cell_type": "markdown",
   "metadata": {
    "id": "44QBKEF4HFK8"
   },
   "source": [
    "### Optimisation\n",
    "\n",
    "The gradient updates are rescaled using the same optimiser used for the actor-critic."
   ]
  },
  {
   "cell_type": "markdown",
   "metadata": {
    "id": "dbdHQo23FJit"
   },
   "source": [
    "### Run experiments\n",
    "\n",
    "Run the cell below to show the performance of the new agent."
   ]
  },
  {
   "cell_type": "code",
   "execution_count": 88,
   "metadata": {
    "id": "ept5NG1oFLnu"
   },
   "outputs": [
    {
     "name": "stdout",
     "output_type": "stream",
     "text": [
      "Training agent for 1500 episodes...\n"
     ]
    },
    {
     "data": {
      "image/png": "[encoded data removed]",
      "text/plain": [
       "<Figure size 504x360 with 1 Axes>"
      ]
     },
     "metadata": {
      "needs_background": "light"
     },
     "output_type": "display_data"
    }
   ],
   "source": [
    "# DO NOT CHANGE THIS CELL\n",
    "\n",
    "# Experiment configs.\n",
    "train_episodes = 1500\n",
    "discount_factor = .99\n",
    "\n",
    "# Create environment.\n",
    "env = catch.Catch(seed=42)\n",
    "\n",
    "# Build and initialize network.\n",
    "rng = jax.random.PRNGKey(44)\n",
    "rng, init_rng = jax.random.split(rng)\n",
    "sample_input = env.observation_spec().generate_value()\n",
    "net_params = init_net(init_rng, sample_input)\n",
    "\n",
    "# Initialize optimizer state.\n",
    "opt_state = opt_init(net_params)\n",
    "\n",
    "# Apply updates\n",
    "def apply_updates(params, updates):\n",
    "  return jax.tree_multimap(lambda p, u: p + u, params, updates)\n",
    "\n",
    "# Jit.\n",
    "opt_update = jax.jit(opt_update)\n",
    "apply_updates = jax.jit(apply_updates)\n",
    "\n",
    "print(f\"Training agent for {train_episodes} episodes...\")\n",
    "all_episode_returns = []\n",
    "\n",
    "for _ in range(train_episodes):\n",
    "  episode_return = 0.\n",
    "  timestep = env.reset()\n",
    "  obs_tm1 = timestep.observation\n",
    "\n",
    "  # Sample initial action.\n",
    "  rng, policy_rng = jax.random.split(rng)\n",
    "  a_tm1 = epsilon_greedy_policy(net_params, policy_rng, obs_tm1)\n",
    "\n",
    "  while not timestep.last():\n",
    "    # Step environment.\n",
    "    new_timestep = env.step(int(a_tm1))\n",
    "\n",
    "    # Sample action from agent policy.\n",
    "    rng, policy_rng = jax.random.split(rng)\n",
    "    a_t = epsilon_greedy_policy(net_params, policy_rng, new_timestep.observation)\n",
    "\n",
    "    # Update params.\n",
    "    r_t = new_timestep.reward\n",
    "    discount_t = discount_factor * new_timestep.discount\n",
    "    rng, grad_rng = jax.random.split(rng)\n",
    "    dJ_dtheta = compute_gradient(\n",
    "        net_params, grad_rng, obs_tm1, a_tm1, r_t, discount_t, \n",
    "        new_timestep.observation)\n",
    "    updates, opt_state = opt_update(dJ_dtheta, opt_state)\n",
    "    net_params = apply_updates(net_params, updates)\n",
    "\n",
    "    # Within episode book-keeping.\n",
    "    episode_return += new_timestep.reward\n",
    "    timestep = new_timestep\n",
    "    obs_tm1 = new_timestep.observation\n",
    "    a_tm1 = a_t\n",
    "\n",
    "  # Experiment results tracking.\n",
    "  all_episode_returns.append(episode_return)\n",
    "\n",
    "# Plot learning curve.\n",
    "plot_learning_curve(all_episode_returns)"
   ]
  },
  {
   "cell_type": "markdown",
   "metadata": {
    "id": "g80tBzfsBgya"
   },
   "source": [
    "### Q 3.8 [4 marks]\n",
    "\n",
    "[1pts]: What is the best asymptotic average return that can be achieved by the actor-critic agent described in `Part 2A)`?\n",
    "\n",
    "> The best asymptotic average return that can be achieved by the actor-critic in 2A is 1.\n",
    "\n",
    "[1pts] What is the best asymptotic average return that can be achieved by the second agent described in `Part 2B)`?\n",
    "\n",
    "> The best asymptotic average return that can be achieved by the actor-critic in 2B is 1.\n",
    "\n",
    "[2pts] What quantity do the preferences `p` estimate in the second agent described in `Part 2B)`?\n",
    "\n",
    "> The preferences `p` estimate $Q_\\mu(s_t,a_t)$: the action-values under the behavior policy. They are updated towards the target action-values that they are trying to parameterize for. "
   ]
  },
  {
   "cell_type": "markdown",
   "metadata": {
    "id": "mh918hc0_iQ9"
   },
   "source": [
    "# Part 3: Off-policy multi-step learning [40 marks]"
   ]
  },
  {
   "cell_type": "markdown",
   "metadata": {
    "id": "thswfgXU_p05"
   },
   "source": [
    "### Q4 [15 marks]\n",
    "For many concrete algorithms, we need to combine multi-step updates with off-policy corrections.  The multi-step updates are necessary for efficient learning, while the off-policy corrections are necessary to learn about multiple things at once, or to correct for a distribution mismatch (e.g., when trying to perform a policy-gradient update from logged data).\n",
    "\n",
    "In this section, you will implement various different returns with off-policy corrections.  The next cell has two examples *without* corrections.  These examples compute equivalent returns, but compute those returns in different ways.  These are provided as reference implementations to help you.\n",
    "\n",
    "Note that the implementations both allow for immediate bootstrapping on the current state value. This is unconventional (most literature only allows the first bootstrapping to happen after the first step), but we will use this convention in all implementations below for consistency. "
   ]
  },
  {
   "cell_type": "code",
   "execution_count": 71,
   "metadata": {
    "id": "KHNH35SZYHBu"
   },
   "outputs": [],
   "source": [
    "#@title On-policy return computations\n",
    "\n",
    "def on_policy(observations, actions, pi, mu, rewards, discounts,\n",
    "              trace_parameter, v_fn):\n",
    "  \"\"\"Compute on-policy return recursively.\"\"\"\n",
    "  del mu  # The policy probabilities are ignored by this function\n",
    "  T = len(rewards)  # number of transitions\n",
    "  r = rewards\n",
    "  d = discounts\n",
    "  l = trace_parameter\n",
    "  v = np.array([v_fn(o) for o in observations])\n",
    "  G = np.zeros((T,))\n",
    "  # recurse backwards to calculate returns\n",
    "  for t in reversed(range(T)):\n",
    "    # There are T+1 observations, but only T rewards, and the indexing here\n",
    "    # for the rewards is off by one compared to the indexing in the slides\n",
    "    # and in Sutton & Barto.  In other words, r[t] == R_{t+1}.\n",
    "    if t == T - 1:\n",
    "      G[t] = r[t] + d[t]*v[t + 1]\n",
    "    else:\n",
    "      G[t] = r[t] + d[t]*((1 - l)*v[t + 1] + l*G[t + 1])\n",
    "  v = v[:-1]  # Remove (T+1)th observation before calculating the returns\n",
    "  return (1 - l)*v + l*G\n",
    "\n",
    "def on_policy_error_recursion(observations, actions, pi, mu, rewards, discounts,\n",
    "                              trace_parameter, v_fn):\n",
    "  del pi  # The target policy probabilities are ignored by this function\n",
    "  del mu  # The behaviour policy probabilities are ignored by this function\n",
    "  T = len(rewards)  # number of transitions\n",
    "  r = rewards\n",
    "  d = discounts\n",
    "  l = trace_parameter\n",
    "  v = np.array([v_fn(o) for o in observations])\n",
    "  errors = np.zeros((T,))\n",
    "  error = 0.\n",
    "  # recurse backwards to calculate errors\n",
    "  for t in reversed(range(T)):\n",
    "    error = r[t] + d[t]*v[t + 1] - v[t] + d[t]*l*error\n",
    "    errors[t] = error\n",
    "  v = v[:-1]  # Remove (T+1)th observation before calculating the returns\n",
    "  return v + l*errors"
   ]
  },
  {
   "cell_type": "markdown",
   "metadata": {
    "id": "UNXhobrYHeiy"
   },
   "source": [
    "### Q 4.1 [7 marks]\n",
    "Implement the return functions below and run the cells below that."
   ]
  },
  {
   "cell_type": "code",
   "execution_count": 78,
   "metadata": {
    "id": "7g6FOZLfA_su"
   },
   "outputs": [],
   "source": [
    "def full_importance_sampling(observations, actions, pi, mu, rewards, discounts, trace_parameter, v_fn):\n",
    "    \"\"\"\n",
    "      Compute off-policy return with full importance-sampling corrections, so that\n",
    "      the return G_t is corrected with the full importance-sampling correction of\n",
    "      the rest of the trajectory.\n",
    "      \"\"\"\n",
    "    T = len(rewards)  \n",
    "    a = actions\n",
    "    G = on_policy(observations, actions, pi, mu, rewards, discounts, trace_parameter, v_fn)\n",
    "    G_hat = np.zeros((T,))\n",
    "    l = trace_parameter\n",
    "    v = np.array([v_fn(o) for o in observations])\n",
    "    rho = 1 \n",
    "    for t in reversed(range(T)):\n",
    "        rho = rho*(pi[t]/mu[t])\n",
    "        G_hat[t] = rho*G[t]\n",
    "    v = v[:-1] \n",
    "    return (1 - l)*v + l*G_hat      \n",
    "\n",
    "def per_decision(observations, actions, pi, mu, rewards, discounts, trace_parameter, v_fn):\n",
    "    \"\"\"\n",
    "    Compute off-policy return with per-decision importance-sampling corrections.\n",
    "    \"\"\"\n",
    "    T = len(rewards)  \n",
    "    a = actions\n",
    "    r = rewards\n",
    "    d = discounts\n",
    "    l = trace_parameter\n",
    "    G_rho = np.zeros((T,))\n",
    "    v = np.array([v_fn(o) for o in observations])\n",
    "    for t in reversed(range(T)):\n",
    "        rho = pi[t]/mu[t]\n",
    "        if t == T-1:\n",
    "            G_rho[t] = rho*(r[t] + d[t]*v[t+1])\n",
    "        else:\n",
    "            G_rho[t] = rho*(r[t] + d[t]*((1-l)*v[t+1] + l*G_rho[t+1]))   \n",
    "    v = v[:-1]  \n",
    "    return (1 - l)*v + l*G_rho\n",
    "    \n",
    "def control_variates(observations, actions, pi, mu, rewards, discounts, trace_parameter, v_fn):\n",
    "    \"\"\"\n",
    "    Compute off-policy return with \n",
    "    1. per-decision importance-sampling corrections, and\n",
    "    2. control variates\n",
    "    \"\"\"\n",
    "    T = len(rewards) \n",
    "    a = actions\n",
    "    r = rewards\n",
    "    d = discounts\n",
    "    l = trace_parameter\n",
    "    v = np.array([v_fn(o) for o in observations])\n",
    "    G_delta = np.zeros((T,))\n",
    "    for t in reversed(range(T)):\n",
    "        rho = pi[t]/mu[t]\n",
    "        delta = r[t] + d[t]*v[t+1] - v[t]\n",
    "        if t == T-1:\n",
    "            G_delta[t] = rho*delta + v[t]\n",
    "        else:\n",
    "            G_delta[t] = rho*(delta + d[t]*l*(G_delta[t+1] - v[t+1])) + v[t]    \n",
    "    v = v[:-1]  \n",
    "    return (1 - l)*v + l*G_delta\n",
    "    \n",
    "def adaptive_bootstrapping(observations, actions, pi, mu, rewards, discounts, trace_parameter, v_fn):\n",
    "    \"\"\"\n",
    "    Compute off-policy return with \n",
    "    1. per-decision importance-sampling corrections, and\n",
    "    2. control variates, and\n",
    "    3. adaptive bootstrapping.\n",
    "\n",
    "    Implement the adaptive bootstrapping with an *additional* trace parameter\n",
    "    lambda, such that lambda_t = lambda * min(1, 1/rho_t).\n",
    "    \"\"\"\n",
    "    \n",
    "    T = len(rewards)  \n",
    "    a = actions\n",
    "    r = rewards\n",
    "    d = discounts\n",
    "    l = trace_parameter\n",
    "    v = np.array([v_fn(o) for o in observations])\n",
    "    G_delta = np.zeros((T,))\n",
    "    for t in reversed(range(T)):\n",
    "        rho = pi[t]/mu[t]\n",
    "        l_t = min(1, 1/rho)\n",
    "        delta = r[t] + d[t]*v[t+1] - v[t]\n",
    "        if t == T-1:\n",
    "            G_delta[t] = l_t*rho*delta + v[t]\n",
    "        else:\n",
    "            G_delta[t] = l_t*rho*(delta + d[t]*(G_delta[t+1] - v[t+1])) + v[t]    \n",
    "    v = v[:-1]  \n",
    "    return (1 - l)*v + l*G_delta"
   ]
  },
  {
   "cell_type": "code",
   "execution_count": 79,
   "metadata": {
    "id": "7EEHYK89ANIA"
   },
   "outputs": [],
   "source": [
    "#@title (Run, don't modify) Functions to generate experience, compute values\n",
    "MU_RIGHT = 0.5\n",
    "PI_RIGHT = 0.9\n",
    "NUMBER_OF_STEPS = 5\n",
    "DISCOUNT = 0.99\n",
    "\n",
    "def generate_experience():\n",
    "  r\"\"\"Generate experience trajectories from a tabular tree MDP.\n",
    "\n",
    "  This function will start in state 0, and will then generate actions according\n",
    "  to a uniformly random behaviour policy.  When A_t == 0, the action will be to\n",
    "  the left, with A_t==1, it will be to the right.  The states are nunmbered as\n",
    "  depicted below:\n",
    "          0\n",
    "         / \\\n",
    "        1   2\n",
    "       / \\ / \\\n",
    "      3   4   5\n",
    "         ...\n",
    "  \n",
    "  Args:\n",
    "      number_of_steps: the number of total steps.\n",
    "      p_right: probability of the behaviour to go right.\n",
    "\n",
    "  Returns:\n",
    "      A dictionary with elements:\n",
    "        * observations (number_of_steps + 1 integers): the\n",
    "          observations are just the actual (integer) states\n",
    "        * actions (number_of_steps integers): actions per step\n",
    "        * rewards (number_of_steps scalars): rewards per step\n",
    "        * discounts (number_of_steps scalars): currently always 0.9,\n",
    "          except the last one which is zero\n",
    "        * mu (number_of_steps scalars): probability of selecting each\n",
    "          action according to the behavious policy\n",
    "        * pi (number_of_steps scalars): probability of selecting each\n",
    "          action according to the target policy (here p(1) = 0.9 and\n",
    "          p(0) = 0.1, where a==1 implies we go 'right')\n",
    "  \"\"\"\n",
    "  # generate actions\n",
    "  actions = np.array(np.random.random(NUMBER_OF_STEPS,) < MU_RIGHT,\n",
    "                     dtype=np.int)\n",
    "  s = 0\n",
    "  # compute resulting states\n",
    "  states = np.cumsum(np.arange(1, NUMBER_OF_STEPS + 1) + actions)\n",
    "  states = np.array([0] + list(states))  # add start state\n",
    "  # in this case, observations are just the real states\n",
    "  observations = states\n",
    "  # generate rewards\n",
    "  rewards = 2.*actions - 1. # -1 for left, +1 for right, \n",
    "  rewards[-1] = np.sum(actions)  # extra final reward for going right\n",
    "  # compute discounts\n",
    "  discounts = DISCOUNT * np.ones_like(rewards)\n",
    "  discounts[-1] = 0.  # final transition is terminal, has discount=0\n",
    "  # determine target and behaviour probabilities for the selected actions\n",
    "  pi = np.array([1. - PI_RIGHT, PI_RIGHT])[actions] # Target probabilities\n",
    "  mu = np.array([1. - MU_RIGHT, MU_RIGHT])[actions] # Behaviour probabilities\n",
    "  return dict(observations=observations,\n",
    "              actions=actions,\n",
    "              pi=pi,\n",
    "              mu=mu,\n",
    "              rewards=rewards,\n",
    "              discounts=discounts)\n",
    "\n",
    "def true_v(s, pi, number_of_steps):\n",
    "  \"\"\"Compute true state value recursively.\"\"\"\n",
    "  depth = int(np.floor((np.sqrt(1 + 8*s) - 1)/2))\n",
    "  position = int(s - depth*(depth+1)/2)\n",
    "  remaining_steps = number_of_steps - depth\n",
    "  final_reward = DISCOUNT**(remaining_steps-1)*(position + pi*remaining_steps)\n",
    "  reward_per_step = pi*(+1) + (1 - pi)*(-1)\n",
    "  discounted_steps = (1 - DISCOUNT**(remaining_steps - 1))/(1 - DISCOUNT)\n",
    "  reward_along_the_way = reward_per_step * discounted_steps\n",
    "  return reward_along_the_way + final_reward\n",
    "\n"
   ]
  },
  {
   "cell_type": "code",
   "execution_count": 80,
   "metadata": {
    "id": "CCFMUmOfRTqZ"
   },
   "outputs": [
    {
     "name": "stderr",
     "output_type": "stream",
     "text": [
      "/Users/Administrator/opt/anaconda3/lib/python3.7/site-packages/ipykernel_launcher.py:41: DeprecationWarning: `np.int` is a deprecated alias for the builtin `int`. To silence this warning, use `int` by itself. Doing this will not modify any behavior and is safe. When replacing `np.int`, you may wish to use e.g. `np.int64` or `np.int32` to specify the precision. If you wish to review your current use, check the release note link for additional information.\n",
      "Deprecated in NumPy 1.20; for more details and guidance: https://numpy.org/devdocs/release/1.20.0-notes.html#deprecations\n"
     ]
    },
    {
     "name": "stdout",
     "output_type": "stream",
     "text": [
      "[ 18.793 526.781 171.636   6.054   0.807]\n"
     ]
    },
    {
     "data": {
      "image/png": "[encoded data removed]",
      "text/plain": [
       "<Figure size 864x576 with 1 Axes>"
      ]
     },
     "metadata": {
      "needs_background": "light"
     },
     "output_type": "display_data"
    }
   ],
   "source": [
    "#@title Run experiment (don't modify)\n",
    "algs = ['on_policy', 'full_importance_sampling', 'per_decision',\n",
    "        'control_variates', 'adaptive_bootstrapping']\n",
    "\n",
    "# Precompute state values (for efficiency)\n",
    "N = NUMBER_OF_STEPS\n",
    "true_vs = [true_v(s, PI_RIGHT, N) for s in range((N+1)*(N+2)//2)]\n",
    "\n",
    "def random_v(iteration, s):\n",
    "  rng = np.random.RandomState(seed=s + iteration*10000)\n",
    "  return true_vs[s] + rng.normal(loc=0, scale=1.)  # Add fixed random noise \n",
    "\n",
    "def plot_errors(ax, errors):\n",
    "  errors = np.array(errors)\n",
    "  ax.violinplot(np.log10(errors), showextrema=False)\n",
    "  ax.plot(range(1, len(algs)+1), np.log10(errors).T,\n",
    "          '.', color='#667799', ms=7, alpha=0.2)\n",
    "  ax.plot(range(1, len(algs)+1), np.log10(np.mean(errors, axis=0)),\n",
    "          '.', color='#000000', ms=20)\n",
    "  ax.set_yticks(np.arange(-2, 5))\n",
    "  ax.set_yticklabels(10.**np.arange(-2, 5), fontsize=13)\n",
    "  ax.set_ylabel(\"Value error $(v(s_0) - v_{\\\\pi}(s_0))^2$\", fontsize=15)\n",
    "  ax.set_xticks(range(1, len(algs)+1))\n",
    "  ax.set_xticklabels(algs, fontsize=15, rotation=70)\n",
    "  ax.set_ylim(-1, 4)\n",
    "\n",
    "fig = plt.figure(figsize=(12, 8))\n",
    "\n",
    "errors = []\n",
    "estimates = []\n",
    "v0 = true_vs[0]\n",
    "for iteration in range(1000):\n",
    "  errors.append([])\n",
    "  estimates.append([])\n",
    "  trajectory = generate_experience()\n",
    "  for alg in algs:\n",
    "    estimate = eval(alg)(**trajectory,\n",
    "                        v_fn=lambda s: random_v(iteration, s),\n",
    "                        trace_parameter=0.9)\n",
    "    errors[-1].append((estimate[0] - v0)**2)\n",
    "print(np.mean(errors, axis=0))\n",
    "plot_errors(plt.gca(), errors)"
   ]
  },
  {
   "cell_type": "markdown",
   "metadata": {
    "id": "7hlc4jctHHqv"
   },
   "source": [
    "Above, the distributions of mean squared value errors are shown, with the mean as a big black dot and the (1,000) individual return samples as small black dots.\n",
    "\n",
    "### Q 4.2 [4 marks]\n",
    "Explain the ranking in terms of value error of the different return estimates.\n",
    "\n",
    "> Importance sampling performs the worst out of the off-policy multi-step return estimates. This occures because the importance weight is recursively multiplied to the return, such that at time-step $t$, $\\hat{G}_t=\\frac{\\pi(A_t|S_t)}{\\mu(A_t|S_t)}\\dots \\frac{\\pi(A_T|S_T)}{\\mu(A_T|S_T)}G_t$. This introduces variance for every importance-weight introduced, yielding high variance for the corrected return. Thus it yields the worst performance. <br/> <br/>\n",
    "Alternatively, the per-decision importance-sampling correction yields slightly better performance, with a lower mean value error. Per-decision importance weighting acts to reduce variance by only using importance weighting $\\rho_t$ instead of $\\rho_{t:T-1}$, since earlier rewards do not depend on later actions. Thus, it performs better than importance sampling. <br/> <br/>\n",
    "Control variates performs next best as it still uses per-decision importance-sampling to reduce variance and additionally introduces control variates, which effectively weight errors, additionally reducing variance- it uses $(1-\\frac{\\pi(A_t|S_t)}{\\mu(A_t|S_t)})v_t$, which varies with the return but has an expected value of 0. <br/> <br/>\n",
    "Finally, adaptive bootstrapping performs best as it adds to per-decision and control variates, a control variate that adapts based on the value of the importance sample. This allows the model to bootstrap only as much as it goes off-policy, further minimizing variance, while still avoiding the deadly triad. Thus, when $\\frac{\\mu(A_t|S_t)}{\\pi(A_t|S_t)} > 1$, the sum of errors is truncated to 1. \n",
    "\n",
    "### Q 4.3 [4 marks]\n",
    "Could there be a reason to **not** choose the best return according to this ranking when learning off-policy?  Explain your answer.\n",
    "\n",
    "> Yes, there could be a reason to not choose the best return according to this ranking when learning off-policy. \n",
    "This would correspond to adaptive bootstrapping: since we are also performing off-policy learning, if we use function approximation, this method may diverge due to the presence of the deadly triad (off-policy, bootstrapping, function approximation) if we end up bootstrapping too much. Additionally, in the case that the target policy $\\pi$ is computationally intractable, all of the above methods will suffer and thus other methods without importance sampling methods may fare better.\n"
   ]
  },
  {
   "cell_type": "code",
   "execution_count": null,
   "metadata": {
    "id": "69Ro9Co-Hb0A"
   },
   "outputs": [],
   "source": []
  },
  {
   "cell_type": "markdown",
   "metadata": {
    "id": "u5Xn8bDNFm-H"
   },
   "source": [
    "### Q5 [25 marks]\n",
    " Consider a MDP $M = (\\mathcal{S}, \\mathcal{A}, p, r, \\gamma)$ and a behaviour policy $\\mu$. We use policy $\\mu$ to generate trajectories of experience:\n",
    "\\begin{equation*}\n",
    "    (s_{t}, a_{t}, r_{t},s_{t+1}, a_{t+1}, r_{t+1},\\cdots, s_{t+n-1}, a_{t+n-1}, r_{t+n-1}, s_{t+n}, a_{t+n}) \\,.\n",
    "\\end{equation*}\n",
    "Note that this is an $n$-step sequence, starting from time $t$.\n",
    "\n",
    "Given these partial trajectories we consider the following learning problems:\n",
    "\n",
    "### Q5.1 [10 marks]\n",
    "Consider a learning update based on the following temporal difference error:\n",
    "    \\begin{equation}\n",
    "        \\delta_t = r(s_{t},a_{t}) + \\gamma  r(s_{t+1},a_{t+1}) + \\gamma^2 \\max_{a} q(s_{t+2},a) - q(s_t, a)\n",
    "    \\end{equation}\n",
    "\n",
    "Consider updating a tabular action value function with TD. \n",
    "* i) Does the resulting value function converge, under any initialisation of the value function? Consider an appropiate learning rate (Robbins–Monro conditions). If so, prove the convergence under infinity number of interactions with this MDP, under behaviour policy $\\mu$ and show its convergence point. If not, show why it diverges. (7 marks)\n",
    "* ii) Under which conditions, would the above process converge to the optimal value function $q_*$? (3 marks)\n",
    "\n",
    "### Q5.2 [15 marks]\n",
    "\n",
    "Consider the same questions now for the following temporal difference error\n",
    "\\begin{equation}\n",
    "        \\delta_t = r(s_{t},a_{t}) + \\gamma \\frac{\\pi(a_{t+1}|s_{t+1})}{\\mu(a_{t+1}|s_{t+1})} \\left[ r(s_{t+1},a_{t+1}) + \\gamma^2 \\max_{a} q(s_{t+2},a) \\right] - q(s_t, a_t)\n",
    "\\end{equation}\n",
    "\n",
    "where $\\pi(a|s) \\in \\arg\\max_a q(s,a), \\forall s,a \\in \\mathcal{A} \\times \\mathcal{S}$ and consider the behaviour policy to be: a) $\\mu(a|s) \\in \\arg\\max_a q(s,a), \\forall s,a \\in \\mathcal{A} \\times \\mathcal{S}$, b) $\\mu(a|s) = \\frac{1}{|\\mathcal{A}|}$ (uniformly random policy).\n",
    "\n",
    "Answer the below two questions for **both choices** of the behaviour policy $\\mu$:\n",
    "* i)  Does updating a tabular action value function with this TD error converge to the optimal value function $q_*$? Consider an appropiate learning rate (Robbins–Monro conditions). If so, prove this convergence under infinity number of interaction with this MDP, under behaviour policy $\\mu$. If not, show why it diverges or alternatively convergence to a different solution. (6 marks)\n",
    "* ii) How does the variance of this update compare to the one induced by the error in Q5.1? (5 marks). \n",
    "* iii) Can you propose a different behaviour policy that achieves a lower variance than any of the choices we considered for $\\mu$? Prove that your behaviour policy achieve this. Argue why, if that is not possible. (4 marks)"
   ]
  },
  {
   "cell_type": "markdown",
   "metadata": {},
   "source": [
    "### Q5.1 Answer\n",
    "i)\n",
    "\n",
    "##### Theorem:\n",
    "A random iterative process $\\Delta_{t+1}=(1-\\alpha_t)\\Delta_t + \\beta_tF_t$ converges to 0 under the following assumptions: <br/>\n",
    "1. The state space is finite <br/>\n",
    "2. The Robbins-Monro conditions hold: $\\sum\\limits^ \\infty \\alpha = \\infty$; $\\sum\\limits^\\infty \\alpha^2 < \\infty$; $\\sum\\limits^\\infty \\beta = \\infty$; $\\sum\\limits^\\infty \\beta^2 < \\infty$; $E[\\beta] \\leq E[\\alpha]$. <br/>\n",
    "3. $\\|E[F_t]\\| \\leq \\gamma \\|\\Delta_t \\|$ <br/>\n",
    "4. $var(F_t) \\leq C(1+\\|\\Delta_t\\|)^2$ for a constant C <br/>\n",
    "(from https://dspace.mit.edu/bitstream/handle/1721.1/7205/AIM-1441.pdf?sequence=2 ) <br/> <br/>\n",
    "\n",
    "The temporal difference update can be written <br/>\n",
    "$q_{t+1}(s_{t+1},a_{t+1}) = q_t(s_t, a_t) + \\alpha_t\\delta_t$ <br/>\n",
    "$= q_t(s_t, a_t) + \\alpha_t(r_{t+1}(s_t,a_t) + \\gamma r_{t+2}(s_{t+1},a_{t+1}) + \\gamma^2\\max_a q_{t+2}(s_{t+2},a_{t+2})-q_t(s_t,a_t))$ <br/> <br/>\n",
    "\n",
    "Let the estimated return be defined as\n",
    "$G_t = r_{t+1}(s_t,a_t)+\\gamma r_{t+2}(s_{t+1}, a_{t+1}) + \\gamma^2 \\max_a q_{t+2}(s_{t+2},a_{t+2})$ <br/> \n",
    "Then <br/>\n",
    "$q_{t+1}(s_{t+1},a_{t+1}) = q_t(s_t,a_t) + \\alpha_t(G_t-q_t(s_t,a_t))$ <br/>\n",
    "$ = (1-\\alpha_t)q_t(s_t,a_t) + \\alpha_t G_t$ <br/>\n",
    "\n",
    "To compute the action value update, the optimal value function is subtracted <br/> \n",
    "$q_{t+1}(s_{t+1},a_{t+1})-q_\\pi(s_t,a_t)=(1-\\alpha_t)q_t(s_t,a_t) + \\alpha_t G_t - q_\\pi(s_t,a_t)$ <br/>\n",
    "$=(1-\\alpha_t)q_t(s_t,a_t) + \\alpha_t G_t +\\alpha q_\\pi(s_t,a_t) - \\alpha q_\\pi(s_t,a_t) - q_\\pi(s_t,a_t)$ <br/>\n",
    "$=(1-\\alpha_t)q_t(s_t,a_t) + \\alpha_t G_t - (1-\\alpha) q_\\pi(s_t,a_t) - \\alpha q_\\pi(s_t,a_t)$ <br/>\n",
    "$=(1-\\alpha_t)(q_t(s_t,a_t)-q_\\pi(s_t,a_t)) + \\alpha_t(G_t - q_\\pi(s_t,a_t))$ <br/> <br/>\n",
    "\n",
    "Let $\\Delta_n = q_n(s_n,a_n)-q_\\pi(s_n,a_n)$. Then, <br/>\n",
    "$\\Delta_{t+1}=(1-\\alpha_t)\\Delta_t + \\alpha_t(G_t-q_\\pi(s_t,a_t))$ <br/>\n",
    "This yields the exact functional form in the theorem, with $\\beta_t = \\alpha_t$ and $F_t = G_t-q_\\pi(s_t,a_t)$. Thus, to prove that convergence occurs, the 4 assumptions in the above theorem must be shown to be true. <br/> <br/>\n",
    "\n",
    "Because the MDP is updating a tabular action value function, it is finite and the state space is finite. Thus, assumption 1 is satisfied. <br/> <br/>\n",
    "\n",
    "As defined, $\\alpha_t = \\beta_t$. Thus, $E[\\beta_t]\\leq E[\\alpha_t]$. Furthermore, in this model we consider an appropriate learning rate (Robbins-Monro conditions), which is specifically defined as $\\sum\\limits^ \\infty \\alpha = \\infty$; $\\sum\\limits^\\infty \\alpha^2 < \\infty$. Because $\\alpha_t, \\beta_t$ are functions of $s_t, a_t$, in order for the condition to hold, the behavior policy must ensure that all state-action pairs are encountered infinitely many times, as per Greedy in the Limit with Infinite Exploration.  In this case, assumption 2 is satisfied. <br/> <br/>\n",
    "\n",
    "$E[G_t]=E[r_{t+1}(s_t,a_t)+\\gamma r_{t+2}(s_{t+1},a_{t+1}) + \\gamma ^2 \\max_a q_{t+2}(s_{t+2},a_{t+2})]$ <br/>\n",
    "The Bellman operator is defined as $T^*(q_t(s_t,a_t)) = E[r_{t+1}+\\gamma \\max_{a} q_{t+1}(s_{t+1},a_{t+1})]$. Thus, <br/>\n",
    "$=E[r_{t+1}(s_t,a_t)+\\gamma T^*(q_{t+1}(s_{t+1},a_{t+1}))]$ <br/>\n",
    "$=T^*(q_t(s_t,a_t))$ <br/>\n",
    "The Bellman operator has one unique fixed point such that <br/>\n",
    "$T^*(q_\\pi(s_t,a_t)) = q_\\pi(s_t,a_t)$ <br/>\n",
    "Then, <br/>\n",
    "$E[G_t-q_\\pi(s_t,a_t)]=T^*(q_t(s_t,a_t))-T^*(q_\\pi(s_t,a_t))$ <br/> \n",
    "Bellman Operators additionally have the property that they are a contraction with respect to $\\|\\cdot\\|_\\infty$. Thus, <br/>\n",
    "$\\|T^*(q_t(s_t,a_t))-T^*(q_\\pi(s_t,a_t))\\|_\\infty \\leq \\gamma\\|q_t(s_t,a_t)-q_\\pi(s_t,a_t)\\|_\\infty$. <br/>\n",
    "This exactly matches the form of assumption 3: <br/>\n",
    "$\\|E[F_t]\\| < \\gamma \\|\\Delta_t\\|$ <br/>\n",
    "Thus, assumption 3 holds. <br/> <br/>\n",
    "\n",
    "$var[F_t] = E[(r_{t+1}(s_t,a_t)+\\gamma T^*(q_{t+1}(s_{t+1},a_{t+1})-q_\\pi(s_t,a_t)-E[F_t])^2]$ <br/>\n",
    "$=E[(r_{t+1}(s_t,a_t)+\\gamma T^*(q_{t+1}(s_{t+1},a_{t+1}))-q_\\pi(s_t,a_t)-T^*(q_t(s_t,a_t))+T^*(q_\\pi(s_t,a_t)))^2]$ <br/>\n",
    "$=E[(r_{t+1}(s_t,a_t)+\\gamma T^*(q_{t+1}(s_{t+1},a_{t+1}))-T^*(q_t(s_t,a_t)))^2]$ <br/>\n",
    "$=var(r_{t+1}(s_t,a_t)+\\gamma T^*(q_{t+1}(s_{t+1},a_{t+1}))-T^*(q_t(s_t,a_t)))$ <br/>\n",
    "Because r is bounded, \n",
    "$\\leq C(1+\\|q_t(s_t,a_t)-q_\\pi(s_t,a_t)\\|^2)=C(1+\\|\\Delta_t\\|)^2$ for some constant $C$. Thus, assumption 4 holds and we prove that the MPD converges as $t\\rightarrow \\infty$ with a GLIE behavior policy. \n",
    "\n",
    "ii)\n",
    "The above process converges to the optimal value function $q^*$ if the behavior policy is greedy in the limit with infinite exploration (GLIE), so as for the MDP to have explored each state sufficiently (infinitely many times), before converging to the greedy optimum. Additionally, the Robbins-Monro conditions must be satisfied."
   ]
  },
  {
   "cell_type": "markdown",
   "metadata": {},
   "source": [
    "### Q5.2 Answer\n",
    "\n",
    "i)\n",
    "\n",
    "Similarly to (5.1), <br/>\n",
    "$E[v_t] = E[r_{t+1}(s_t,a_t)+\\gamma \\frac{\\pi(a_{t+1}|s_{t+1})}{\\mu(a_{t+1}|s_{t+1})}[r_{t+2}(s_{t+1},a_{t+1})+\\gamma \\max_a q_{t+2}(s_{t+2},a)]]$ <br/>\n",
    "$=\\sum\\limits_{s_{t+1},r_{t+1}} p(s_{t+1},r_{t+1}|s_t,a_t)[r_{t+1}(s_{t+1},a_{t+1})+\\gamma \\sum\\limits_{a_{t+1}} \\mu(a_{t+1}|s_{t+1}) \\frac{\\pi(a_{t+1}|s_{t+1})}{\\mu(a_{t+1}|s_{t+1})} \\sum\\limits_{s_{t+2},r_{t+2}} p(s_{t+2},r_{t+2}|s_{t+1},a_{t+1})[r_{t+2}(s_{t+1},a_{t+1})+\\gamma \\max_a q_{t+2}(s_{t+2},a)]]$ <br/>\n",
    "$=\\sum\\limits_{s_{t+1},r_{t+1}} p(s_{t+1},r_{t+1}|s_t,a_t)[r_{t+1}(s_{t+1},a_{t+1})+\\gamma \\sum\\limits_{a_{t+1}} \\pi(a_{t+1}|s_{t+1}) \\sum\\limits_{s_{t+2},r_{t+2}} p(s_{t+2},r_{t+2}|s_{t+1},a_{t+1})[r_{t+2}(s_{t+1},a_{t+1})+\\gamma \\max_a q_{t+2}(s_{t+2},a)]]$ <br/>\n",
    "Because $\\pi(a|s)\\in \\arg \\max q(s,a)$, \n",
    "$=\\sum\\limits_{s_{t+1},r_{t+1}} p(s_{t+1},r_{t+1}|s_t,a_t)[r_{t+1}(s_{t+1},a_{t+1})+\\gamma \\max_{a} \\sum\\limits_{s_{t+2},r_{t+2}} p(s_{t+2},r_{t+2}|s_{t+1},a_{t+1})[r_{t+2}(s_{t+1},a_{t+1})+\\gamma \\max_a q_{t+2}(s_{t+2},a)]]$ <br/>\n",
    "$=E[r_{t+1}(s_t,a_t)+\\gamma \\max_a r_{t+2}(s_t,a) + \\gamma^2 \\max_a q_{t+2}(s_{t+2},a_{t+2})]$ <br/>\n",
    "Using the definition of the Bellman operator, <br/>\n",
    "$=E[r_{t+1}(s_t,a_t)+\\gamma T^*(q_{t+1}(s_{t+1},a_{t+1})]$ <br/> \n",
    "$=T^*(q_t(s_t,a_t))$ <br/>\n",
    "Thus, we end up with the same form as in (5.1) and can conclude from the same proof that the MDP converges.\n",
    "\n",
    "ii) \n",
    "\n",
    "The variance of the update in (5.1) is:  <br/>\n",
    "$E[(\\gamma r_{t+2}(s_{t+1},a_{t+1}) + \\gamma ^2 \\max_a q_{t+2}(s_{t+2},a))^2]$ <br/>\n",
    "$= \\sum\\limits_{a} \\mu(a_{t+1}|s_{t+1})(\\gamma r_{t+2}(s_{t+1},a_{t+1}) + \\gamma ^2 \\max_a q_{t+2}(s_{t+2},a))^2$ <br/>\n",
    "\n",
    "The variance of the update in Q5.2 is: <br/>\n",
    "$E[(\\frac{\\pi(a_{t+1}|s_{t+1})}{\\mu(a_{t+1}|s_{t+1})}(\\gamma r_{t+2}(s_{t+1},a_{t+1}) + \\gamma ^2 \\max_a q_{t+2}(s_{t+2},a)))^2]$ <br/>\n",
    "$=\\sum\\limits_{a} \\frac{\\pi(a_{t+1}|s_{t+1})^2}{\\mu(a_{t+1}|s_{t+1})}(\\gamma r_{t+2}(s_{t+1},a_{t+1}) + \\gamma ^2 \\max_a q_{t+2}(s_{t+2},a))^2$ <br/>\n",
    "\n",
    "For behavior policy (a), $\\mu(a_{t+1}|s_{t+1})=\\pi(a_{t+1}|s_{t+1})$. Thus, the variance of the update is: <br/>\n",
    "$\\sum\\limits_{a} \\pi(a_{t+1}|s_{t+1}) (\\gamma r_{t+2}(s_{t+1},a_{t+1}) + \\gamma ^2 \\max_a q_{t+2}(s_{t+2},a))^2$ <br/>\n",
    "$=\\sum\\limits_{a} \\mu(a_{t+1}|s_{t+1}) (\\gamma r_{t+2}(s_{t+1},a_{t+1}) + \\gamma ^2 \\max_a q_{t+2}(s_{t+2},a))^2$ <br/>\n",
    "yielding the same variance as the update in Q5.1 for the greedy behavior policy $\\mu$. Furthermore, because $\\mu(a_{t+1}|s_{t+1})$ is greedy, it yields 1 for the optimal action and 0 for all suboptimal actions, allowing the variance to be rewritten: <br/>\n",
    "$=(\\gamma \\max_a r_{t+2}(s_{t+1},a) + \\gamma ^2 \\max_a q_{t+2}(s_{t+2},a))^2$\n",
    "\n",
    "For behavior policy (b), $\\mu(a_{t+1}|s_{t+1}) = \\frac{1}{|\\mathcal{A}|}$. Additionally, the target policy is $\\pi(a_{t+1}|s_{t+1}) \\in \\arg \\max_a q(s,a)$. Because the target policy is greedy, the variance can be rewritten as: <br/>\n",
    "$\\frac{1}{\\mu(a_{t+1}|s_{t+1})} (\\gamma \\max_a r_{t+2}(s_{t+1},a) + \\gamma ^2 \\max_a q_{t+2}(s_{t+2},a))^2$ <br/>\n",
    "$=|\\mathcal{A}|(\\gamma \\max_a r_{t+2}(s_{t+1},a) + \\gamma ^2 \\max_a q_{t+2}(s_{t+2},a))^2$ <br/>\n",
    "Because $|\\mathcal{A}| \\geq 1$, the variance is greater than or equal to that of (5.1, 5.2a): <br/>\n",
    "$\\geq (\\gamma \\max_a r_{t+2}(s_{t+1},a) + \\gamma ^2 \\max_a q_{t+2}(s_{t+2},a))^2$ <br/>\n",
    "Thus, the variance of behavior policy (b) in (5.2) has a variance greater than or equal to (5.1), assuming a greedy behavior policy, and behavior policy (a) in (5.2).\n",
    "\n",
    "iii)\n",
    "\n",
    "It is not possible to yield a different behavior policy with lower variance than any of the choices we considered for $\\mu$. From the form of the variance in (ii), it can be observed that the only way to decrease the variance through the behavior policy is by increasing $\\mu$. When $\\mu$ behaves optimally according to behavior policy (a), $\\frac{\\pi(a_{t+1}|s_{t+1})}{\\mu(a_{t+1}|s_{t+1})} = \\frac{1}{1} = 1$. Thus, the only way to further decrease the variance would be for $\\mu > 1$, which is not possible."
   ]
  },
  {
   "cell_type": "code",
   "execution_count": null,
   "metadata": {
    "id": "_-dkvLErWEo2"
   },
   "outputs": [],
   "source": []
  }
 ],
 "metadata": {
  "colab": {
   "collapsed_sections": [
    "nVBcO5mAV9Ow",
    "j37IiBzpcdB4",
    "KV03Q3MpveUM",
    "r_pTfi5dSFX5",
    "M6kEki4XHbPy",
    "thswfgXU_p05",
    "UNXhobrYHeiy"
   ],
   "name": "RL_assignment3.ipynb",
   "provenance": [
    {
     "file_id": "/piper/depot/google3/learning/deepmind/research/ucl/assignments_2021/RL_assignment_3.ipynb?cl=368650897",
     "timestamp": 1618589207256
    },
    {
     "file_id": "/piper/depot/google3/learning/deepmind/research/ucl/assignments_2021/RL_assignment_3_solution.ipynb?workspaceId=mtthss:ucluclucl::citc",
     "timestamp": 1618502477520
    },
    {
     "file_id": "1q0yqRznin1Zv5-MduEZbZZU8EF-qfzxJ",
     "timestamp": 1618501430836
    }
   ],
   "toc_visible": true
  },
  "kernelspec": {
   "display_name": "Python 3",
   "language": "python",
   "name": "python3"
  },
  "language_info": {
   "codemirror_mode": {
    "name": "ipython",
    "version": 3
   },
   "file_extension": ".py",
   "mimetype": "text/x-python",
   "name": "python",
   "nbconvert_exporter": "python",
   "pygments_lexer": "ipython3",
   "version": "3.7.4"
  }
 },
 "nbformat": 4,
 "nbformat_minor": 1
}
