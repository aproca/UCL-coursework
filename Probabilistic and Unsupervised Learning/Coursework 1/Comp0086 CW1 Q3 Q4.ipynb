{
 "cells": [
  {
   "cell_type": "code",
   "execution_count": 1,
   "metadata": {},
   "outputs": [
    {
     "data": {
      "text/plain": [
       "<Figure size 640x480 with 1 Axes>"
      ]
     },
     "metadata": {},
     "output_type": "display_data"
    },
    {
     "data": {
      "text/plain": [
       "<Figure size 500x500 with 100 Axes>"
      ]
     },
     "metadata": {},
     "output_type": "display_data"
    }
   ],
   "source": [
    "\"\"\"Assignment 1, Unsupervised Learning, UCL 2003\n",
    "Author: Zoubin Gahramani\n",
    "Ported to Python by Raza Habib and Jamie Townsend 2017\"\"\"\n",
    "import numpy as np\n",
    "from matplotlib import pyplot as plt\n",
    "\n",
    "# Python comments use a hash\n",
    "\n",
    "def main():\n",
    "    # load the data set\n",
    "    Y = np.loadtxt('binarydigits.txt')\n",
    "    N, D = Y.shape\n",
    "\n",
    "    # this is how you display one image using matplotlib,\n",
    "    # e.g. the 4th image:\n",
    "    y = Y[3,  :]\n",
    "    plt.figure()\n",
    "    plt.imshow(np.reshape(y, (8,8)),\n",
    "               interpolation=\"None\",\n",
    "               cmap='gray')\n",
    "    plt.axis('off')\n",
    "\n",
    "    # now we will display the whole data set:\n",
    "    plt.figure(figsize=(5, 5))\n",
    "    for n in range(N):\n",
    "        plt.subplot(10, 10, n+1)\n",
    "        plt.imshow(np.reshape(Y[n, :], (8,8)),\n",
    "                   interpolation=\"None\",\n",
    "                   cmap='gray')\n",
    "        plt.axis('off')\n",
    "    plt.show()    \n",
    "\n",
    "if __name__ == \"__main__\":\n",
    "    main()"
   ]
  },
  {
   "cell_type": "code",
   "execution_count": 4,
   "metadata": {},
   "outputs": [
    {
     "name": "stdout",
     "output_type": "stream",
     "text": [
      "[0.0, 0.13, 0.21, 0.29, 0.43, 0.64, 0.77, 0.69, 0.5, 0.08, 0.25, 0.45, 0.64, 0.72, 0.7, 0.79, 0.48, 0.13, 0.3, 0.45, 0.39, 0.27, 0.25, 0.5, 0.52, 0.19, 0.45, 0.48, 0.31, 0.29, 0.25, 0.44, 0.4, 0.32, 0.39, 0.19, 0.26, 0.23, 0.4, 0.54, 0.26, 0.47, 0.33, 0.13, 0.14, 0.28, 0.44, 0.48, 0.17, 0.6, 0.59, 0.35, 0.44, 0.57, 0.52, 0.29, 0.04, 0.28, 0.66, 0.76, 0.77, 0.42, 0.19, 0.05]\n"
     ]
    },
    {
     "data": {
      "text/plain": [
       "(-0.5, 7.5, 7.5, -0.5)"
      ]
     },
     "execution_count": 4,
     "metadata": {},
     "output_type": "execute_result"
    },
    {
     "data": {
      "image/png": "[encoded data removed]",
      "text/plain": [
       "<Figure size 432x288 with 1 Axes>"
      ]
     },
     "metadata": {
      "needs_background": "light"
     },
     "output_type": "display_data"
    }
   ],
   "source": [
    "# Question 3 Part d\n",
    "import numpy as np\n",
    "from matplotlib import pyplot as plt\n",
    "\n",
    "Y = np.loadtxt('binarydigits.txt')\n",
    "N, D = Y.shape\n",
    "MLParam = []\n",
    "for d in range(D):\n",
    "    N_d = 0\n",
    "    for n in range(N):\n",
    "        if Y[n-1][d-1] == 1:\n",
    "            N_d += 1\n",
    "    MLParam.append(N_d/N)\n",
    "\n",
    "print(MLParam)\n",
    "\n",
    "plt.figure()\n",
    "plt.imshow(np.reshape(MLParam, (8,8)),\n",
    "           interpolation=\"None\",\n",
    "           cmap='gray')\n",
    "plt.axis('off')"
   ]
  },
  {
   "cell_type": "code",
   "execution_count": 5,
   "metadata": {},
   "outputs": [
    {
     "name": "stdout",
     "output_type": "stream",
     "text": [
      "[0.019230769230769232, 0.14423076923076922, 0.22115384615384615, 0.2980769230769231, 0.4326923076923077, 0.6346153846153846, 0.7596153846153846, 0.6826923076923077, 0.5, 0.09615384615384616, 0.25961538461538464, 0.4519230769230769, 0.6346153846153846, 0.7115384615384616, 0.6923076923076923, 0.7788461538461539, 0.4807692307692308, 0.14423076923076922, 0.3076923076923077, 0.4519230769230769, 0.3942307692307692, 0.27884615384615385, 0.25961538461538464, 0.5, 0.5192307692307693, 0.20192307692307693, 0.4519230769230769, 0.4807692307692308, 0.3173076923076923, 0.2980769230769231, 0.25961538461538464, 0.4423076923076923, 0.40384615384615385, 0.3269230769230769, 0.3942307692307692, 0.20192307692307693, 0.2692307692307692, 0.2403846153846154, 0.40384615384615385, 0.5384615384615384, 0.2692307692307692, 0.47115384615384615, 0.33653846153846156, 0.14423076923076922, 0.15384615384615385, 0.28846153846153844, 0.4423076923076923, 0.4807692307692308, 0.18269230769230768, 0.5961538461538461, 0.5865384615384616, 0.3557692307692308, 0.4423076923076923, 0.5673076923076923, 0.5192307692307693, 0.2980769230769231, 0.057692307692307696, 0.28846153846153844, 0.6538461538461539, 0.75, 0.7596153846153846, 0.4230769230769231, 0.20192307692307693, 0.0673076923076923]\n"
     ]
    },
    {
     "data": {
      "text/plain": [
       "(-0.5, 7.5, 7.5, -0.5)"
      ]
     },
     "execution_count": 5,
     "metadata": {},
     "output_type": "execute_result"
    },
    {
     "data": {
      "image/png": "[encoded data removed]",
      "text/plain": [
       "<Figure size 432x288 with 1 Axes>"
      ]
     },
     "metadata": {
      "needs_background": "light"
     },
     "output_type": "display_data"
    }
   ],
   "source": [
    "# Question 3 Part e\n",
    "import numpy as np\n",
    "from matplotlib import pyplot as plt\n",
    "\n",
    "Y = np.loadtxt('binarydigits.txt')\n",
    "N, D = Y.shape\n",
    "\n",
    "MAPParam = []\n",
    "alpha = 3\n",
    "beta = 3\n",
    "for d in range(D):\n",
    "    p_d = 0\n",
    "    N_d = 0\n",
    "    for n in range(N):\n",
    "        if Y[n-1][d-1] == 1:\n",
    "            N_d += 1\n",
    "    p_d = (N_d + alpha - 1)/(alpha-2+beta+N)\n",
    "    MAPParam.append(p_d)\n",
    "\n",
    "print(MAPParam)\n",
    "\n",
    "plt.figure()\n",
    "plt.imshow(np.reshape(MAPParam, (8,8)),\n",
    "           interpolation=\"None\",\n",
    "           cmap='gray')\n",
    "plt.axis('off')"
   ]
  },
  {
   "cell_type": "code",
   "execution_count": 113,
   "metadata": {},
   "outputs": [
    {
     "name": "stdout",
     "output_type": "stream",
     "text": [
      "logP(D|M_1):  -4436.14195558365\n",
      "logP(D|M_2):  -4283.721342577344\n",
      "logP(D|M_3):  -3851.1957439211315\n"
     ]
    }
   ],
   "source": [
    "# Question 4 Part c\n",
    "import numpy as np\n",
    "from matplotlib import pyplot as plt\n",
    "import math\n",
    "\n",
    "Y = np.loadtxt('binarydigits.txt')\n",
    "N, D = Y.shape\n",
    "\n",
    "LogLikelihood1=N*D*math.log(0.5)\n",
    "LogLikelihood3 = 0\n",
    "\n",
    "N_i_d = 0\n",
    "for d in range(D):\n",
    "    N_d = 0\n",
    "    for n in range(N):\n",
    "        if Y[n-1][d-1] == 1:\n",
    "            N_d += 1\n",
    "            N_i_d += 1\n",
    "    alpha3=N_d+1\n",
    "    beta3=N-N_d+1\n",
    "    LogLikelihood3=LogLikelihood3+(math.lgamma(alpha3) + math.lgamma(beta3) - math.lgamma(alpha3+beta3))\n",
    "alpha2=N_i_d+1\n",
    "beta2=(N*D)-N_i_d+1\n",
    "LogLikelihood2=(math.lgamma(alpha2) + math.lgamma(beta2) - math.lgamma(alpha2+beta2))\n",
    "print(\"logP(D|M_1): \", LogLikelihood1)\n",
    "print(\"logP(D|M_2): \", LogLikelihood2)\n",
    "print(\"logP(D|M_3): \", LogLikelihood3)\n"
   ]
  }
 ],
 "metadata": {
  "kernelspec": {
   "display_name": "Python 3",
   "language": "python",
   "name": "python3"
  },
  "language_info": {
   "codemirror_mode": {
    "name": "ipython",
    "version": 3
   },
   "file_extension": ".py",
   "mimetype": "text/x-python",
   "name": "python",
   "nbconvert_exporter": "python",
   "pygments_lexer": "ipython3",
   "version": "3.7.4"
  }
 },
 "nbformat": 4,
 "nbformat_minor": 2
}
