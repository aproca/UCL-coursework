{
 "cells": [
  {
   "cell_type": "code",
   "execution_count": 1,
   "metadata": {},
   "outputs": [],
   "source": [
    "import numpy as np\n",
    "import matplotlib.pyplot as plt\n",
    "from mpltools import special\n",
    "import pandas as pd\n",
    "import collections\n",
    "from numpy import dot\n",
    "from numpy.linalg import norm\n",
    "import random\n",
    "import seaborn as sns "
   ]
  },
  {
   "cell_type": "code",
   "execution_count": 2,
   "metadata": {},
   "outputs": [],
   "source": [
    "warandpeace = open('war-and-peace.txt')\n",
    "wap = warandpeace.read()"
   ]
  },
  {
   "cell_type": "code",
   "execution_count": 24,
   "metadata": {},
   "outputs": [],
   "source": [
    "symbols = np.genfromtxt('symbols.txt', dtype = 'str')"
   ]
  },
  {
   "cell_type": "code",
   "execution_count": 25,
   "metadata": {},
   "outputs": [],
   "source": [
    "symbols = np.asarray(symbols)\n",
    "symbols = np.insert(symbols, 1, \" \")\n",
    "symbollist = list(symbols)"
   ]
  },
  {
   "cell_type": "code",
   "execution_count": 7,
   "metadata": {},
   "outputs": [],
   "source": [
    "Tmat = np.zeros((53, 53))\n",
    "for i in range(0, 53):\n",
    "    for j in range(0, 53):\n",
    "        pair = symbols[i]+symbols[j]\n",
    "        Tmat[i][j] = wap.lower().count(pair) + 1\n",
    "    if np.sum(Tmat[i]) > 0:\n",
    "        Tmat[i] = Tmat[i]/np.sum(Tmat[i])"
   ]
  },
  {
   "cell_type": "code",
   "execution_count": 64,
   "metadata": {},
   "outputs": [
    {
     "data": {
      "image/png": "[encoded data removed]",
      "text/plain": [
       "<Figure size 648x576 with 2 Axes>"
      ]
     },
     "metadata": {
      "needs_background": "light"
     },
     "output_type": "display_data"
    }
   ],
   "source": [
    "plt.figure(figsize=(9,8))\n",
    "ax = sns.heatmap(Tmat, cmap=\"rocket_r\", vmin=0, vmax=1)\n",
    "ax.set_xlabel('j')\n",
    "ax.set_ylabel('i')\n",
    "ax.set_xticks(np.arange(0, 53))\n",
    "ax.set_yticks(np.arange(0, 53))\n",
    "ax.set_xticklabels(symbols)\n",
    "ax.set_yticklabels(symbols)\n",
    "plt.show()"
   ]
  },
  {
   "cell_type": "code",
   "execution_count": null,
   "metadata": {},
   "outputs": [],
   "source": [
    "eigenvalues, eigenvectors = np.linalg.eig(Tmat.T)\n",
    "idx = np.argmin(np.abs(eigenvalues - 1))\n",
    "w = np.real(eigenvectors[:, idx]).T\n",
    "stationary = w/np.sum(w)"
   ]
  },
  {
   "cell_type": "code",
   "execution_count": 123,
   "metadata": {},
   "outputs": [
    {
     "data": {
      "image/png": "[encoded data removed]",
      "text/plain": [
       "<Figure size 576x36 with 1 Axes>"
      ]
     },
     "metadata": {
      "needs_background": "light"
     },
     "output_type": "display_data"
    }
   ],
   "source": [
    "plt.rcParams[\"figure.figsize\"] = 5, 2\n",
    "\n",
    "x = range(53)\n",
    "y = stationary\n",
    "\n",
    "plt.figure(figsize = (8, 0.5))\n",
    "ax = plt.gca()\n",
    "\n",
    "extent = [x[0]-(x[1]-x[0])/2., x[-1]+(x[1]-x[0])/2.,0,1]\n",
    "ax.imshow(y[np.newaxis,:], cmap = \"rocket_r\", aspect = \"auto\", extent = extent)\n",
    "ax.set_yticks([])\n",
    "ax.set_xlim(extent[0], extent[1])\n",
    "ax.set_xticks(range(53))\n",
    "ax.set_xticklabels(symbols)\n",
    "plt.show()"
   ]
  },
  {
   "cell_type": "code",
   "execution_count": 27,
   "metadata": {},
   "outputs": [],
   "source": [
    "message = open('message.txt')\n",
    "mess = message.read()\n",
    "messar = list(mess)\n",
    "occurrences = collections.Counter(messar)\n",
    "occurrences = occurrences.most_common()"
   ]
  },
  {
   "cell_type": "code",
   "execution_count": 28,
   "metadata": {},
   "outputs": [],
   "source": [
    "stat_sorted = np.sort(stationary)[::-1]"
   ]
  },
  {
   "cell_type": "code",
   "execution_count": 29,
   "metadata": {},
   "outputs": [],
   "source": [
    "symbdict = dict()\n",
    "for i in range(0, len(occurrences)):\n",
    "    symbind = int(np.where(stationary == stat_sorted[i])[0])\n",
    "    symbdict[occurrences[i][0]] = symbollist[symbind]"
   ]
  },
  {
   "cell_type": "code",
   "execution_count": 30,
   "metadata": {},
   "outputs": [
    {
     "name": "stdout",
     "output_type": "stream",
     "text": [
      "{'p': ' ', '?': 'e', 'w': 't', 's': 'a', '[': 'o', ':': 'n', 'g': 'i', ']': 'h', '!': 's', ';': 'r', '-': 'd', '1': 'l', 'x': 'u', 'n': 'm', '2': 'c', 'l': 'w', 'm': 'f', 'r': 'g', '/': 'y', '.': 'p', 'u': ',', 'z': 'b', ',': '.', '5': 'v', ' ': 'k', '9': '\"', '6': \"'\", '7': '-', 'v': 'x', 'c': '!', '0': '?', '4': 'j'}\n"
     ]
    }
   ],
   "source": [
    "print(symbdict)"
   ]
  },
  {
   "cell_type": "code",
   "execution_count": 31,
   "metadata": {},
   "outputs": [],
   "source": [
    "for i in range(0, 53):\n",
    "    if symbols[i] not in symbdict:\n",
    "        for j in range(0, 53):\n",
    "            if symbols[j] not in symbdict.values():\n",
    "                symbdict[symbols[i]] = symbols[j]\n",
    "                break\n",
    "            "
   ]
  },
  {
   "cell_type": "code",
   "execution_count": 32,
   "metadata": {},
   "outputs": [
    {
     "name": "stdout",
     "output_type": "stream",
     "text": [
      "{'p': ' ', '?': 'e', 'w': 't', 's': 'a', '[': 'o', ':': 'n', 'g': 'i', ']': 'h', '!': 's', ';': 'r', '-': 'd', '1': 'l', 'x': 'u', 'n': 'm', '2': 'c', 'l': 'w', 'm': 'f', 'r': 'g', '/': 'y', '.': 'p', 'u': ',', 'z': 'b', ',': '.', '5': 'v', ' ': 'k', '9': '\"', '6': \"'\", '7': '-', 'v': 'x', 'c': '!', '0': '?', '4': 'j', '=': '=', \"'\": ';', '\"': ':', '(': '/', ')': '(', '*': ')', '3': '[', '8': ']', 'a': '*', 'b': '0', 'd': '1', 'e': '2', 'f': '3', 'h': '4', 'i': '5', 'j': '6', 'k': '7', 'o': '8', 'q': '9', 't': 'q', 'y': 'z'}\n"
     ]
    }
   ],
   "source": [
    "print(symbdict)"
   ]
  },
  {
   "cell_type": "code",
   "execution_count": 33,
   "metadata": {},
   "outputs": [],
   "source": [
    "def charswap(symbdict2):\n",
    "    sigmas, s = random.choice(list(symbdict2.items()))\n",
    "    sigmasprime, sprime = random.choice(list(symbdict2.items()))\n",
    "    if(sigmas == sigmasprime):\n",
    "        charswap(symbdict2)\n",
    "    else:\n",
    "        symbdict2[sigmas] = sprime\n",
    "        symbdict2[sigmasprime] = s\n",
    "    \n",
    "    return symbdict2"
   ]
  },
  {
   "cell_type": "code",
   "execution_count": 34,
   "metadata": {},
   "outputs": [],
   "source": [
    "def likelihood(transmatr, mess, symbdict1, symbols1):\n",
    "    n = len(mess)\n",
    "    logl = 0\n",
    "    \n",
    "    for i in range(n-1):\n",
    "        chari = symbdict1.get(mess[i])\n",
    "        chari = int(np.where(symbols1 == chari)[0])\n",
    "        charj = symbdict1.get(mess[i+1])\n",
    "        charj = int(np.where(symbols1 == charj)[0])\n",
    "        logl = logl + np.log(transmatr[chari][charj])\n",
    "    \n",
    "    return logl"
   ]
  },
  {
   "cell_type": "code",
   "execution_count": 35,
   "metadata": {},
   "outputs": [],
   "source": [
    "def MH_Kernel(symbdict, transmatr, symbols, mess):\n",
    "    switchdict = charswap(symbdict.copy())\n",
    "    like1 = likelihood(np.copy(transmatr), mess, symbdict.copy(), np.copy(symbols))\n",
    "    like2 = likelihood(np.copy(transmatr), mess, switchdict.copy(), np.copy(symbols))\n",
    "    A = np.exp(like2-like1)\n",
    "    if A > 1:\n",
    "        A = 1\n",
    "    if random.random() < A:\n",
    "        symbdict = switchdict\n",
    "        swap = 1\n",
    "    else:\n",
    "        swap = 0\n",
    "        \n",
    "    return symbdict, swap"
   ]
  },
  {
   "cell_type": "code",
   "execution_count": 36,
   "metadata": {},
   "outputs": [],
   "source": [
    "def decode(mess, symbdict):\n",
    "    translated = \"\"\n",
    "    for symb in mess.lower():\n",
    "        if symbdict.get(symb) != None:\n",
    "            translated = translated+(symbdict.get(symb))\n",
    "    print(translated[0:59])\n",
    "    return translated"
   ]
  },
  {
   "cell_type": "code",
   "execution_count": 37,
   "metadata": {
    "scrolled": false
   },
   "outputs": [
    {
     "name": "stdout",
     "output_type": "stream",
     "text": [
      "Iteration:  0\n",
      "on lw whunges tnm lhse furnestpre wetsi lw ytades gtfe le i\n",
      "Iteration:  100\n",
      "on fw whunaes tnm fhse durnestpre wetsg fw ytiles atde fe g\n",
      "Iteration:  200\n",
      "on hw waunfes tnm hase durnestpre wetsg hw ytiles ftde he g\n",
      "Iteration:  300\n",
      "or wh haurfen irm wane dusrenipse heing wh yitlen fide we g\n",
      "Iteration:  400\n",
      "ar wh hourfen irm wone dusrenipse heing wh yitlen fide we g\n",
      "Iteration:  500\n",
      "ar wh houryen ird wone musrenipse heing wh fitlen yime we g\n",
      "Iteration:  600\n",
      "ar wl louryen ird wone musrenipse leing wl fithen yime we g\n",
      "Iteration:  700\n",
      "ar bl louryen ird bone mugrenipge leins bl fithen yime be s\n",
      "Iteration:  800\n",
      "ar bl louryen ird bone mugrenipge leins bl fithen yime be s\n",
      "Iteration:  900\n",
      "ar bl louryen ird bone mugrenipge leins bl fithen yime be s\n",
      "Iteration:  1000\n",
      "ar bl lourken ird bone mugrenipge leins bl fithen kime be s\n",
      "Iteration:  1100\n",
      "ar bl lourken ird bone mufrenipfe leins bl githen kime be s\n",
      "Iteration:  1200\n",
      "ar bl lourken ird bone mufrenipfe leins bl githen kime be s\n",
      "Iteration:  1300\n",
      "ar bl lourken ird bone mufrenipfe leins bl githen kime be s\n",
      "Iteration:  1400\n",
      "ar bl lourken ird bone mufrenipfe leins bl githen kime be s\n",
      "Iteration:  1500\n",
      "ar bl lourken ird bone mufrenipfe leins bl githen kime be s\n",
      "Iteration:  1600\n",
      "ar bl lourken ird bone mufrenipfe leins bl githen kime be s\n",
      "Iteration:  1700\n",
      "ar bl lourken ird bone mufrenipfe leins bl githen kime be s\n",
      "Iteration:  1800\n",
      "ar pl lourken ird pone mufrenibfe leins pl githen kime pe s\n",
      "Iteration:  1900\n",
      "ar pl lourken ird pone mufrenibfe leins pl githen kime pe s\n",
      "Iteration:  2000\n",
      "ar pl lourken ird pone gufrenibfe leins pl mithen kige pe s\n",
      "Iteration:  2100\n",
      "ar pl lourken ird pone gufrenibfe leins pl mithen kige pe s\n",
      "Iteration:  2200\n",
      "ar pl lourken ird pone gufrenibfe leins pl mithen kige pe s\n",
      "Iteration:  2300\n",
      "ar pl lourken ird pone gufrenibfe leins pl mithen kige pe s\n",
      "Iteration:  2400\n",
      "ar pl lourken ird pone gufrenibfe leins pl mithen kige pe s\n",
      "Iteration:  2500\n",
      "ar pf fourken ird pone gulrenible feins pf mithen kige pe s\n",
      "Iteration:  2600\n",
      "ir pf fourken ard pone gulrenable feans pf mathen kage pe s\n",
      "Iteration:  2700\n",
      "ir pf fourken ard pone gulrenable feans pf mathen kage pe s\n",
      "Iteration:  2800\n",
      "ir pf fourken ard pone gulrenable feans pf mathen kage pe s\n",
      "Iteration:  2900\n",
      "ir py yourken ard pone gulrenable yeans py mathen kage pe s\n",
      "Iteration:  3000\n",
      "ir py yourken ard pone gulrenable yeans py mathen kage pe s\n",
      "Iteration:  3100\n",
      "ir py yourken ard pone gulrenable yeans py mathen kage pe s\n",
      "Iteration:  3200\n",
      "ir my yourken ard mone gulrenable yeans my pathen kage me s\n",
      "Iteration:  3300\n",
      "ir my yourken ard mone culrenable yeans my pathen kace me s\n",
      "Iteration:  3400\n",
      "ir my yourken ard mone culrenable yeans my pathen kace me s\n",
      "Iteration:  3500\n",
      "ir my yourken ard mone culrenable yeans my pathen kace me s\n",
      "Iteration:  3600\n",
      "ir my yourken ard mone culrenable yeans my pathen kace me s\n",
      "Iteration:  3700\n",
      "ir my yourken ard mone culrenable yeans my pathen kace me s\n",
      "Iteration:  3800\n",
      "ir my yourken ard mone culrenable yeans my fathen kace me s\n",
      "Iteration:  3900\n",
      "ir my yourken ard mone culrenable yeans my fathen kace me s\n",
      "Iteration:  4000\n",
      "ir my yourken ard mone culrenable yeans my fathen kace me s\n",
      "Iteration:  4100\n",
      "ir my yourken ard mone culrenable yeans my fathen kace me s\n",
      "Iteration:  4200\n",
      "ir my yourken ard mone culrenable yeans my fathen kace me s\n",
      "Iteration:  4300\n",
      "ir my yourken ard mone culrenable yeans my fathen kace me s\n",
      "Iteration:  4400\n",
      "ir my yourken ard mone culrenaple yeans my fathen kace me s\n",
      "Iteration:  4500\n",
      "ir my yourken ard mone culrenaple yeans my fathen kace me s\n",
      "Iteration:  4600\n",
      "ir my yourken ard mone culrenaple yeans my fathen kace me s\n",
      "Iteration:  4700\n",
      "ir my yourken ard mone culrenaple yeans my fathen kace me s\n",
      "Iteration:  4800\n",
      "ir my yourken ard mone culrenaple yeans my fathen kace me s\n",
      "Iteration:  4900\n",
      "ir my yourken ard mone culrenaple yeans my fathen kace me s\n",
      "Iteration:  5000\n",
      "ir my yourken ard mone culrenaple yeans my fathen kace me s\n",
      "Iteration:  5100\n",
      "ir my yourken ard mone culrenaple yeans my fathen kace me s\n",
      "Iteration:  5200\n",
      "ir my yourken ard mone culrenaple yeans my fathen kace me s\n",
      "Iteration:  5300\n",
      "ir my yourken ard mone culrenaple yeans my fathen kace me s\n",
      "Iteration:  5400\n",
      "ir my yourken ard mone culrenaple yeans my fathen kace me s\n",
      "Iteration:  5500\n",
      "in my younker and more culneraple years my father kace me s\n",
      "Iteration:  5600\n",
      "in my younker and more gulneraple years my father kage me s\n",
      "Iteration:  5700\n",
      "in my younker and more gulneraple years my father kage me s\n",
      "Iteration:  5800\n",
      "in my younker and more gulneraple years my father kage me s\n",
      "Iteration:  5900\n",
      "in my younker and more gulneraple years my father kage me s\n",
      "Iteration:  6000\n",
      "in my younker and more gulneraple years my father kage me s\n",
      "Iteration:  6100\n",
      "in my younker and more gulneraple years my father kage me s\n",
      "Iteration:  6200\n",
      "in my younker and more gulneraple years my father kage me s\n",
      "Iteration:  6300\n",
      "in my younker and more gulneraple years my father kage me s\n",
      "Iteration:  6400\n",
      "in my younker and more gulneraple years my father kage me s\n",
      "Iteration:  6500\n",
      "in my younker and more gulnerable years my father kage me s\n",
      "Iteration:  6600\n",
      "in my younker and more gulnerable years my father kage me s\n",
      "Iteration:  6700\n",
      "in my younker and more gulnerable years my father kage me s\n",
      "Iteration:  6800\n",
      "in my younker and more gulnerable years my father kage me s\n",
      "Iteration:  6900\n",
      "in my younker and more gulnerable years my father kage me s\n",
      "Iteration:  7000\n",
      "in my younker and more gulnerable years my father kage me s\n",
      "Iteration:  7100\n",
      "in my younker and more gulnerable years my father kage me s\n",
      "Iteration:  7200\n",
      "in my younker and more gulnerable years my father kage me s\n",
      "Iteration:  7300\n",
      "in my younker and more gulnerable years my father kage me s\n",
      "Iteration:  7400\n",
      "in my younker and more gulnerable years my father kage me s\n",
      "Iteration:  7500\n",
      "in my younker and more gulnerable years my father kage me s\n",
      "Iteration:  7600\n",
      "in my younker and more gulnerable years my father kage me s\n",
      "Iteration:  7700\n",
      "in my younker and more gulnerable years my father kage me s\n",
      "Iteration:  7800\n",
      "in my younker and more gulnerable years my father kage me s\n",
      "Iteration:  7900\n",
      "in my younker and more gulnerable years my father kage me s\n",
      "Iteration:  8000\n",
      "in my younker and more gulnerable years my father kage me s\n",
      "Iteration:  8100\n",
      "in my younker and more gulnerable years my father kage me s\n",
      "Iteration:  8200\n",
      "in my younker and more gulnerable years my father kage me s\n",
      "Iteration:  8300\n",
      "in my younker and more gulnerable years my father kage me s\n",
      "Iteration:  8400\n",
      "in my younker and more gulnerable years my father kage me s\n",
      "Iteration:  8500\n",
      "in my younker and more gulnerable years my father kage me s\n",
      "Iteration:  8600\n",
      "in my younker and more gulnerable years my father kage me s\n",
      "Iteration:  8700\n",
      "in my younker and more vulnerable years my father kave me s\n",
      "Iteration:  8800\n",
      "in my younker and more vulnerable years my father kave me s\n",
      "Iteration:  8900\n",
      "in my younker and more vulnerable years my father kave me s\n",
      "Iteration:  9000\n",
      "in my younker and more vulnerable years my father kave me s\n",
      "Iteration:  9100\n",
      "in my younker and more vulnerable years my father kave me s\n",
      "Iteration:  9200\n",
      "in my younker and more vulnerable years my father kave me s\n",
      "Iteration:  9300\n",
      "in my younger and more vulnerable years my father gave me s\n",
      "Iteration:  9400\n",
      "in my younger and more vulnerable years my father gave me s\n",
      "Iteration:  9500\n",
      "in my younger and more vulnerable years my father gave me s\n",
      "Iteration:  9600\n",
      "in my younger and more vulnerable years my father gave me s\n",
      "Iteration:  9700\n",
      "in my younger and more vulnerable years my father gave me s\n",
      "Iteration:  9800\n",
      "in my younger and more vulnerable years my father gave me s\n",
      "Iteration:  9900\n",
      "in my younger and more vulnerable years my father gave me s\n",
      "in my younger and more vulnerable years my father gave me s\n"
     ]
    }
   ],
   "source": [
    "totswaps = 0\n",
    "for i in range(0, 10000):\n",
    "    symbdict, swap = MH_Kernel(symbdict, Tmat, symbols, mess)\n",
    "    totswaps = totswaps+swap\n",
    "    if i % 100 == 0:\n",
    "        print(\"Iteration: \", i)\n",
    "        decode(mess, symbdict)\n",
    "    \n",
    "decodedmessage=decode(mess,symbdict)"
   ]
  },
  {
   "cell_type": "code",
   "execution_count": 22,
   "metadata": {},
   "outputs": [
    {
     "name": "stdout",
     "output_type": "stream",
     "text": [
      "in my younger and more vulnerable years my father gave me s\n",
      "in my younger and more vulnerable years my father gave me some advice that i've been turning over in my mind ever since. \"whenever you feel like criticizing any one,\" he told me, \"just remember that all the people in this world haven't had the advantages that you've had.\" he didn't say any more but we've always been unusually communicative in a reserved way, and i understood that he meant a great deal more than that. in consequence i'm inclined to reserve all judgments, a habit that has opened up many curious natures to me and also made me the victim of not a few veteran bores. the abnormal mind is quick to detect and attach itself to this quality when it appears in a normal person, and so it came about that in college i was unjustly accused of being a politician, because i was privy to the secret griefs of wild, unknown men. most of the confidences were unsought--frequently i have feigned sleep, preoccupation, or a hostile levity when i realized by some unmistakable sign that an intimate revelation was quivering on the horizon--for the intimate revelations of young men or at least the terms in which they express them are usually plagiaristic and marred by obvious suppressions. reserving judgments is a matter of infinite hope. i am still a little afraid of missing something if i forget that, as my father snobbishly suggested, and i snobbishly repeat a sense of the fundamental decencies is parcelled out unequally at birth.\n"
     ]
    }
   ],
   "source": [
    "decodedmessage = decode(mess, symbdict)\n",
    "print(decodedmessage)"
   ]
  },
  {
   "cell_type": "code",
   "execution_count": null,
   "metadata": {},
   "outputs": [],
   "source": []
  }
 ],
 "metadata": {
  "kernelspec": {
   "display_name": "Python 3",
   "language": "python",
   "name": "python3"
  },
  "language_info": {
   "codemirror_mode": {
    "name": "ipython",
    "version": 3
   },
   "file_extension": ".py",
   "mimetype": "text/x-python",
   "name": "python",
   "nbconvert_exporter": "python",
   "pygments_lexer": "ipython3",
   "version": "3.7.4"
  }
 },
 "nbformat": 4,
 "nbformat_minor": 2
}
